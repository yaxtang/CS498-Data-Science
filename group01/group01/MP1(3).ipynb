{
 "cells": [
  {
   "cell_type": "code",
   "execution_count": 1,
   "metadata": {
    "collapsed": true
   },
   "outputs": [],
   "source": [
    "import numpy as np\n",
    "import matplotlib.pyplot as plt\n",
    "import matplotlib\n",
    "import pandas as pd"
   ]
  },
  {
   "cell_type": "markdown",
   "metadata": {},
   "source": [
    "# Task 0"
   ]
  },
  {
   "cell_type": "code",
   "execution_count": 2,
   "metadata": {
    "collapsed": true
   },
   "outputs": [],
   "source": [
    "month1 = pd.read_csv(\"mar13_decoded\", sep='\\t')\n",
    "month2 = pd.read_csv(\"apr13_decoded\", sep='\\t')\n",
    "\n",
    "# merge datasets into df\n",
    "df = pd.concat([month1, month2])\n",
    "df.index+=1\n",
    "df = df.drop(['NodeID','Socket','Apic','Err Val','Misc'], axis=1)"
   ]
  },
  {
   "cell_type": "code",
   "execution_count": 3,
   "metadata": {},
   "outputs": [
    {
     "data": {
      "text/html": [
       "<div>\n",
       "<style>\n",
       "    .dataframe thead tr:only-child th {\n",
       "        text-align: right;\n",
       "    }\n",
       "\n",
       "    .dataframe thead th {\n",
       "        text-align: left;\n",
       "    }\n",
       "\n",
       "    .dataframe tbody tr th {\n",
       "        vertical-align: top;\n",
       "    }\n",
       "</style>\n",
       "<table border=\"1\" class=\"dataframe\">\n",
       "  <thead>\n",
       "    <tr style=\"text-align: right;\">\n",
       "      <th></th>\n",
       "      <th>Date Time</th>\n",
       "      <th>Complete Node</th>\n",
       "      <th>Cabinet</th>\n",
       "      <th>Chassis</th>\n",
       "      <th>Slot</th>\n",
       "      <th>Node</th>\n",
       "      <th>Node Type</th>\n",
       "      <th>Processor</th>\n",
       "      <th>Time</th>\n",
       "      <th>Bank</th>\n",
       "      <th>...</th>\n",
       "      <th>Link</th>\n",
       "      <th>Cache way in error</th>\n",
       "      <th>Syndrome</th>\n",
       "      <th>Core</th>\n",
       "      <th>Errorcode</th>\n",
       "      <th>Ext_errorcode</th>\n",
       "      <th>Error Type</th>\n",
       "      <th>Addr</th>\n",
       "      <th>Addr Desc</th>\n",
       "      <th>Errorcode Type</th>\n",
       "    </tr>\n",
       "  </thead>\n",
       "  <tbody>\n",
       "    <tr>\n",
       "      <th>1</th>\n",
       "      <td>2013-03-04 00:01:06</td>\n",
       "      <td>c22-5c2s5n0</td>\n",
       "      <td>22-5</td>\n",
       "      <td>2.0</td>\n",
       "      <td>5.0</td>\n",
       "      <td>0.0</td>\n",
       "      <td>xe</td>\n",
       "      <td>2:600f12</td>\n",
       "      <td>1.362377e+09</td>\n",
       "      <td>4</td>\n",
       "      <td>...</td>\n",
       "      <td>NaN</td>\n",
       "      <td>NaN</td>\n",
       "      <td>'11011111</td>\n",
       "      <td>NaN</td>\n",
       "      <td>'100000010011</td>\n",
       "      <td>'1000</td>\n",
       "      <td>ECC Error</td>\n",
       "      <td>c25be2780</td>\n",
       "      <td>Physical</td>\n",
       "      <td>bus</td>\n",
       "    </tr>\n",
       "    <tr>\n",
       "      <th>2</th>\n",
       "      <td>2013-03-04 00:02:41</td>\n",
       "      <td>c22-6c0s0n3</td>\n",
       "      <td>22-6</td>\n",
       "      <td>0.0</td>\n",
       "      <td>0.0</td>\n",
       "      <td>3.0</td>\n",
       "      <td>xe</td>\n",
       "      <td>2:600f12</td>\n",
       "      <td>1.362377e+09</td>\n",
       "      <td>4</td>\n",
       "      <td>...</td>\n",
       "      <td>NaN</td>\n",
       "      <td>NaN</td>\n",
       "      <td>'1000000000100000</td>\n",
       "      <td>NaN</td>\n",
       "      <td>'101000010011</td>\n",
       "      <td>'1000</td>\n",
       "      <td>ECC Error</td>\n",
       "      <td>83305e6b0</td>\n",
       "      <td>Physical</td>\n",
       "      <td>bus</td>\n",
       "    </tr>\n",
       "    <tr>\n",
       "      <th>3</th>\n",
       "      <td>2013-03-04 00:03:37</td>\n",
       "      <td>c22-5c2s5n0</td>\n",
       "      <td>22-5</td>\n",
       "      <td>2.0</td>\n",
       "      <td>5.0</td>\n",
       "      <td>0.0</td>\n",
       "      <td>xe</td>\n",
       "      <td>2:600f12</td>\n",
       "      <td>1.362377e+09</td>\n",
       "      <td>4</td>\n",
       "      <td>...</td>\n",
       "      <td>NaN</td>\n",
       "      <td>NaN</td>\n",
       "      <td>'11011111</td>\n",
       "      <td>NaN</td>\n",
       "      <td>'100000010011</td>\n",
       "      <td>'1000</td>\n",
       "      <td>ECC Error</td>\n",
       "      <td>c25be2780</td>\n",
       "      <td>Physical</td>\n",
       "      <td>bus</td>\n",
       "    </tr>\n",
       "    <tr>\n",
       "      <th>4</th>\n",
       "      <td>2013-03-04 00:04:51</td>\n",
       "      <td>c8-9c2s7n0</td>\n",
       "      <td>8-9</td>\n",
       "      <td>2.0</td>\n",
       "      <td>7.0</td>\n",
       "      <td>0.0</td>\n",
       "      <td>xe</td>\n",
       "      <td>2:600f12</td>\n",
       "      <td>1.362377e+09</td>\n",
       "      <td>4</td>\n",
       "      <td>...</td>\n",
       "      <td>NaN</td>\n",
       "      <td>NaN</td>\n",
       "      <td>'1000000000</td>\n",
       "      <td>NaN</td>\n",
       "      <td>'101000010011</td>\n",
       "      <td>'1000</td>\n",
       "      <td>ECC Error</td>\n",
       "      <td>435669be0</td>\n",
       "      <td>Physical</td>\n",
       "      <td>bus</td>\n",
       "    </tr>\n",
       "    <tr>\n",
       "      <th>5</th>\n",
       "      <td>2013-03-04 00:07:21</td>\n",
       "      <td>c22-5c2s5n0</td>\n",
       "      <td>22-5</td>\n",
       "      <td>2.0</td>\n",
       "      <td>5.0</td>\n",
       "      <td>0.0</td>\n",
       "      <td>xe</td>\n",
       "      <td>2:600f12</td>\n",
       "      <td>1.362377e+09</td>\n",
       "      <td>4</td>\n",
       "      <td>...</td>\n",
       "      <td>NaN</td>\n",
       "      <td>NaN</td>\n",
       "      <td>'11011111</td>\n",
       "      <td>NaN</td>\n",
       "      <td>'100000010011</td>\n",
       "      <td>'1000</td>\n",
       "      <td>ECC Error</td>\n",
       "      <td>c25be2780</td>\n",
       "      <td>Physical</td>\n",
       "      <td>bus</td>\n",
       "    </tr>\n",
       "  </tbody>\n",
       "</table>\n",
       "<p>5 rows × 31 columns</p>\n",
       "</div>"
      ],
      "text/plain": [
       "             Date Time Complete Node Cabinet  Chassis  Slot  Node Node Type  \\\n",
       "1  2013-03-04 00:01:06   c22-5c2s5n0    22-5      2.0   5.0   0.0        xe   \n",
       "2  2013-03-04 00:02:41   c22-6c0s0n3    22-6      0.0   0.0   3.0        xe   \n",
       "3  2013-03-04 00:03:37   c22-5c2s5n0    22-5      2.0   5.0   0.0        xe   \n",
       "4  2013-03-04 00:04:51    c8-9c2s7n0     8-9      2.0   7.0   0.0        xe   \n",
       "5  2013-03-04 00:07:21   c22-5c2s5n0    22-5      2.0   5.0   0.0        xe   \n",
       "\n",
       "   Processor          Time  Bank       ...        Link  Cache way in error  \\\n",
       "1  2:600f12   1.362377e+09     4       ...         NaN                 NaN   \n",
       "2  2:600f12   1.362377e+09     4       ...         NaN                 NaN   \n",
       "3  2:600f12   1.362377e+09     4       ...         NaN                 NaN   \n",
       "4  2:600f12   1.362377e+09     4       ...         NaN                 NaN   \n",
       "5  2:600f12   1.362377e+09     4       ...         NaN                 NaN   \n",
       "\n",
       "            Syndrome  Core      Errorcode  Ext_errorcode  Error Type  \\\n",
       "1          '11011111   NaN  '100000010011          '1000   ECC Error   \n",
       "2  '1000000000100000   NaN  '101000010011          '1000   ECC Error   \n",
       "3          '11011111   NaN  '100000010011          '1000   ECC Error   \n",
       "4        '1000000000   NaN  '101000010011          '1000   ECC Error   \n",
       "5          '11011111   NaN  '100000010011          '1000   ECC Error   \n",
       "\n",
       "        Addr  Addr Desc  Errorcode Type  \n",
       "1  c25be2780   Physical             bus  \n",
       "2  83305e6b0   Physical             bus  \n",
       "3  c25be2780   Physical             bus  \n",
       "4  435669be0   Physical             bus  \n",
       "5  c25be2780   Physical             bus  \n",
       "\n",
       "[5 rows x 31 columns]"
      ]
     },
     "execution_count": 3,
     "metadata": {},
     "output_type": "execute_result"
    }
   ],
   "source": [
    "df.head()"
   ]
  },
  {
   "cell_type": "code",
   "execution_count": 4,
   "metadata": {},
   "outputs": [
    {
     "data": {
      "text/plain": [
       "Index(['Date Time', 'Complete Node', 'Cabinet', 'Chassis', 'Slot', 'Node',\n",
       "       'Node Type', 'Processor', 'Time', 'Bank', 'OV', 'UC', 'PCC', 'CECC',\n",
       "       'UECC', 'DEF', 'POISON', 'L3 Subcache', 'Sub Link', 'LDT Link', 'Scrub',\n",
       "       'Link', 'Cache way in error', 'Syndrome', 'Core', 'Errorcode',\n",
       "       'Ext_errorcode', 'Error Type', 'Addr', 'Addr Desc', 'Errorcode Type'],\n",
       "      dtype='object')"
      ]
     },
     "execution_count": 4,
     "metadata": {},
     "output_type": "execute_result"
    }
   ],
   "source": [
    "df.keys()"
   ]
  },
  {
   "cell_type": "code",
   "execution_count": 5,
   "metadata": {
    "collapsed": true
   },
   "outputs": [],
   "source": [
    "df = df[df['Node Type'] != 'service_not_present']\n",
    "df['datetime'] = pd.to_datetime(df['Time'], unit='s')\n",
    "# df['datetime'] = df['datetime'].dt.tz_localize('America/Chicago', ambiguous=True)\n"
   ]
  },
  {
   "cell_type": "code",
   "execution_count": 6,
   "metadata": {},
   "outputs": [
    {
     "name": "stdout",
     "output_type": "stream",
     "text": [
      "(310105, 32)\n"
     ]
    }
   ],
   "source": [
    "df = df[(1362117600 < df['Time']) & (df['Time'] < 1367384399)]\n",
    "print (df.shape)"
   ]
  },
  {
   "cell_type": "code",
   "execution_count": 7,
   "metadata": {},
   "outputs": [
    {
     "name": "stdout",
     "output_type": "stream",
     "text": [
      "2013-03-04 05:13:23\n",
      "2013-05-01 04:58:26\n"
     ]
    }
   ],
   "source": [
    "print(min(df['datetime']))\n",
    "print(max(df['datetime']))"
   ]
  },
  {
   "cell_type": "markdown",
   "metadata": {},
   "source": [
    "#### Total number of entries"
   ]
  },
  {
   "cell_type": "code",
   "execution_count": 8,
   "metadata": {},
   "outputs": [
    {
     "data": {
      "text/plain": [
       "310105"
      ]
     },
     "execution_count": 8,
     "metadata": {},
     "output_type": "execute_result"
    }
   ],
   "source": [
    "len(df)"
   ]
  },
  {
   "cell_type": "markdown",
   "metadata": {},
   "source": [
    "#### Unique number of nodes"
   ]
  },
  {
   "cell_type": "code",
   "execution_count": 9,
   "metadata": {},
   "outputs": [
    {
     "data": {
      "text/plain": [
       "6007"
      ]
     },
     "execution_count": 9,
     "metadata": {},
     "output_type": "execute_result"
    }
   ],
   "source": [
    "len(df['Complete Node'].unique())"
   ]
  },
  {
   "cell_type": "code",
   "execution_count": 10,
   "metadata": {},
   "outputs": [
    {
     "data": {
      "text/plain": [
       "59"
      ]
     },
     "execution_count": 10,
     "metadata": {},
     "output_type": "execute_result"
    }
   ],
   "source": [
    "# number of days\n",
    "# normalize() sets the time to 00:00:00 giving us only the date portion of the timestamp/\n",
    "len(df['datetime'].dt.normalize().unique())"
   ]
  },
  {
   "cell_type": "code",
   "execution_count": 11,
   "metadata": {},
   "outputs": [
    {
     "data": {
      "text/plain": [
       "array(['xe', 'service', 'xk'], dtype=object)"
      ]
     },
     "execution_count": 11,
     "metadata": {},
     "output_type": "execute_result"
    }
   ],
   "source": [
    "# node types\n",
    "df['Node Type'].unique()"
   ]
  },
  {
   "cell_type": "code",
   "execution_count": 12,
   "metadata": {},
   "outputs": [
    {
     "data": {
      "text/html": [
       "<div>\n",
       "<style>\n",
       "    .dataframe thead tr:only-child th {\n",
       "        text-align: right;\n",
       "    }\n",
       "\n",
       "    .dataframe thead th {\n",
       "        text-align: left;\n",
       "    }\n",
       "\n",
       "    .dataframe tbody tr th {\n",
       "        vertical-align: top;\n",
       "    }\n",
       "</style>\n",
       "<table border=\"1\" class=\"dataframe\">\n",
       "  <thead>\n",
       "    <tr style=\"text-align: right;\">\n",
       "      <th></th>\n",
       "      <th>Date Time</th>\n",
       "      <th>Complete Node</th>\n",
       "      <th>Cabinet</th>\n",
       "      <th>Chassis</th>\n",
       "      <th>Slot</th>\n",
       "      <th>Node</th>\n",
       "      <th>Node Type</th>\n",
       "      <th>Processor</th>\n",
       "      <th>Time</th>\n",
       "      <th>Bank</th>\n",
       "      <th>...</th>\n",
       "      <th>Cache way in error</th>\n",
       "      <th>Syndrome</th>\n",
       "      <th>Core</th>\n",
       "      <th>Errorcode</th>\n",
       "      <th>Ext_errorcode</th>\n",
       "      <th>Error Type</th>\n",
       "      <th>Addr</th>\n",
       "      <th>Addr Desc</th>\n",
       "      <th>Errorcode Type</th>\n",
       "      <th>datetime</th>\n",
       "    </tr>\n",
       "  </thead>\n",
       "  <tbody>\n",
       "    <tr>\n",
       "      <th>103984</th>\n",
       "      <td>2013-03-20 21:20:18</td>\n",
       "      <td>c6-4c0s7n3</td>\n",
       "      <td>6-4</td>\n",
       "      <td>0.0</td>\n",
       "      <td>7.0</td>\n",
       "      <td>3.0</td>\n",
       "      <td>xe</td>\n",
       "      <td>2:600f12</td>\n",
       "      <td>1.363832e+09</td>\n",
       "      <td>0</td>\n",
       "      <td>...</td>\n",
       "      <td>'0</td>\n",
       "      <td>NaN</td>\n",
       "      <td>NaN</td>\n",
       "      <td>'110001001</td>\n",
       "      <td>'10000</td>\n",
       "      <td>Tag Error : Tag Array</td>\n",
       "      <td>c58c01e80</td>\n",
       "      <td>Physical</td>\n",
       "      <td>mem</td>\n",
       "      <td>2013-03-21 02:20:18</td>\n",
       "    </tr>\n",
       "    <tr>\n",
       "      <th>156485</th>\n",
       "      <td>2013-03-28 07:15:35</td>\n",
       "      <td>c5-3c0s7n3</td>\n",
       "      <td>5-3</td>\n",
       "      <td>0.0</td>\n",
       "      <td>7.0</td>\n",
       "      <td>3.0</td>\n",
       "      <td>xe</td>\n",
       "      <td>2:600f12</td>\n",
       "      <td>1.364473e+09</td>\n",
       "      <td>0</td>\n",
       "      <td>...</td>\n",
       "      <td>'0</td>\n",
       "      <td>NaN</td>\n",
       "      <td>NaN</td>\n",
       "      <td>'110001001</td>\n",
       "      <td>'10000</td>\n",
       "      <td>Tag Error : Tag Array</td>\n",
       "      <td>a7dff0740</td>\n",
       "      <td>Physical</td>\n",
       "      <td>mem</td>\n",
       "      <td>2013-03-28 12:15:35</td>\n",
       "    </tr>\n",
       "    <tr>\n",
       "      <th>24495</th>\n",
       "      <td>2013-04-04 22:08:12</td>\n",
       "      <td>c10-1c1s6n0</td>\n",
       "      <td>10-1</td>\n",
       "      <td>1.0</td>\n",
       "      <td>6.0</td>\n",
       "      <td>0.0</td>\n",
       "      <td>xe</td>\n",
       "      <td>2:600f12</td>\n",
       "      <td>1.365131e+09</td>\n",
       "      <td>0</td>\n",
       "      <td>...</td>\n",
       "      <td>'0</td>\n",
       "      <td>NaN</td>\n",
       "      <td>NaN</td>\n",
       "      <td>'110001001</td>\n",
       "      <td>'10000</td>\n",
       "      <td>Tag Error : Tag Array</td>\n",
       "      <td>6180b1a40</td>\n",
       "      <td>Physical</td>\n",
       "      <td>mem</td>\n",
       "      <td>2013-04-05 03:08:12</td>\n",
       "    </tr>\n",
       "  </tbody>\n",
       "</table>\n",
       "<p>3 rows × 32 columns</p>\n",
       "</div>"
      ],
      "text/plain": [
       "                  Date Time Complete Node Cabinet  Chassis  Slot  Node  \\\n",
       "103984  2013-03-20 21:20:18    c6-4c0s7n3     6-4      0.0   7.0   3.0   \n",
       "156485  2013-03-28 07:15:35    c5-3c0s7n3     5-3      0.0   7.0   3.0   \n",
       "24495   2013-04-04 22:08:12   c10-1c1s6n0    10-1      1.0   6.0   0.0   \n",
       "\n",
       "       Node Type  Processor          Time  Bank         ...          \\\n",
       "103984        xe  2:600f12   1.363832e+09     0         ...           \n",
       "156485        xe  2:600f12   1.364473e+09     0         ...           \n",
       "24495         xe  2:600f12   1.365131e+09     0         ...           \n",
       "\n",
       "        Cache way in error  Syndrome  Core   Errorcode  Ext_errorcode  \\\n",
       "103984                  '0       NaN   NaN  '110001001         '10000   \n",
       "156485                  '0       NaN   NaN  '110001001         '10000   \n",
       "24495                   '0       NaN   NaN  '110001001         '10000   \n",
       "\n",
       "                   Error Type       Addr  Addr Desc  Errorcode Type  \\\n",
       "103984  Tag Error : Tag Array  c58c01e80   Physical             mem   \n",
       "156485  Tag Error : Tag Array  a7dff0740   Physical             mem   \n",
       "24495   Tag Error : Tag Array  6180b1a40   Physical             mem   \n",
       "\n",
       "                  datetime  \n",
       "103984 2013-03-21 02:20:18  \n",
       "156485 2013-03-28 12:15:35  \n",
       "24495  2013-04-05 03:08:12  \n",
       "\n",
       "[3 rows x 32 columns]"
      ]
     },
     "execution_count": 12,
     "metadata": {},
     "output_type": "execute_result"
    }
   ],
   "source": [
    "# uncorrectable errors\n",
    "df_final = df[(df['UC'] ==1)]\n",
    "\n",
    "df_final"
   ]
  },
  {
   "cell_type": "code",
   "execution_count": 13,
   "metadata": {},
   "outputs": [
    {
     "data": {
      "text/plain": [
       "array(['bus', 'mem', 'tlb'], dtype=object)"
      ]
     },
     "execution_count": 13,
     "metadata": {},
     "output_type": "execute_result"
    }
   ],
   "source": [
    "mcetype = df[~pd.isnull(df['Errorcode Type'])]\n",
    "mcetype['Errorcode Type'].unique()"
   ]
  },
  {
   "cell_type": "markdown",
   "metadata": {},
   "source": [
    "### Task0.3 Answer: For error, I think it is mainly included software error and it may or may not bring serve consequence to the function. But failure is the result of error in some cases. When an uncorrectable error is consumed, the function will crash and cause a failure."
   ]
  },
  {
   "cell_type": "markdown",
   "metadata": {},
   "source": [
    "#### Count the number of MCEs per node. Provide a box plot to summarize your results.\n",
    "Answer: 6007 complete nodes. Code below with box plot.\n",
    "We can see there are a lot of outliers and the mean is close to 1, and we total have 6007 complete nodes, there are 4139 nodes only appear once."
   ]
  },
  {
   "cell_type": "code",
   "execution_count": 14,
   "metadata": {},
   "outputs": [
    {
     "data": {
      "image/png": "[encoded data removed]",
      "text/plain": [
       "<matplotlib.figure.Figure at 0x2d4457d0b70>"
      ]
     },
     "metadata": {},
     "output_type": "display_data"
    },
    {
     "name": "stdout",
     "output_type": "stream",
     "text": [
      "4139\n"
     ]
    }
   ],
   "source": [
    "# don't forget to represent this data as a box plot\n",
    "data = df['Complete Node'].value_counts()\n",
    "\n",
    "df1 = pd.DataFrame(data,columns=['Complete Node'])\n",
    "df1.plot.box()\n",
    "plt.show()\n",
    "d = 0\n",
    "for i in range(6007):\n",
    "    if data[i] == 1:\n",
    "        d = d +1\n",
    "print(d)"
   ]
  },
  {
   "cell_type": "code",
   "execution_count": 15,
   "metadata": {},
   "outputs": [
    {
     "name": "stdout",
     "output_type": "stream",
     "text": [
      "For the whole dataset, the mean time is: 16.1568473802\n",
      "For the whole dataset, the std is: 116.51846226\n",
      "for xe the mean time is: 17.6926225166\n",
      "for xe the std is: 123.297755414\n",
      "for service the mean time is: 309.333869372\n",
      "for service the std is: 1692.8675718\n",
      "for xk the mean time is: 465.501302568\n",
      "for xk the std is: 1708.34827746\n"
     ]
    }
   ],
   "source": [
    "# 5. Compute the mean time between MCEs for:\n",
    "# 5.1 All nodes together (the whole dataset)\n",
    "df_sort=df.sort_values(by=['Time'])\n",
    "timevals = df_sort['Time'].values\n",
    "diffs = timevals[1:] - timevals[:-1]\n",
    "print (\"For the whole dataset, the mean time is: \"+str(diffs.mean() ))\n",
    "print (\"For the whole dataset, the std is: \"+str(diffs.std() ))\n",
    "\n",
    "\n",
    "# 5.2 Each of the node types (i.e. XE, XK, etc)\n",
    "list1=df['Node Type'].unique()\n",
    "for item in list1:\n",
    "    grouped=df.groupby(['Node Type']).get_group(item)\n",
    "    grouped_sort=grouped.sort_values(by=['Time'])\n",
    "    timevals_xe = grouped_sort['Time'].values\n",
    "    diffs_xe = timevals_xe[1:] - timevals_xe[:-1]\n",
    "    print (\"for \"+item+\" the mean time is: \"+str(diffs_xe.mean() ))\n",
    "    print (\"for \"+item+\" the std is: \"+str(diffs_xe.std() )  )"
   ]
  },
  {
   "cell_type": "markdown",
   "metadata": {},
   "source": [
    "# Task 1\n",
    "### Plot the time to MCE distribution. Does this fit any known distribution (e.g., Gaussian, Weibull, Exponential)?"
   ]
  },
  {
   "cell_type": "code",
   "execution_count": 16,
   "metadata": {},
   "outputs": [
    {
     "data": {
      "image/png": "[encoded data removed]",
      "text/plain": [
       "<matplotlib.figure.Figure at 0x2d44663ceb8>"
      ]
     },
     "metadata": {},
     "output_type": "display_data"
    }
   ],
   "source": [
    "from pandas import Series\n",
    "df1=df.sort_values(by=['Time'])['Time']\n",
    "df1.plot(kind='kde',title=\"Density of Time Distribution\")\n",
    "plt.show()"
   ]
  },
  {
   "cell_type": "code",
   "execution_count": 17,
   "metadata": {},
   "outputs": [
    {
     "name": "stdout",
     "output_type": "stream",
     "text": [
      "29478 2013-03-16 03:45:38 2013-03-15 19:34:20\n",
      "8089 2013-04-18 16:10:13 2013-04-18 13:55:24\n",
      "21444 2013-04-22 16:25:32 2013-04-22 10:28:08\n",
      "46795 2013-04-25 02:25:39 2013-04-24 13:25:44\n"
     ]
    },
    {
     "data": {
      "image/png": "[encoded data removed]",
      "text/plain": [
       "<matplotlib.figure.Figure at 0x2d450c77208>"
      ]
     },
     "metadata": {},
     "output_type": "display_data"
    },
    {
     "data": {
      "image/png": "[encoded data removed]",
      "text/plain": [
       "<matplotlib.figure.Figure at 0x2d44626e550>"
      ]
     },
     "metadata": {},
     "output_type": "display_data"
    }
   ],
   "source": [
    "start = ((df['datetime'].sort_values())[:-1])\n",
    "end = (df['datetime'].sort_values())[1:]\n",
    "start = list(start)\n",
    "end= list(end)\n",
    "dif = []\n",
    "extra = []\n",
    "\n",
    "for i in range(len(start)):\n",
    "    a = ((end[i]-start[i]).seconds)\n",
    "    dif.append(a)\n",
    "    extra.append(a)\n",
    "    if (a > 5000):\n",
    "        print(a,end[i],start[i])\n",
    "        extra.pop()\n",
    "\n",
    "\n",
    "ts = pd.Series(dif)\n",
    "ts.plot()\n",
    "plt.ylabel(\"Seconds between two consecutive nodes\")\n",
    "plt.xlabel(\"Index of nodes\")\n",
    "plt.title(\"Original Plot\")\n",
    "plt.show()\n",
    "\n",
    "\n",
    "\n",
    "after = pd.Series(extra)\n",
    "after.plot()\n",
    "plt.ylabel(\"Seconds between two consecutive nodes\")\n",
    "plt.xlabel(\"Index of nodes\")\n",
    "plt.title(\"Plot without outliers(above 5000s)\")\n",
    "plt.show()"
   ]
  },
  {
   "cell_type": "markdown",
   "metadata": {},
   "source": [
    "### What percentage of MCEs is due to memory errors?"
   ]
  },
  {
   "cell_type": "code",
   "execution_count": 18,
   "metadata": {},
   "outputs": [
    {
     "name": "stdout",
     "output_type": "stream",
     "text": [
      "0.4833072668934716\n"
     ]
    }
   ],
   "source": [
    "df_task1_2 = df.loc[(df['Errorcode Type'] == \"mem\")]\n",
    "mem_err = len(df_task1_2)\n",
    "total = len(df)\n",
    "print(mem_err/total)"
   ]
  },
  {
   "cell_type": "markdown",
   "metadata": {},
   "source": [
    "### Provide a breakdown of the number, type (e.g., ECC, L1, L2, memory) and % of machine check for the entire dataset and per node type.\n",
    "Construct a bar chart to visualize your results."
   ]
  },
  {
   "cell_type": "code",
   "execution_count": 19,
   "metadata": {},
   "outputs": [
    {
     "name": "stderr",
     "output_type": "stream",
     "text": [
      "D:\\Applications\\Anaconda3\\lib\\site-packages\\ipykernel_launcher.py:6: FutureWarning: using a dict on a Series for aggregation\n",
      "is deprecated and will be removed in a future version\n",
      "  \n"
     ]
    },
    {
     "data": {
      "image/png": "[encoded data removed]",
      "text/plain": [
       "<matplotlib.figure.Figure at 0x2d442c6bf98>"
      ]
     },
     "metadata": {},
     "output_type": "display_data"
    }
   ],
   "source": [
    "new_errortype=[]\n",
    "for item in df['Error Type']:\n",
    "    new_errortype.append(str(item).split()[0])\n",
    "df['Errortype']=new_errortype\n",
    "\n",
    "entire_count=df[df['Errortype'] != 'nan'].groupby('Errortype').datetime.agg({'sum':'count'})\n",
    "entire_count['percentage']=entire_count['sum']/df.shape[0]\n",
    "x=entire_count['sum'].sort_values()\n",
    "x.plot(kind='bar',title=\"For entire dataset\")\n",
    "plt.show()"
   ]
  },
  {
   "cell_type": "code",
   "execution_count": 20,
   "metadata": {},
   "outputs": [
    {
     "data": {
      "image/png": "[encoded data removed]",
      "text/plain": [
       "<matplotlib.figure.Figure at 0x2d450c899b0>"
      ]
     },
     "metadata": {},
     "output_type": "display_data"
    }
   ],
   "source": [
    "x=entire_count['percentage'].sort_values()\n",
    "x.plot(kind='bar',title=\"For entire dataset\")\n",
    "plt.show()"
   ]
  },
  {
   "cell_type": "code",
   "execution_count": 21,
   "metadata": {},
   "outputs": [
    {
     "name": "stderr",
     "output_type": "stream",
     "text": [
      "D:\\Applications\\Anaconda3\\lib\\site-packages\\ipykernel_launcher.py:1: FutureWarning: using a dict on a Series for aggregation\n",
      "is deprecated and will be removed in a future version\n",
      "  \"\"\"Entry point for launching an IPython kernel.\n"
     ]
    },
    {
     "data": {
      "image/png": "[encoded data removed]",
      "text/plain": [
       "<matplotlib.figure.Figure at 0x2d44626e7f0>"
      ]
     },
     "metadata": {},
     "output_type": "display_data"
    },
    {
     "data": {
      "image/png": "[encoded data removed]",
      "text/plain": [
       "<matplotlib.figure.Figure at 0x2d45c54ee10>"
      ]
     },
     "metadata": {},
     "output_type": "display_data"
    }
   ],
   "source": [
    "node_count=df[df['Errortype'] != 'nan'].groupby(['Errortype','Node Type']).datetime.agg({'sum':'count'})\n",
    "# node_counts = node_count.groupby(level=0).apply(lambda x: x / float(x.sum()))\n",
    "node_count['Ratio']=node_count['sum']/df.shape[0]\n",
    "x=node_count['sum']\n",
    "x.plot(kind='bar',title=\"Specific in each node type\")\n",
    "plt.show()\n",
    "plt.figure()\n",
    "x=node_count['Ratio']\n",
    "x.plot(kind='bar',title=\"Specific in each node type\")\n",
    "plt.show()"
   ]
  },
  {
   "cell_type": "markdown",
   "metadata": {},
   "source": [
    "### What is a correctable error, uncorrectable error and deferred error in this dataset?\n",
    "Answer: \n",
    "For this dataset, correctable errors are those CECC=1&UC=0, which have been corrected by hardware and cause no loss of data or corruption of processor state. So when a fetched line has an error only in the same rank and symbol identified by this register, then the error is a correctable chipkill error.  \n",
    "\n",
    "Uncorrectable error is when a fetched line has an error in the same rank and a different symbol than identified by this register, then there are at least two symbol errors in the line and the error is uncorrectable.Uncorrectable errors immediately result in a Machine Check exception.\n",
    "\n",
    "\n",
    "Deferred error equals to DEF=1. It is result of an uncorrectable data error which did not immediately cause a processor exceptionwhen. It is hardware partially dealt with the problem via containment.Deferred errors are errors that cannot be corrected by hardware, but do not cause an immediate interruption in program flow, loss of data integrity, or corruption of processor state. These errors indicate that data has been corrupted but not consumed; no exception is generated because the data has not been referenced by a core or an IO link. \n",
    "\n",
    "source: https://courses.engr.illinois.edu/ece498dsu/sp2018/docs/mp1/AMD_Manual_XEXK.pdf"
   ]
  },
  {
   "cell_type": "markdown",
   "metadata": {},
   "source": [
    "### Are there any uncorrectable errors? If yes, provide a histogram for the TBF for uncorrectable errors. Compute a separate MTBF and FIT for uncorrectable errors."
   ]
  },
  {
   "cell_type": "code",
   "execution_count": 22,
   "metadata": {},
   "outputs": [
    {
     "name": "stdout",
     "output_type": "stream",
     "text": [
      "Yes, there are three uncorrectable errors for the given amount of time\n",
      "The histogram for TBF for uncorrectable errors: \n"
     ]
    },
    {
     "data": {
      "image/png": "[encoded data removed]",
      "text/plain": [
       "<matplotlib.figure.Figure at 0x2d45c5dc400>"
      ]
     },
     "metadata": {},
     "output_type": "display_data"
    },
    {
     "name": "stdout",
     "output_type": "stream",
     "text": [
      "MTBF=180.399166667 hours\n",
      "FIT(number of failures in 10^9 hours)=2155558\n"
     ]
    }
   ],
   "source": [
    "print (\"Yes, there are three uncorrectable errors for the given amount of time\")\n",
    "print (\"The histogram for TBF for uncorrectable errors: \")\n",
    "\n",
    "df2=df[df['UC']==1].sort_values(by='Time')\n",
    "\n",
    "list_time=(df2['Time'].values)[1:] - (df2['Time'].values)[:-1]\n",
    "\n",
    "dff = pd.DataFrame(list_time,\n",
    "                 index=[1,2],\n",
    "                 columns=pd.Index(['TBF']\n",
    "                 )).round(2)\n",
    "dff.plot(kind='bar',figsize=(10,4))\n",
    "plt.ylabel(\"major and minor fault\")\n",
    "plt.title(\"Major and minor fault for each program\")\n",
    "plt.show()\n",
    "\n",
    "print (\"MTBF=\"+str(sum(list_time)/2/3600)+\" hours\")\n",
    "total_time=(df['Time'].max()-df['Time'].min())/3600\n",
    "print (\"FIT(number of failures in 10^9 hours)=\"+str(int((3 * 10**9)/total_time)))"
   ]
  },
  {
   "cell_type": "markdown",
   "metadata": {
    "collapsed": true
   },
   "source": [
    "# Task 2"
   ]
  },
  {
   "cell_type": "markdown",
   "metadata": {
    "collapsed": true
   },
   "source": [
    "# 1.Provide a breakdown of the memory errors % in Single, dual, triple, quadruple bit errors\n",
    "Use a table to summarize the data, for all node types (ALL, XE, XK, service)\n",
    "Use the x8 syndrome table in the AMD processor manual (section 2.13.2.5) to understand how to solve this problem"
   ]
  },
  {
   "cell_type": "code",
   "execution_count": 23,
   "metadata": {},
   "outputs": [
    {
     "data": {
      "text/html": [
       "<div>\n",
       "<style>\n",
       "    .dataframe thead tr:only-child th {\n",
       "        text-align: right;\n",
       "    }\n",
       "\n",
       "    .dataframe thead th {\n",
       "        text-align: left;\n",
       "    }\n",
       "\n",
       "    .dataframe tbody tr th {\n",
       "        vertical-align: top;\n",
       "    }\n",
       "</style>\n",
       "<table border=\"1\" class=\"dataframe\">\n",
       "  <thead>\n",
       "    <tr style=\"text-align: right;\">\n",
       "      <th></th>\n",
       "      <th>xk</th>\n",
       "      <th>xe</th>\n",
       "      <th>service</th>\n",
       "    </tr>\n",
       "    <tr>\n",
       "      <th>error_bits</th>\n",
       "      <th></th>\n",
       "      <th></th>\n",
       "      <th></th>\n",
       "    </tr>\n",
       "  </thead>\n",
       "  <tbody>\n",
       "    <tr>\n",
       "      <th>1</th>\n",
       "      <td>5989</td>\n",
       "      <td>141851</td>\n",
       "      <td>407.0</td>\n",
       "    </tr>\n",
       "    <tr>\n",
       "      <th>2</th>\n",
       "      <td>3726</td>\n",
       "      <td>3500</td>\n",
       "      <td>1.0</td>\n",
       "    </tr>\n",
       "    <tr>\n",
       "      <th>3</th>\n",
       "      <td>544</td>\n",
       "      <td>1649</td>\n",
       "      <td>NaN</td>\n",
       "    </tr>\n",
       "    <tr>\n",
       "      <th>4</th>\n",
       "      <td>169</td>\n",
       "      <td>1025</td>\n",
       "      <td>NaN</td>\n",
       "    </tr>\n",
       "  </tbody>\n",
       "</table>\n",
       "</div>"
      ],
      "text/plain": [
       "              xk      xe  service\n",
       "error_bits                       \n",
       "1           5989  141851    407.0\n",
       "2           3726    3500      1.0\n",
       "3            544    1649      NaN\n",
       "4            169    1025      NaN"
      ]
     },
     "execution_count": 23,
     "metadata": {},
     "output_type": "execute_result"
    }
   ],
   "source": [
    "memdf=(df.loc[df[\"Error Type\"] == \"ECC Error\"]).copy()\n",
    "\n",
    "\n",
    "#append the hex form(ep.0x10) to memdf    \n",
    "memdf['Syndrome_hex']=memdf['Syndrome'].apply(lambda x: ( hex(int((''.join(str(x))[1:]),2))))\n",
    "\n",
    "#create 4 bit hex number into \"hex\" column\n",
    "memdf['hex'] = memdf['Syndrome_hex'].apply(lambda x: ((x.lstrip(\"0x\")).zfill(4)).upper())\n",
    "\n",
    "x8 = pd.read_table(\"syndrome_x8.txt\", sep=' ', index_col='00')\n",
    "\n",
    "#build dictionary to contain all the value and row number in table x8\n",
    "header = list(x8)\n",
    "ind = list(x8.index)\n",
    "dic = {}\n",
    "for j in header:\n",
    "    for i in range (len(x8[j])):\n",
    "        dic[(x8[j])[i]] = ind[i]\n",
    "len(dic.keys())\n",
    "\n",
    "#check if the syndrome number in table x8\n",
    "listhex=memdf['hex']\n",
    "row_num=[]\n",
    "       \n",
    "def f(item):\n",
    "    if (dic.get(item) == None):\n",
    "        return 0\n",
    "    return (str(bin(int(dic[item], 16)))[2:]).count(\"1\")\n",
    "memdf['error_bits'] = memdf['hex'].apply(lambda x: f(x))\n",
    "\n",
    "\n",
    "values = memdf['error_bits'].value_counts()    \n",
    "\n",
    "#remove rows with more than 4 error bits\n",
    "df1234 = memdf[memdf['error_bits'] != 5 ]\n",
    "df1234 = df1234[df1234['error_bits'] != 6 ]\n",
    "df1234 = df1234[df1234['error_bits'] != 7 ]\n",
    "df1234 = df1234[df1234['error_bits'] != 0 ]\n",
    "df1234 = df1234[df1234['error_bits'] != 8 ]\n",
    "dfne=df1234[['Node Type','error_bits']]\n",
    "df_xe = dfne[dfne['Node Type'] == 'xe' ]\n",
    "dfxe=df_xe.groupby(['error_bits']).count()\n",
    "df_xk = dfne[dfne['Node Type'] == 'xk' ]\n",
    "dfxk=df_xk.groupby(['error_bits']).count()\n",
    "df_se = dfne[dfne['Node Type'] == 'service' ]\n",
    "dfse=df_se.groupby(['error_bits']).count()\n",
    "frames = [dfxk,dfxe,dfse]\n",
    "result = pd.concat(frames,axis=1, join='outer')\n",
    "result.columns=['xk','xe','service']\n",
    "result"
   ]
  },
  {
   "cell_type": "markdown",
   "metadata": {},
   "source": [
    "# 2.How frequent (time) are multiple (>1) bit errors?\n",
    "Provide one or two charts of your choice to motivate your answer.\n",
    "Do different types of nodes (XE, XK, service) behave differently in terms of the frequency of multiple bit errors?\n"
   ]
  },
  {
   "cell_type": "code",
   "execution_count": 24,
   "metadata": {},
   "outputs": [
    {
     "name": "stdout",
     "output_type": "stream",
     "text": [
      "[7227, 2193, 1194, 743, 370, 147, 21] [2, 3, 4, 5, 6, 7, 8]\n"
     ]
    },
    {
     "data": {
      "image/png": "[encoded data removed]",
      "text/plain": [
       "<matplotlib.figure.Figure at 0x2d45c6836a0>"
      ]
     },
     "metadata": {},
     "output_type": "display_data"
    }
   ],
   "source": [
    "#count ones by change it to string and apply lambda function\n",
    "myarray = list((values.index).sort_values())\n",
    "lst = []\n",
    "for i in range(len(values)):\n",
    "    lst.append(values[i])\n",
    "\n",
    "# data cleaning\n",
    "del(lst[0])\n",
    "del(lst[0])\n",
    "del(myarray[0])\n",
    "del(myarray[0])\n",
    "print(lst , myarray)\n",
    "\n",
    "fig, ax = plt.subplots(figsize= (10,6))\n",
    "rects1 = ax.bar(myarray, lst, 0.6, color='b')\n",
    "plt.xlabel(\"number of bits\")\n",
    "plt.ylabel(\"frequency\")\n",
    "plt.title(\"frequency of the bit error > 1\")\n",
    "ax.set_xticks(np.asarray(myarray))\n",
    "ax.legend(['Bit Error'])\n",
    "\n",
    "def autolabel(rects):\n",
    "    \"\"\"\n",
    "    Attach a text label above each bar displaying its height\n",
    "    \"\"\"\n",
    "    for rect in rects:\n",
    "        height = rect.get_height()\n",
    "        ax.text(rect.get_x() + rect.get_width()/2., 1.05*height,\n",
    "                '%d' % int(height),\n",
    "                ha='center', va='bottom')\n",
    "\n",
    "autolabel(rects1)\n",
    "plt.show()\n"
   ]
  },
  {
   "cell_type": "code",
   "execution_count": 25,
   "metadata": {},
   "outputs": [
    {
     "data": {
      "image/png": "[encoded data removed]",
      "text/plain": [
       "<matplotlib.figure.Figure at 0x2d45d56b940>"
      ]
     },
     "metadata": {},
     "output_type": "display_data"
    }
   ],
   "source": [
    "from numpy import linalg as la\n",
    "#count ones by change it to string and apply lambda function\n",
    "#df['decode'] = df['Syndrome'].apply(lambda x: str(x).count('1'))\n",
    "#myarray = list(((df['decode'].value_counts()).index).sort_values())\n",
    "\n",
    "xe = memdf.loc[memdf['Node Type'] == \"xe\"]\n",
    "xk = memdf.loc[memdf['Node Type'] == \"xk\"]\n",
    "service = memdf.loc[memdf['Node Type'] == \"service\"]\n",
    "xe_values = xe['error_bits'].value_counts()\n",
    "xk_values = xk['error_bits'].value_counts()\n",
    "service_values = service['error_bits'].value_counts()\n",
    "xe_sort = list((xe_values.index).sort_values())\n",
    "xk_sort = list((xk_values.index).sort_values())\n",
    "service_sort = list(((service_values).index).sort_values())\n",
    "\n",
    "lst_xe = []\n",
    "lst_xk = []\n",
    "lst_service = []\n",
    "# print(service_values,service_sort)\n",
    "# # print(xe)\n",
    "for i in myarray:\n",
    "    if i in xe_sort:\n",
    "        lst_xe.append(xe_values[i])\n",
    "    else:\n",
    "        lst_xe.append(0)\n",
    "    \n",
    "    if i in xk_sort:\n",
    "        lst_xk.append(xk_values[i])\n",
    "    else:\n",
    "        lst_xk.append(0)\n",
    "    \n",
    "    if i in service_sort:\n",
    "        lst_service.append(service_values[i])\n",
    "    else:\n",
    "        lst_service.append(0)\n",
    "# print(len(lst_xk),len(lst_service),len(lst_xk))\n",
    "\n",
    "# lst_xe = lst_xe/la.norm(lst_xe)\n",
    "# lst_xk = lst_xk/la.norm(lst_xk)\n",
    "# lst_service = lst_service/la.norm(lst_service)\n",
    "\n",
    "ind = np.arange(2,len(myarray)+2,1)\n",
    "# print(len(ind))\n",
    "fig, ax = plt.subplots(figsize= (15,10))\n",
    "rects1 = ax.bar(ind-0.2, lst_xe, 0.2, color='b')\n",
    "rects2 = ax.bar(ind, lst_xk, 0.2, color='r')\n",
    "rects3 = ax.bar(ind+0.2, lst_service, 0.2, color='g')\n",
    "plt.xlabel(\"number of bits\")\n",
    "plt.ylabel(\"frequency\")\n",
    "plt.title(\"frequency of the bit error > 1 base on different type of nodes\")\n",
    "ax.set_xticks(np.asarray(myarray))\n",
    "ax.legend(['XE Bit Error','XK Bit Error', 'Service Bit Error'])\n",
    "\n",
    "def autolabel(rects):\n",
    "    \"\"\"\n",
    "    Attach a text label above each bar displaying its height\n",
    "    \"\"\"\n",
    "    for rect in rects:\n",
    "        height = rect.get_height()\n",
    "        ax.text(rect.get_x() + rect.get_width()/2., 1.05*height,\n",
    "                '%.4f' % round(float(height),4),\n",
    "                ha='center', va='bottom')\n",
    "\n",
    "autolabel(rects1)\n",
    "autolabel(rects2)\n",
    "autolabel(rects3)\n",
    "# ,rects2,rects3)\n",
    "plt.show()\n"
   ]
  },
  {
   "cell_type": "markdown",
   "metadata": {},
   "source": [
    "# 3.Test the following hypothesis: XK nodes perform worse (have a higher rate of memory errors) than XE nodes.\n",
    "Remember to normalize rates based on memory capacities of these node types."
   ]
  },
  {
   "cell_type": "code",
   "execution_count": 26,
   "metadata": {},
   "outputs": [
    {
     "data": {
      "image/png": "[encoded data removed]",
      "text/plain": [
       "<matplotlib.figure.Figure at 0x2d45d57a358>"
      ]
     },
     "metadata": {},
     "output_type": "display_data"
    },
    {
     "data": {
      "image/png": "[encoded data removed]",
      "text/plain": [
       "<matplotlib.figure.Figure at 0x2d45e0eaba8>"
      ]
     },
     "metadata": {},
     "output_type": "display_data"
    }
   ],
   "source": [
    "xkxedf=(df.loc[df[\"Error Type\"] == \"ECC Error\"]).copy()\n",
    "\n",
    "\n",
    "xe = xkxedf.loc[xkxedf['Node Type'] == \"xe\"]\n",
    "xk = xkxedf.loc[xkxedf['Node Type'] == \"xk\"]\n",
    "xe_ = xe[\"Complete Node\"].value_counts()\n",
    "xk_ = xk[\"Complete Node\"].value_counts()\n",
    "xe_=pd.Series(xe_).where(lambda x : x!=1).dropna()\n",
    "xk_=pd.Series(xk_).where(lambda x : x!=1).dropna()\n",
    "\n",
    "lst_xe = xe_.apply(lambda x: (x/64))\n",
    "lst_xk = xk_.apply(lambda x: (x/32))\n",
    "# s_xe = pd.Series(lst_xe)\n",
    "# s_xe = s_xe[s_xe >1]\n",
    "# s_xk = pd.Series(lst_xk)\n",
    "# s_xk = s_xk[s_xk >1]\n",
    "\n",
    "lst_xee = []\n",
    "lst_xkk = []\n",
    "lst_xe.apply(lambda x: lst_xee.append(x))\n",
    "lst_xk.apply(lambda x: lst_xkk.append(x))\n",
    "\n",
    "ind = np.arange(len(lst_xkk))\n",
    "fig, ax = plt.subplots(figsize= (15,10))\n",
    "rects1 = ax.bar(ind-0.2, lst_xkk, 0.2, color='b')\n",
    "plt.xlabel(\"xk nodes\")\n",
    "plt.ylabel(\"rates\")\n",
    "plt.title(\"rates of xk nodes\")\n",
    "ax.legend(['rates'])\n",
    "plt.show()\n",
    "\n",
    "ind2=np.arange(len(lst_xee))\n",
    "fig, ax = plt.subplots(figsize= (15,10))\n",
    "rects1 = ax.bar(ind2-0.2, lst_xee, 0.2, color='b')\n",
    "plt.xlabel(\"xe nodes\")\n",
    "plt.ylabel(\"rates\")\n",
    "plt.title(\"rates of xe nodes\")\n",
    "ax.legend(['rates'])\n",
    "plt.show()"
   ]
  },
  {
   "cell_type": "markdown",
   "metadata": {},
   "source": [
    "# 4.How many uncorrectable errors would Blue Waters have if it only used ECC SEC-DED (single bit error correction)?\n",
    "Blue waters uses an improved version of ECC which can correct multi-bit errors (as seen in your dataset).\n",
    "How effective is this improved ECC over regular ECC?\n",
    "Compare the FIT and MTBF (only for uncorrectable errors) considering the same system with regular ECC and improved ECC.\n",
    "Summarize your answer in 2-3 sentences."
   ]
  },
  {
   "cell_type": "code",
   "execution_count": 27,
   "metadata": {},
   "outputs": [
    {
     "name": "stdout",
     "output_type": "stream",
     "text": [
      "11895 uncorrectable errors would Blue Waters have if it only used ECC SEC-DED\n"
     ]
    }
   ],
   "source": [
    "memdf['SEC_DED_UC']=np.where((memdf['error_bits']>1), 1 , 0 )\n",
    "print (str(int(memdf['SEC_DED_UC'].sum()))+\" uncorrectable errors would Blue Waters have if it only used ECC SEC-DED\")"
   ]
  },
  {
   "cell_type": "code",
   "execution_count": 28,
   "metadata": {},
   "outputs": [
    {
     "name": "stdout",
     "output_type": "stream",
     "text": [
      "improved ECC:\n",
      "MTBF=180.399166667 hours\n",
      "FIT(number of failures in 10^9 hours)=2156721\n",
      "regular ECC SEC-DED:\n",
      "MTBF=0.116899358382 hours\n",
      "FIT(number of failures in 10^9 hours)=8553558590\n"
     ]
    }
   ],
   "source": [
    "SEC_DEC_df1=df.loc[df[\"Error Type\"] != \"ECC Error\"].copy()\n",
    "SEC_DEC_df1['SEC_DED_UC']=SEC_DEC_df1['UC']\n",
    "SEC_DEC_df2=memdf.copy().drop(['Syndrome_hex','hex','error_bits'],axis=1)\n",
    "result = pd.concat([SEC_DEC_df1,SEC_DEC_df2])\n",
    "\n",
    "df2=df[df['UC']==1].sort_values(by='Time')\n",
    "\n",
    "list_time=(df2['Time'].values)[1:] - (df2['Time'].values)[:-1]\n",
    "\n",
    "\n",
    "print (\"improved ECC:\")\n",
    "print (\"MTBF=\"+str(sum(list_time)/len(list_time)/3600)+ \" hours\")\n",
    "total_time=(df['Time'].max()-df['Time'].min())/3600\n",
    "print (\"FIT(number of failures in 10^9 hours)=\"+str(int((10**9*3)/int(total_time))))\n",
    "\n",
    "\n",
    "df2_SEC=result[result['SEC_DED_UC']==1].sort_values(by='Time')\n",
    "\n",
    "list_time_SEC=(df2_SEC['Time'].values)[1:] - (df2_SEC['Time'].values)[:-1]\n",
    "\n",
    "print (\"regular ECC SEC-DED:\")\n",
    "print (\"MTBF=\"+str(sum(list_time_SEC)/len(list_time_SEC)/3600) + \" hours\")\n",
    "total_time_dec=(result['Time'].max()-result['Time'].min())/3600\n",
    "print (\"FIT(number of failures in 10^9 hours)=\"+str(int((10**9*len(result[result['SEC_DED_UC']==1]))/int(total_time_dec))))"
   ]
  },
  {
   "cell_type": "markdown",
   "metadata": {},
   "source": [
    "# Task 3"
   ]
  },
  {
   "cell_type": "markdown",
   "metadata": {},
   "source": [
    "\n",
    "* Create a list of dataframe slices, each slice containing entries for a unique node.\n",
    "\n",
    "* Next, define your Sliding Window Algorithm function such that it returns the number of tuples after coalescing its slice. You should also mark any rows that you will eventually filter out.\n",
    "\n",
    "* Then, create a ThreadPool and map your algorithm function to the list of dataframe slices\n",
    "\n",
    "* Run the pool with close/join. The return value of the threadpool map will give you your tuple counts. You just need to sum up this returned list to get the datapoint for your knee curve."
   ]
  },
  {
   "cell_type": "raw",
   "metadata": {},
   "source": [
    "Sliding Window Algorithm:\n",
    "sliding(df_node) {\n",
    "\tW = window size;\n",
    "\tforeach event in the dataframe {\n",
    "\t\tif (T(df_node.curr) - T(df_node.prev) < W)\n",
    "\t\t\tadd df_node.curr to the current tuple;\n",
    "\t\telse\n",
    "\t\t\tcreate a new tuple with df_node.curr;\n",
    "\t}\n",
    "}"
   ]
  },
  {
   "cell_type": "code",
   "execution_count": 29,
   "metadata": {
    "collapsed": true
   },
   "outputs": [],
   "source": [
    "def sliding(df_node):\n",
    "    W = window_size\n",
    "    df_node['Coalesced'] = True\n",
    "    node_first = df_node.iloc[0]\n",
    "    for i in range(1, len(df_node)):\n",
    "        if df_node.iloc[i]['Time'] - node_first['Time'] < W:\n",
    "            df_node.at[i, 'Coalesced'] = False\n",
    "        else:\n",
    "            node_first = df_node.iloc[i]\n",
    "    return df_node['Coalesced'].sum()"
   ]
  },
  {
   "cell_type": "code",
   "execution_count": 30,
   "metadata": {
    "collapsed": true
   },
   "outputs": [],
   "source": [
    "data_slices = []\n",
    "unique_nodes = list(df_sort['Complete Node'].unique())\n",
    "window_range = range(1,10)\n",
    "\n",
    "for node in range(len(unique_nodes)):\n",
    "    data_slices.append(df_sort[df_sort['Complete Node'] == unique_nodes[node]])\n",
    "    data_slices[node] = data_slices[node].reset_index(drop=True)\n",
    "\n",
    "# data_slices[3]"
   ]
  },
  {
   "cell_type": "code",
   "execution_count": 31,
   "metadata": {
    "collapsed": true
   },
   "outputs": [],
   "source": [
    "# print(sliding(data_slices[1]))\n",
    "from multiprocessing.pool import ThreadPool\n",
    "\n",
    "knee_curve = [sum(len(data_slices[i]) for i in range(len(unique_nodes)))]\n",
    "\n",
    "for window_size in window_range:\n",
    "    # create a pool with 4 threads (increase or reduce this based on the number of threads your processor supports)\n",
    "    pool = ThreadPool(4) \n",
    "    poolresults = pool.map(sliding, data_slices) # map the square function to inputs\n",
    "    pool.close()\n",
    "    pool.join()\n",
    "    # poolresults contains our returned values\n",
    "    knee_curve.append(sum(poolresults))\n"
   ]
  },
  {
   "cell_type": "code",
   "execution_count": 32,
   "metadata": {},
   "outputs": [
    {
     "data": {
      "image/png": "[encoded data removed]",
      "text/plain": [
       "<matplotlib.figure.Figure at 0x2d45c660908>"
      ]
     },
     "metadata": {},
     "output_type": "display_data"
    }
   ],
   "source": [
    "knee_series = pd.Series(knee_curve)\n",
    "knee_series.plot(figsize=(10,4))\n",
    "plt.xlabel(\"Window Size\")\n",
    "plt.ylabel(\"Number of Tuples\")\n",
    "plt.title(\"Knee Curve\")\n",
    "plt.show()"
   ]
  },
  {
   "cell_type": "code",
   "execution_count": 33,
   "metadata": {
    "collapsed": true
   },
   "outputs": [],
   "source": [
    "window_size = 1"
   ]
  },
  {
   "cell_type": "code",
   "execution_count": 34,
   "metadata": {
    "collapsed": true
   },
   "outputs": [],
   "source": [
    "pool = ThreadPool(4) \n",
    "poolresults = pool.map(sliding, data_slices) # map the square function to inputs\n",
    "pool.close()\n",
    "pool.join()"
   ]
  },
  {
   "cell_type": "code",
   "execution_count": 35,
   "metadata": {},
   "outputs": [
    {
     "data": {
      "text/plain": [
       "196323"
      ]
     },
     "execution_count": 35,
     "metadata": {},
     "output_type": "execute_result"
    }
   ],
   "source": [
    "sum(poolresults)"
   ]
  },
  {
   "cell_type": "code",
   "execution_count": 36,
   "metadata": {
    "collapsed": true
   },
   "outputs": [],
   "source": [
    "co_data = pd.concat([data_slices[i][data_slices[i]['Coalesced'] == True] for i in range(len(data_slices))])"
   ]
  },
  {
   "cell_type": "code",
   "execution_count": 37,
   "metadata": {},
   "outputs": [
    {
     "data": {
      "text/html": [
       "<div>\n",
       "<style>\n",
       "    .dataframe thead tr:only-child th {\n",
       "        text-align: right;\n",
       "    }\n",
       "\n",
       "    .dataframe thead th {\n",
       "        text-align: left;\n",
       "    }\n",
       "\n",
       "    .dataframe tbody tr th {\n",
       "        vertical-align: top;\n",
       "    }\n",
       "</style>\n",
       "<table border=\"1\" class=\"dataframe\">\n",
       "  <thead>\n",
       "    <tr style=\"text-align: right;\">\n",
       "      <th></th>\n",
       "      <th>Date Time</th>\n",
       "      <th>Complete Node</th>\n",
       "      <th>Cabinet</th>\n",
       "      <th>Chassis</th>\n",
       "      <th>Slot</th>\n",
       "      <th>Node</th>\n",
       "      <th>Node Type</th>\n",
       "      <th>Processor</th>\n",
       "      <th>Time</th>\n",
       "      <th>Bank</th>\n",
       "      <th>...</th>\n",
       "      <th>Cache way in error</th>\n",
       "      <th>Syndrome</th>\n",
       "      <th>Core</th>\n",
       "      <th>Errorcode</th>\n",
       "      <th>Ext_errorcode</th>\n",
       "      <th>Error Type</th>\n",
       "      <th>Addr</th>\n",
       "      <th>Addr Desc</th>\n",
       "      <th>Errorcode Type</th>\n",
       "      <th>datetime</th>\n",
       "    </tr>\n",
       "  </thead>\n",
       "  <tbody>\n",
       "    <tr>\n",
       "      <th>0</th>\n",
       "      <td>2013-03-04 00:13:22</td>\n",
       "      <td>c18-9c1s1n2</td>\n",
       "      <td>18-9</td>\n",
       "      <td>1.0</td>\n",
       "      <td>1.0</td>\n",
       "      <td>2.0</td>\n",
       "      <td>xe</td>\n",
       "      <td>2:600f12</td>\n",
       "      <td>1.362374e+09</td>\n",
       "      <td>4</td>\n",
       "      <td>...</td>\n",
       "      <td>NaN</td>\n",
       "      <td>'10000</td>\n",
       "      <td>NaN</td>\n",
       "      <td>'100000010011</td>\n",
       "      <td>'1000</td>\n",
       "      <td>ECC Error</td>\n",
       "      <td>2803283d0</td>\n",
       "      <td>Physical</td>\n",
       "      <td>bus</td>\n",
       "      <td>2013-03-04 05:13:23</td>\n",
       "    </tr>\n",
       "    <tr>\n",
       "      <th>1</th>\n",
       "      <td>2013-03-04 00:13:22</td>\n",
       "      <td>c18-9c1s1n2</td>\n",
       "      <td>18-9</td>\n",
       "      <td>1.0</td>\n",
       "      <td>1.0</td>\n",
       "      <td>2.0</td>\n",
       "      <td>xe</td>\n",
       "      <td>2:600f12</td>\n",
       "      <td>1.362374e+09</td>\n",
       "      <td>4</td>\n",
       "      <td>...</td>\n",
       "      <td>NaN</td>\n",
       "      <td>'100000</td>\n",
       "      <td>NaN</td>\n",
       "      <td>'100000010011</td>\n",
       "      <td>'1000</td>\n",
       "      <td>ECC Error</td>\n",
       "      <td>28173e010</td>\n",
       "      <td>Physical</td>\n",
       "      <td>bus</td>\n",
       "      <td>2013-03-04 05:13:24</td>\n",
       "    </tr>\n",
       "    <tr>\n",
       "      <th>2</th>\n",
       "      <td>2013-03-04 00:13:22</td>\n",
       "      <td>c18-9c1s1n2</td>\n",
       "      <td>18-9</td>\n",
       "      <td>1.0</td>\n",
       "      <td>1.0</td>\n",
       "      <td>2.0</td>\n",
       "      <td>xe</td>\n",
       "      <td>2:600f12</td>\n",
       "      <td>1.362374e+09</td>\n",
       "      <td>4</td>\n",
       "      <td>...</td>\n",
       "      <td>NaN</td>\n",
       "      <td>'100000</td>\n",
       "      <td>NaN</td>\n",
       "      <td>'100000010011</td>\n",
       "      <td>'1000</td>\n",
       "      <td>ECC Error</td>\n",
       "      <td>28173e010</td>\n",
       "      <td>Physical</td>\n",
       "      <td>bus</td>\n",
       "      <td>2013-03-04 05:13:26</td>\n",
       "    </tr>\n",
       "    <tr>\n",
       "      <th>3</th>\n",
       "      <td>2013-03-04 00:13:22</td>\n",
       "      <td>c18-9c1s1n2</td>\n",
       "      <td>18-9</td>\n",
       "      <td>1.0</td>\n",
       "      <td>1.0</td>\n",
       "      <td>2.0</td>\n",
       "      <td>xe</td>\n",
       "      <td>2:600f12</td>\n",
       "      <td>1.362374e+09</td>\n",
       "      <td>4</td>\n",
       "      <td>...</td>\n",
       "      <td>NaN</td>\n",
       "      <td>'100000</td>\n",
       "      <td>NaN</td>\n",
       "      <td>'100000010011</td>\n",
       "      <td>'1000</td>\n",
       "      <td>ECC Error</td>\n",
       "      <td>28173e010</td>\n",
       "      <td>Physical</td>\n",
       "      <td>bus</td>\n",
       "      <td>2013-03-04 05:13:28</td>\n",
       "    </tr>\n",
       "    <tr>\n",
       "      <th>4</th>\n",
       "      <td>2013-03-04 00:13:22</td>\n",
       "      <td>c18-9c1s1n2</td>\n",
       "      <td>18-9</td>\n",
       "      <td>1.0</td>\n",
       "      <td>1.0</td>\n",
       "      <td>2.0</td>\n",
       "      <td>xe</td>\n",
       "      <td>2:600f12</td>\n",
       "      <td>1.362374e+09</td>\n",
       "      <td>4</td>\n",
       "      <td>...</td>\n",
       "      <td>NaN</td>\n",
       "      <td>'100000</td>\n",
       "      <td>NaN</td>\n",
       "      <td>'100000010011</td>\n",
       "      <td>'1000</td>\n",
       "      <td>ECC Error</td>\n",
       "      <td>28173e010</td>\n",
       "      <td>Physical</td>\n",
       "      <td>bus</td>\n",
       "      <td>2013-03-04 05:13:30</td>\n",
       "    </tr>\n",
       "    <tr>\n",
       "      <th>5</th>\n",
       "      <td>2013-03-04 00:13:22</td>\n",
       "      <td>c18-9c1s1n2</td>\n",
       "      <td>18-9</td>\n",
       "      <td>1.0</td>\n",
       "      <td>1.0</td>\n",
       "      <td>2.0</td>\n",
       "      <td>xe</td>\n",
       "      <td>2:600f12</td>\n",
       "      <td>1.362374e+09</td>\n",
       "      <td>4</td>\n",
       "      <td>...</td>\n",
       "      <td>NaN</td>\n",
       "      <td>'100000</td>\n",
       "      <td>NaN</td>\n",
       "      <td>'101000010011</td>\n",
       "      <td>'1000</td>\n",
       "      <td>ECC Error</td>\n",
       "      <td>281f1e210</td>\n",
       "      <td>Physical</td>\n",
       "      <td>bus</td>\n",
       "      <td>2013-03-04 05:13:32</td>\n",
       "    </tr>\n",
       "    <tr>\n",
       "      <th>6</th>\n",
       "      <td>2013-03-04 00:13:22</td>\n",
       "      <td>c18-9c1s1n2</td>\n",
       "      <td>18-9</td>\n",
       "      <td>1.0</td>\n",
       "      <td>1.0</td>\n",
       "      <td>2.0</td>\n",
       "      <td>xe</td>\n",
       "      <td>2:600f12</td>\n",
       "      <td>1.362374e+09</td>\n",
       "      <td>4</td>\n",
       "      <td>...</td>\n",
       "      <td>NaN</td>\n",
       "      <td>'100000</td>\n",
       "      <td>NaN</td>\n",
       "      <td>'100000010011</td>\n",
       "      <td>'1000</td>\n",
       "      <td>ECC Error</td>\n",
       "      <td>28173e010</td>\n",
       "      <td>Physical</td>\n",
       "      <td>bus</td>\n",
       "      <td>2013-03-04 05:13:34</td>\n",
       "    </tr>\n",
       "    <tr>\n",
       "      <th>7</th>\n",
       "      <td>2013-03-04 00:13:22</td>\n",
       "      <td>c18-9c1s1n2</td>\n",
       "      <td>18-9</td>\n",
       "      <td>1.0</td>\n",
       "      <td>1.0</td>\n",
       "      <td>2.0</td>\n",
       "      <td>xe</td>\n",
       "      <td>2:600f12</td>\n",
       "      <td>1.362374e+09</td>\n",
       "      <td>4</td>\n",
       "      <td>...</td>\n",
       "      <td>NaN</td>\n",
       "      <td>'10000</td>\n",
       "      <td>NaN</td>\n",
       "      <td>'100000010011</td>\n",
       "      <td>'1000</td>\n",
       "      <td>ECC Error</td>\n",
       "      <td>2803283d0</td>\n",
       "      <td>Physical</td>\n",
       "      <td>bus</td>\n",
       "      <td>2013-03-04 05:13:36</td>\n",
       "    </tr>\n",
       "    <tr>\n",
       "      <th>8</th>\n",
       "      <td>2013-03-04 01:13:22</td>\n",
       "      <td>c18-9c1s1n2</td>\n",
       "      <td>18-9</td>\n",
       "      <td>1.0</td>\n",
       "      <td>1.0</td>\n",
       "      <td>2.0</td>\n",
       "      <td>xe</td>\n",
       "      <td>2:600f12</td>\n",
       "      <td>1.362378e+09</td>\n",
       "      <td>4</td>\n",
       "      <td>...</td>\n",
       "      <td>NaN</td>\n",
       "      <td>'10001</td>\n",
       "      <td>NaN</td>\n",
       "      <td>'100000010011</td>\n",
       "      <td>'1000</td>\n",
       "      <td>ECC Error</td>\n",
       "      <td>2803283d0</td>\n",
       "      <td>Physical</td>\n",
       "      <td>bus</td>\n",
       "      <td>2013-03-04 06:13:23</td>\n",
       "    </tr>\n",
       "    <tr>\n",
       "      <th>9</th>\n",
       "      <td>2013-03-04 01:13:22</td>\n",
       "      <td>c18-9c1s1n2</td>\n",
       "      <td>18-9</td>\n",
       "      <td>1.0</td>\n",
       "      <td>1.0</td>\n",
       "      <td>2.0</td>\n",
       "      <td>xe</td>\n",
       "      <td>2:600f12</td>\n",
       "      <td>1.362378e+09</td>\n",
       "      <td>4</td>\n",
       "      <td>...</td>\n",
       "      <td>NaN</td>\n",
       "      <td>'100000</td>\n",
       "      <td>NaN</td>\n",
       "      <td>'100000010011</td>\n",
       "      <td>'1000</td>\n",
       "      <td>ECC Error</td>\n",
       "      <td>28173e010</td>\n",
       "      <td>Physical</td>\n",
       "      <td>bus</td>\n",
       "      <td>2013-03-04 06:13:25</td>\n",
       "    </tr>\n",
       "    <tr>\n",
       "      <th>10</th>\n",
       "      <td>2013-03-04 01:13:22</td>\n",
       "      <td>c18-9c1s1n2</td>\n",
       "      <td>18-9</td>\n",
       "      <td>1.0</td>\n",
       "      <td>1.0</td>\n",
       "      <td>2.0</td>\n",
       "      <td>xe</td>\n",
       "      <td>2:600f12</td>\n",
       "      <td>1.362378e+09</td>\n",
       "      <td>4</td>\n",
       "      <td>...</td>\n",
       "      <td>NaN</td>\n",
       "      <td>'10000</td>\n",
       "      <td>NaN</td>\n",
       "      <td>'101000010011</td>\n",
       "      <td>'1000</td>\n",
       "      <td>ECC Error</td>\n",
       "      <td>280328600</td>\n",
       "      <td>Physical</td>\n",
       "      <td>bus</td>\n",
       "      <td>2013-03-04 06:13:27</td>\n",
       "    </tr>\n",
       "    <tr>\n",
       "      <th>11</th>\n",
       "      <td>2013-03-04 01:13:22</td>\n",
       "      <td>c18-9c1s1n2</td>\n",
       "      <td>18-9</td>\n",
       "      <td>1.0</td>\n",
       "      <td>1.0</td>\n",
       "      <td>2.0</td>\n",
       "      <td>xe</td>\n",
       "      <td>2:600f12</td>\n",
       "      <td>1.362378e+09</td>\n",
       "      <td>4</td>\n",
       "      <td>...</td>\n",
       "      <td>NaN</td>\n",
       "      <td>'10000</td>\n",
       "      <td>NaN</td>\n",
       "      <td>'100000010011</td>\n",
       "      <td>'1000</td>\n",
       "      <td>ECC Error</td>\n",
       "      <td>2803283d0</td>\n",
       "      <td>Physical</td>\n",
       "      <td>bus</td>\n",
       "      <td>2013-03-04 06:13:29</td>\n",
       "    </tr>\n",
       "    <tr>\n",
       "      <th>12</th>\n",
       "      <td>2013-03-04 01:13:22</td>\n",
       "      <td>c18-9c1s1n2</td>\n",
       "      <td>18-9</td>\n",
       "      <td>1.0</td>\n",
       "      <td>1.0</td>\n",
       "      <td>2.0</td>\n",
       "      <td>xe</td>\n",
       "      <td>2:600f12</td>\n",
       "      <td>1.362378e+09</td>\n",
       "      <td>4</td>\n",
       "      <td>...</td>\n",
       "      <td>NaN</td>\n",
       "      <td>'10000</td>\n",
       "      <td>NaN</td>\n",
       "      <td>'100000010011</td>\n",
       "      <td>'1000</td>\n",
       "      <td>ECC Error</td>\n",
       "      <td>2803283d0</td>\n",
       "      <td>Physical</td>\n",
       "      <td>bus</td>\n",
       "      <td>2013-03-04 06:13:30</td>\n",
       "    </tr>\n",
       "    <tr>\n",
       "      <th>13</th>\n",
       "      <td>2013-03-04 01:13:22</td>\n",
       "      <td>c18-9c1s1n2</td>\n",
       "      <td>18-9</td>\n",
       "      <td>1.0</td>\n",
       "      <td>1.0</td>\n",
       "      <td>2.0</td>\n",
       "      <td>xe</td>\n",
       "      <td>2:600f12</td>\n",
       "      <td>1.362378e+09</td>\n",
       "      <td>4</td>\n",
       "      <td>...</td>\n",
       "      <td>NaN</td>\n",
       "      <td>'10000</td>\n",
       "      <td>NaN</td>\n",
       "      <td>'100000010011</td>\n",
       "      <td>'1000</td>\n",
       "      <td>ECC Error</td>\n",
       "      <td>2803283d0</td>\n",
       "      <td>Physical</td>\n",
       "      <td>bus</td>\n",
       "      <td>2013-03-04 06:13:33</td>\n",
       "    </tr>\n",
       "    <tr>\n",
       "      <th>14</th>\n",
       "      <td>2013-03-04 01:13:22</td>\n",
       "      <td>c18-9c1s1n2</td>\n",
       "      <td>18-9</td>\n",
       "      <td>1.0</td>\n",
       "      <td>1.0</td>\n",
       "      <td>2.0</td>\n",
       "      <td>xe</td>\n",
       "      <td>2:600f12</td>\n",
       "      <td>1.362378e+09</td>\n",
       "      <td>4</td>\n",
       "      <td>...</td>\n",
       "      <td>NaN</td>\n",
       "      <td>'100000</td>\n",
       "      <td>NaN</td>\n",
       "      <td>'101000010011</td>\n",
       "      <td>'1000</td>\n",
       "      <td>ECC Error</td>\n",
       "      <td>281f1e210</td>\n",
       "      <td>Physical</td>\n",
       "      <td>bus</td>\n",
       "      <td>2013-03-04 06:13:34</td>\n",
       "    </tr>\n",
       "    <tr>\n",
       "      <th>15</th>\n",
       "      <td>2013-03-04 01:13:22</td>\n",
       "      <td>c18-9c1s1n2</td>\n",
       "      <td>18-9</td>\n",
       "      <td>1.0</td>\n",
       "      <td>1.0</td>\n",
       "      <td>2.0</td>\n",
       "      <td>xe</td>\n",
       "      <td>2:600f12</td>\n",
       "      <td>1.362378e+09</td>\n",
       "      <td>4</td>\n",
       "      <td>...</td>\n",
       "      <td>NaN</td>\n",
       "      <td>'100000</td>\n",
       "      <td>NaN</td>\n",
       "      <td>'100000010011</td>\n",
       "      <td>'1000</td>\n",
       "      <td>ECC Error</td>\n",
       "      <td>28173e010</td>\n",
       "      <td>Physical</td>\n",
       "      <td>bus</td>\n",
       "      <td>2013-03-04 06:13:36</td>\n",
       "    </tr>\n",
       "    <tr>\n",
       "      <th>16</th>\n",
       "      <td>2013-03-04 01:13:22</td>\n",
       "      <td>c18-9c1s1n2</td>\n",
       "      <td>18-9</td>\n",
       "      <td>1.0</td>\n",
       "      <td>1.0</td>\n",
       "      <td>2.0</td>\n",
       "      <td>xe</td>\n",
       "      <td>2:600f12</td>\n",
       "      <td>1.362378e+09</td>\n",
       "      <td>4</td>\n",
       "      <td>...</td>\n",
       "      <td>NaN</td>\n",
       "      <td>'10000</td>\n",
       "      <td>NaN</td>\n",
       "      <td>'100000010011</td>\n",
       "      <td>'1000</td>\n",
       "      <td>ECC Error</td>\n",
       "      <td>2803283d0</td>\n",
       "      <td>Physical</td>\n",
       "      <td>bus</td>\n",
       "      <td>2013-03-04 06:13:38</td>\n",
       "    </tr>\n",
       "    <tr>\n",
       "      <th>17</th>\n",
       "      <td>2013-03-04 02:13:22</td>\n",
       "      <td>c18-9c1s1n2</td>\n",
       "      <td>18-9</td>\n",
       "      <td>1.0</td>\n",
       "      <td>1.0</td>\n",
       "      <td>2.0</td>\n",
       "      <td>xe</td>\n",
       "      <td>2:600f12</td>\n",
       "      <td>1.362381e+09</td>\n",
       "      <td>4</td>\n",
       "      <td>...</td>\n",
       "      <td>NaN</td>\n",
       "      <td>'1000000</td>\n",
       "      <td>NaN</td>\n",
       "      <td>'101000010011</td>\n",
       "      <td>'1000</td>\n",
       "      <td>ECC Error</td>\n",
       "      <td>2803282f0</td>\n",
       "      <td>Physical</td>\n",
       "      <td>bus</td>\n",
       "      <td>2013-03-04 07:13:24</td>\n",
       "    </tr>\n",
       "    <tr>\n",
       "      <th>18</th>\n",
       "      <td>2013-03-04 02:13:22</td>\n",
       "      <td>c18-9c1s1n2</td>\n",
       "      <td>18-9</td>\n",
       "      <td>1.0</td>\n",
       "      <td>1.0</td>\n",
       "      <td>2.0</td>\n",
       "      <td>xe</td>\n",
       "      <td>2:600f12</td>\n",
       "      <td>1.362381e+09</td>\n",
       "      <td>4</td>\n",
       "      <td>...</td>\n",
       "      <td>NaN</td>\n",
       "      <td>'10000</td>\n",
       "      <td>NaN</td>\n",
       "      <td>'101000010011</td>\n",
       "      <td>'1000</td>\n",
       "      <td>ECC Error</td>\n",
       "      <td>280328600</td>\n",
       "      <td>Physical</td>\n",
       "      <td>bus</td>\n",
       "      <td>2013-03-04 07:13:25</td>\n",
       "    </tr>\n",
       "    <tr>\n",
       "      <th>19</th>\n",
       "      <td>2013-03-04 02:13:22</td>\n",
       "      <td>c18-9c1s1n2</td>\n",
       "      <td>18-9</td>\n",
       "      <td>1.0</td>\n",
       "      <td>1.0</td>\n",
       "      <td>2.0</td>\n",
       "      <td>xe</td>\n",
       "      <td>2:600f12</td>\n",
       "      <td>1.362381e+09</td>\n",
       "      <td>4</td>\n",
       "      <td>...</td>\n",
       "      <td>NaN</td>\n",
       "      <td>'1000000</td>\n",
       "      <td>NaN</td>\n",
       "      <td>'101000010011</td>\n",
       "      <td>'1000</td>\n",
       "      <td>ECC Error</td>\n",
       "      <td>2803282f0</td>\n",
       "      <td>Physical</td>\n",
       "      <td>bus</td>\n",
       "      <td>2013-03-04 07:13:27</td>\n",
       "    </tr>\n",
       "    <tr>\n",
       "      <th>20</th>\n",
       "      <td>2013-03-04 02:13:22</td>\n",
       "      <td>c18-9c1s1n2</td>\n",
       "      <td>18-9</td>\n",
       "      <td>1.0</td>\n",
       "      <td>1.0</td>\n",
       "      <td>2.0</td>\n",
       "      <td>xe</td>\n",
       "      <td>2:600f12</td>\n",
       "      <td>1.362381e+09</td>\n",
       "      <td>4</td>\n",
       "      <td>...</td>\n",
       "      <td>NaN</td>\n",
       "      <td>'10000</td>\n",
       "      <td>NaN</td>\n",
       "      <td>'100000010011</td>\n",
       "      <td>'1000</td>\n",
       "      <td>ECC Error</td>\n",
       "      <td>2803283d0</td>\n",
       "      <td>Physical</td>\n",
       "      <td>bus</td>\n",
       "      <td>2013-03-04 07:13:29</td>\n",
       "    </tr>\n",
       "    <tr>\n",
       "      <th>21</th>\n",
       "      <td>2013-03-04 02:13:22</td>\n",
       "      <td>c18-9c1s1n2</td>\n",
       "      <td>18-9</td>\n",
       "      <td>1.0</td>\n",
       "      <td>1.0</td>\n",
       "      <td>2.0</td>\n",
       "      <td>xe</td>\n",
       "      <td>2:600f12</td>\n",
       "      <td>1.362381e+09</td>\n",
       "      <td>4</td>\n",
       "      <td>...</td>\n",
       "      <td>NaN</td>\n",
       "      <td>'10000</td>\n",
       "      <td>NaN</td>\n",
       "      <td>'101000010011</td>\n",
       "      <td>'1000</td>\n",
       "      <td>ECC Error</td>\n",
       "      <td>280328600</td>\n",
       "      <td>Physical</td>\n",
       "      <td>bus</td>\n",
       "      <td>2013-03-04 07:13:31</td>\n",
       "    </tr>\n",
       "    <tr>\n",
       "      <th>22</th>\n",
       "      <td>2013-03-04 02:13:22</td>\n",
       "      <td>c18-9c1s1n2</td>\n",
       "      <td>18-9</td>\n",
       "      <td>1.0</td>\n",
       "      <td>1.0</td>\n",
       "      <td>2.0</td>\n",
       "      <td>xe</td>\n",
       "      <td>2:600f12</td>\n",
       "      <td>1.362381e+09</td>\n",
       "      <td>4</td>\n",
       "      <td>...</td>\n",
       "      <td>NaN</td>\n",
       "      <td>'10000</td>\n",
       "      <td>NaN</td>\n",
       "      <td>'101000010011</td>\n",
       "      <td>'1000</td>\n",
       "      <td>ECC Error</td>\n",
       "      <td>280328600</td>\n",
       "      <td>Physical</td>\n",
       "      <td>bus</td>\n",
       "      <td>2013-03-04 07:13:33</td>\n",
       "    </tr>\n",
       "    <tr>\n",
       "      <th>23</th>\n",
       "      <td>2013-03-04 02:13:22</td>\n",
       "      <td>c18-9c1s1n2</td>\n",
       "      <td>18-9</td>\n",
       "      <td>1.0</td>\n",
       "      <td>1.0</td>\n",
       "      <td>2.0</td>\n",
       "      <td>xe</td>\n",
       "      <td>2:600f12</td>\n",
       "      <td>1.362381e+09</td>\n",
       "      <td>4</td>\n",
       "      <td>...</td>\n",
       "      <td>NaN</td>\n",
       "      <td>'1000000</td>\n",
       "      <td>NaN</td>\n",
       "      <td>'101000010011</td>\n",
       "      <td>'1000</td>\n",
       "      <td>ECC Error</td>\n",
       "      <td>2803282f0</td>\n",
       "      <td>Physical</td>\n",
       "      <td>bus</td>\n",
       "      <td>2013-03-04 07:13:35</td>\n",
       "    </tr>\n",
       "    <tr>\n",
       "      <th>24</th>\n",
       "      <td>2013-03-04 02:13:22</td>\n",
       "      <td>c18-9c1s1n2</td>\n",
       "      <td>18-9</td>\n",
       "      <td>1.0</td>\n",
       "      <td>1.0</td>\n",
       "      <td>2.0</td>\n",
       "      <td>xe</td>\n",
       "      <td>2:600f12</td>\n",
       "      <td>1.362381e+09</td>\n",
       "      <td>4</td>\n",
       "      <td>...</td>\n",
       "      <td>NaN</td>\n",
       "      <td>'1000000</td>\n",
       "      <td>NaN</td>\n",
       "      <td>'101000010011</td>\n",
       "      <td>'1000</td>\n",
       "      <td>ECC Error</td>\n",
       "      <td>2803282f0</td>\n",
       "      <td>Physical</td>\n",
       "      <td>bus</td>\n",
       "      <td>2013-03-04 07:13:37</td>\n",
       "    </tr>\n",
       "    <tr>\n",
       "      <th>25</th>\n",
       "      <td>2013-03-04 02:13:22</td>\n",
       "      <td>c18-9c1s1n2</td>\n",
       "      <td>18-9</td>\n",
       "      <td>1.0</td>\n",
       "      <td>1.0</td>\n",
       "      <td>2.0</td>\n",
       "      <td>xe</td>\n",
       "      <td>2:600f12</td>\n",
       "      <td>1.362381e+09</td>\n",
       "      <td>4</td>\n",
       "      <td>...</td>\n",
       "      <td>NaN</td>\n",
       "      <td>'100000</td>\n",
       "      <td>NaN</td>\n",
       "      <td>'101000010011</td>\n",
       "      <td>'1000</td>\n",
       "      <td>ECC Error</td>\n",
       "      <td>281f1e210</td>\n",
       "      <td>Physical</td>\n",
       "      <td>bus</td>\n",
       "      <td>2013-03-04 07:13:39</td>\n",
       "    </tr>\n",
       "    <tr>\n",
       "      <th>26</th>\n",
       "      <td>2013-03-04 02:13:22</td>\n",
       "      <td>c18-9c1s1n2</td>\n",
       "      <td>18-9</td>\n",
       "      <td>1.0</td>\n",
       "      <td>1.0</td>\n",
       "      <td>2.0</td>\n",
       "      <td>xe</td>\n",
       "      <td>2:600f12</td>\n",
       "      <td>1.362381e+09</td>\n",
       "      <td>4</td>\n",
       "      <td>...</td>\n",
       "      <td>NaN</td>\n",
       "      <td>'10000</td>\n",
       "      <td>NaN</td>\n",
       "      <td>'101000010011</td>\n",
       "      <td>'1000</td>\n",
       "      <td>ECC Error</td>\n",
       "      <td>280328600</td>\n",
       "      <td>Physical</td>\n",
       "      <td>bus</td>\n",
       "      <td>2013-03-04 07:13:41</td>\n",
       "    </tr>\n",
       "    <tr>\n",
       "      <th>27</th>\n",
       "      <td>2013-03-04 02:13:22</td>\n",
       "      <td>c18-9c1s1n2</td>\n",
       "      <td>18-9</td>\n",
       "      <td>1.0</td>\n",
       "      <td>1.0</td>\n",
       "      <td>2.0</td>\n",
       "      <td>xe</td>\n",
       "      <td>2:600f12</td>\n",
       "      <td>1.362381e+09</td>\n",
       "      <td>4</td>\n",
       "      <td>...</td>\n",
       "      <td>NaN</td>\n",
       "      <td>'10000</td>\n",
       "      <td>NaN</td>\n",
       "      <td>'100000010011</td>\n",
       "      <td>'1000</td>\n",
       "      <td>ECC Error</td>\n",
       "      <td>2803283d0</td>\n",
       "      <td>Physical</td>\n",
       "      <td>bus</td>\n",
       "      <td>2013-03-04 07:13:43</td>\n",
       "    </tr>\n",
       "    <tr>\n",
       "      <th>28</th>\n",
       "      <td>2013-03-04 03:13:23</td>\n",
       "      <td>c18-9c1s1n2</td>\n",
       "      <td>18-9</td>\n",
       "      <td>1.0</td>\n",
       "      <td>1.0</td>\n",
       "      <td>2.0</td>\n",
       "      <td>xe</td>\n",
       "      <td>2:600f12</td>\n",
       "      <td>1.362385e+09</td>\n",
       "      <td>4</td>\n",
       "      <td>...</td>\n",
       "      <td>NaN</td>\n",
       "      <td>'10</td>\n",
       "      <td>NaN</td>\n",
       "      <td>'101000010011</td>\n",
       "      <td>'1000</td>\n",
       "      <td>ECC Error</td>\n",
       "      <td>2803282a0</td>\n",
       "      <td>Physical</td>\n",
       "      <td>bus</td>\n",
       "      <td>2013-03-04 08:13:24</td>\n",
       "    </tr>\n",
       "    <tr>\n",
       "      <th>29</th>\n",
       "      <td>2013-03-04 03:13:23</td>\n",
       "      <td>c18-9c1s1n2</td>\n",
       "      <td>18-9</td>\n",
       "      <td>1.0</td>\n",
       "      <td>1.0</td>\n",
       "      <td>2.0</td>\n",
       "      <td>xe</td>\n",
       "      <td>2:600f12</td>\n",
       "      <td>1.362385e+09</td>\n",
       "      <td>4</td>\n",
       "      <td>...</td>\n",
       "      <td>NaN</td>\n",
       "      <td>'10000</td>\n",
       "      <td>NaN</td>\n",
       "      <td>'101000010011</td>\n",
       "      <td>'1000</td>\n",
       "      <td>ECC Error</td>\n",
       "      <td>280328600</td>\n",
       "      <td>Physical</td>\n",
       "      <td>bus</td>\n",
       "      <td>2013-03-04 08:13:26</td>\n",
       "    </tr>\n",
       "    <tr>\n",
       "      <th>...</th>\n",
       "      <td>...</td>\n",
       "      <td>...</td>\n",
       "      <td>...</td>\n",
       "      <td>...</td>\n",
       "      <td>...</td>\n",
       "      <td>...</td>\n",
       "      <td>...</td>\n",
       "      <td>...</td>\n",
       "      <td>...</td>\n",
       "      <td>...</td>\n",
       "      <td>...</td>\n",
       "      <td>...</td>\n",
       "      <td>...</td>\n",
       "      <td>...</td>\n",
       "      <td>...</td>\n",
       "      <td>...</td>\n",
       "      <td>...</td>\n",
       "      <td>...</td>\n",
       "      <td>...</td>\n",
       "      <td>...</td>\n",
       "      <td>...</td>\n",
       "    </tr>\n",
       "    <tr>\n",
       "      <th>196293</th>\n",
       "      <td>2013-04-30 13:48:36</td>\n",
       "      <td>c21-9c1s1n3</td>\n",
       "      <td>21-9</td>\n",
       "      <td>1.0</td>\n",
       "      <td>1.0</td>\n",
       "      <td>3.0</td>\n",
       "      <td>xe</td>\n",
       "      <td>2:600f12</td>\n",
       "      <td>1.367348e+09</td>\n",
       "      <td>2</td>\n",
       "      <td>...</td>\n",
       "      <td>'0</td>\n",
       "      <td>'1000011</td>\n",
       "      <td>NaN</td>\n",
       "      <td>'100110110</td>\n",
       "      <td>'100</td>\n",
       "      <td>L2 Cache Error : FillEcc : SBC, Source is L2</td>\n",
       "      <td>5c552de20</td>\n",
       "      <td>Physical</td>\n",
       "      <td>mem</td>\n",
       "      <td>2013-04-30 18:48:36</td>\n",
       "    </tr>\n",
       "    <tr>\n",
       "      <th>196294</th>\n",
       "      <td>2013-04-30 13:48:39</td>\n",
       "      <td>c7-7c0s1n2</td>\n",
       "      <td>7-7</td>\n",
       "      <td>0.0</td>\n",
       "      <td>1.0</td>\n",
       "      <td>2.0</td>\n",
       "      <td>xe</td>\n",
       "      <td>2:600f12</td>\n",
       "      <td>1.367348e+09</td>\n",
       "      <td>4</td>\n",
       "      <td>...</td>\n",
       "      <td>NaN</td>\n",
       "      <td>'1001100</td>\n",
       "      <td>0.0</td>\n",
       "      <td>'100001011</td>\n",
       "      <td>'11111</td>\n",
       "      <td>Probe Filter Error, Single bit Error, Cache Wa...</td>\n",
       "      <td>017380</td>\n",
       "      <td>Physical</td>\n",
       "      <td>mem</td>\n",
       "      <td>2013-04-30 18:48:38</td>\n",
       "    </tr>\n",
       "    <tr>\n",
       "      <th>196295</th>\n",
       "      <td>2013-04-30 13:59:21</td>\n",
       "      <td>c10-7c2s4n2</td>\n",
       "      <td>10-7</td>\n",
       "      <td>2.0</td>\n",
       "      <td>4.0</td>\n",
       "      <td>2.0</td>\n",
       "      <td>xe</td>\n",
       "      <td>2:600f12</td>\n",
       "      <td>1.367348e+09</td>\n",
       "      <td>4</td>\n",
       "      <td>...</td>\n",
       "      <td>NaN</td>\n",
       "      <td>'100010100</td>\n",
       "      <td>0.0</td>\n",
       "      <td>'100001011</td>\n",
       "      <td>'11111</td>\n",
       "      <td>Probe Filter Error, Single bit Error, Cache Wa...</td>\n",
       "      <td>0ec40</td>\n",
       "      <td>Physical</td>\n",
       "      <td>mem</td>\n",
       "      <td>2013-04-30 18:59:21</td>\n",
       "    </tr>\n",
       "    <tr>\n",
       "      <th>196296</th>\n",
       "      <td>2013-04-30 14:33:35</td>\n",
       "      <td>c22-7c2s2n3</td>\n",
       "      <td>22-7</td>\n",
       "      <td>2.0</td>\n",
       "      <td>2.0</td>\n",
       "      <td>3.0</td>\n",
       "      <td>xe</td>\n",
       "      <td>2:600f12</td>\n",
       "      <td>1.367350e+09</td>\n",
       "      <td>4</td>\n",
       "      <td>...</td>\n",
       "      <td>NaN</td>\n",
       "      <td>'1001001</td>\n",
       "      <td>0.0</td>\n",
       "      <td>'101111011</td>\n",
       "      <td>'11100</td>\n",
       "      <td>L3 Cache Data Error, Single bit Error, Cache W...</td>\n",
       "      <td>f9e098988</td>\n",
       "      <td>Physical</td>\n",
       "      <td>mem</td>\n",
       "      <td>2013-04-30 19:33:35</td>\n",
       "    </tr>\n",
       "    <tr>\n",
       "      <th>196297</th>\n",
       "      <td>2013-04-30 15:48:36</td>\n",
       "      <td>c7-5c1s7n2</td>\n",
       "      <td>7-5</td>\n",
       "      <td>1.0</td>\n",
       "      <td>7.0</td>\n",
       "      <td>2.0</td>\n",
       "      <td>xe</td>\n",
       "      <td>2:600f12</td>\n",
       "      <td>1.367355e+09</td>\n",
       "      <td>4</td>\n",
       "      <td>...</td>\n",
       "      <td>NaN</td>\n",
       "      <td>'11010000</td>\n",
       "      <td>0.0</td>\n",
       "      <td>'100001011</td>\n",
       "      <td>'11100</td>\n",
       "      <td>L3 Cache Data Error, Single bit Error, Cache W...</td>\n",
       "      <td>01888c</td>\n",
       "      <td>Physical</td>\n",
       "      <td>mem</td>\n",
       "      <td>2013-04-30 20:48:36</td>\n",
       "    </tr>\n",
       "    <tr>\n",
       "      <th>196298</th>\n",
       "      <td>2013-04-30 15:58:36</td>\n",
       "      <td>c9-9c0s4n2</td>\n",
       "      <td>9-9</td>\n",
       "      <td>0.0</td>\n",
       "      <td>4.0</td>\n",
       "      <td>2.0</td>\n",
       "      <td>xe</td>\n",
       "      <td>2:600f12</td>\n",
       "      <td>1.367356e+09</td>\n",
       "      <td>4</td>\n",
       "      <td>...</td>\n",
       "      <td>NaN</td>\n",
       "      <td>'100111001</td>\n",
       "      <td>7.0</td>\n",
       "      <td>'100011011</td>\n",
       "      <td>'11100</td>\n",
       "      <td>L3 Cache Data Error, Single bit Error, Cache W...</td>\n",
       "      <td>c2c41ed24</td>\n",
       "      <td>Physical</td>\n",
       "      <td>mem</td>\n",
       "      <td>2013-04-30 20:58:36</td>\n",
       "    </tr>\n",
       "    <tr>\n",
       "      <th>196299</th>\n",
       "      <td>2013-04-30 16:14:21</td>\n",
       "      <td>c17-11c2s6n1</td>\n",
       "      <td>17-11</td>\n",
       "      <td>2.0</td>\n",
       "      <td>6.0</td>\n",
       "      <td>1.0</td>\n",
       "      <td>xe</td>\n",
       "      <td>2:600f12</td>\n",
       "      <td>1.367356e+09</td>\n",
       "      <td>2</td>\n",
       "      <td>...</td>\n",
       "      <td>'101</td>\n",
       "      <td>'1000000</td>\n",
       "      <td>NaN</td>\n",
       "      <td>'100110110</td>\n",
       "      <td>'100</td>\n",
       "      <td>L2 Cache Error : FillEcc : SBC, Source is L2</td>\n",
       "      <td>1e84f7a28</td>\n",
       "      <td>Physical</td>\n",
       "      <td>mem</td>\n",
       "      <td>2013-04-30 21:14:21</td>\n",
       "    </tr>\n",
       "    <tr>\n",
       "      <th>196300</th>\n",
       "      <td>2013-04-30 16:18:47</td>\n",
       "      <td>c4-3c1s7n3</td>\n",
       "      <td>4-3</td>\n",
       "      <td>1.0</td>\n",
       "      <td>7.0</td>\n",
       "      <td>3.0</td>\n",
       "      <td>xe</td>\n",
       "      <td>2:600f12</td>\n",
       "      <td>1.367357e+09</td>\n",
       "      <td>4</td>\n",
       "      <td>...</td>\n",
       "      <td>NaN</td>\n",
       "      <td>'101000111</td>\n",
       "      <td>0.0</td>\n",
       "      <td>'100001011</td>\n",
       "      <td>'11100</td>\n",
       "      <td>L3 Cache Data Error, Single bit Error, Cache W...</td>\n",
       "      <td>01f040</td>\n",
       "      <td>Physical</td>\n",
       "      <td>mem</td>\n",
       "      <td>2013-04-30 21:18:35</td>\n",
       "    </tr>\n",
       "    <tr>\n",
       "      <th>196301</th>\n",
       "      <td>2013-04-30 16:23:39</td>\n",
       "      <td>c0-8c2s2n0</td>\n",
       "      <td>0-8</td>\n",
       "      <td>2.0</td>\n",
       "      <td>2.0</td>\n",
       "      <td>0.0</td>\n",
       "      <td>xe</td>\n",
       "      <td>2:600f12</td>\n",
       "      <td>1.367357e+09</td>\n",
       "      <td>2</td>\n",
       "      <td>...</td>\n",
       "      <td>NaN</td>\n",
       "      <td>'10000000</td>\n",
       "      <td>NaN</td>\n",
       "      <td>'101110110</td>\n",
       "      <td>'1100</td>\n",
       "      <td>L2 Cache Error : VbData : SBC</td>\n",
       "      <td>53f8a9b0</td>\n",
       "      <td>Physical</td>\n",
       "      <td>mem</td>\n",
       "      <td>2013-04-30 21:23:36</td>\n",
       "    </tr>\n",
       "    <tr>\n",
       "      <th>196302</th>\n",
       "      <td>2013-04-30 16:38:41</td>\n",
       "      <td>c12-8c1s0n1</td>\n",
       "      <td>12-8</td>\n",
       "      <td>1.0</td>\n",
       "      <td>0.0</td>\n",
       "      <td>1.0</td>\n",
       "      <td>xe</td>\n",
       "      <td>2:600f12</td>\n",
       "      <td>1.367358e+09</td>\n",
       "      <td>4</td>\n",
       "      <td>...</td>\n",
       "      <td>NaN</td>\n",
       "      <td>'11111000</td>\n",
       "      <td>0.0</td>\n",
       "      <td>'101111011</td>\n",
       "      <td>'11100</td>\n",
       "      <td>L3 Cache Data Error, Single bit Error, Cache W...</td>\n",
       "      <td>0305356cc</td>\n",
       "      <td>Physical</td>\n",
       "      <td>mem</td>\n",
       "      <td>2013-04-30 21:38:39</td>\n",
       "    </tr>\n",
       "    <tr>\n",
       "      <th>196303</th>\n",
       "      <td>2013-04-30 17:18:35</td>\n",
       "      <td>c8-4c2s5n2</td>\n",
       "      <td>8-4</td>\n",
       "      <td>2.0</td>\n",
       "      <td>5.0</td>\n",
       "      <td>2.0</td>\n",
       "      <td>xe</td>\n",
       "      <td>2:600f12</td>\n",
       "      <td>1.367360e+09</td>\n",
       "      <td>4</td>\n",
       "      <td>...</td>\n",
       "      <td>NaN</td>\n",
       "      <td>'10010111</td>\n",
       "      <td>0.0</td>\n",
       "      <td>'101111011</td>\n",
       "      <td>'11100</td>\n",
       "      <td>L3 Cache Data Error, Single bit Error, Cache W...</td>\n",
       "      <td>c1dfa2c84</td>\n",
       "      <td>Physical</td>\n",
       "      <td>mem</td>\n",
       "      <td>2013-04-30 22:18:35</td>\n",
       "    </tr>\n",
       "    <tr>\n",
       "      <th>196304</th>\n",
       "      <td>2013-04-30 17:24:10</td>\n",
       "      <td>c13-7c1s0n1</td>\n",
       "      <td>13-7</td>\n",
       "      <td>1.0</td>\n",
       "      <td>0.0</td>\n",
       "      <td>1.0</td>\n",
       "      <td>service</td>\n",
       "      <td>2:600f12</td>\n",
       "      <td>1.367361e+09</td>\n",
       "      <td>2</td>\n",
       "      <td>...</td>\n",
       "      <td>NaN</td>\n",
       "      <td>'1000110</td>\n",
       "      <td>NaN</td>\n",
       "      <td>'101110110</td>\n",
       "      <td>'1100</td>\n",
       "      <td>L2 Cache Error : VbData : SBC</td>\n",
       "      <td>6b23cd980</td>\n",
       "      <td>Physical</td>\n",
       "      <td>mem</td>\n",
       "      <td>2013-04-30 22:24:10</td>\n",
       "    </tr>\n",
       "    <tr>\n",
       "      <th>196305</th>\n",
       "      <td>2013-04-30 17:24:11</td>\n",
       "      <td>c10-2c0s6n3</td>\n",
       "      <td>10-2</td>\n",
       "      <td>0.0</td>\n",
       "      <td>6.0</td>\n",
       "      <td>3.0</td>\n",
       "      <td>xe</td>\n",
       "      <td>2:600f12</td>\n",
       "      <td>1.367361e+09</td>\n",
       "      <td>4</td>\n",
       "      <td>...</td>\n",
       "      <td>NaN</td>\n",
       "      <td>'10100010</td>\n",
       "      <td>0.0</td>\n",
       "      <td>'100001011</td>\n",
       "      <td>'11100</td>\n",
       "      <td>L3 Cache Data Error, Single bit Error, Cache W...</td>\n",
       "      <td>0f04c</td>\n",
       "      <td>Physical</td>\n",
       "      <td>mem</td>\n",
       "      <td>2013-04-30 22:24:11</td>\n",
       "    </tr>\n",
       "    <tr>\n",
       "      <th>196306</th>\n",
       "      <td>2013-04-30 18:13:35</td>\n",
       "      <td>c7-7c2s0n0</td>\n",
       "      <td>7-7</td>\n",
       "      <td>2.0</td>\n",
       "      <td>0.0</td>\n",
       "      <td>0.0</td>\n",
       "      <td>xe</td>\n",
       "      <td>2:600f12</td>\n",
       "      <td>1.367364e+09</td>\n",
       "      <td>4</td>\n",
       "      <td>...</td>\n",
       "      <td>NaN</td>\n",
       "      <td>'1001111</td>\n",
       "      <td>0.0</td>\n",
       "      <td>'101111011</td>\n",
       "      <td>'11100</td>\n",
       "      <td>L3 Cache Data Error, Single bit Error, Cache W...</td>\n",
       "      <td>b9977f544</td>\n",
       "      <td>Physical</td>\n",
       "      <td>mem</td>\n",
       "      <td>2013-04-30 23:13:35</td>\n",
       "    </tr>\n",
       "    <tr>\n",
       "      <th>196307</th>\n",
       "      <td>2013-04-30 18:28:38</td>\n",
       "      <td>c4-4c1s2n2</td>\n",
       "      <td>4-4</td>\n",
       "      <td>1.0</td>\n",
       "      <td>2.0</td>\n",
       "      <td>2.0</td>\n",
       "      <td>xe</td>\n",
       "      <td>2:600f12</td>\n",
       "      <td>1.367365e+09</td>\n",
       "      <td>4</td>\n",
       "      <td>...</td>\n",
       "      <td>NaN</td>\n",
       "      <td>'100100010</td>\n",
       "      <td>0.0</td>\n",
       "      <td>'100001011</td>\n",
       "      <td>'11100</td>\n",
       "      <td>L3 Cache Data Error, Single bit Error, Cache W...</td>\n",
       "      <td>0cc84</td>\n",
       "      <td>Physical</td>\n",
       "      <td>mem</td>\n",
       "      <td>2013-04-30 23:28:37</td>\n",
       "    </tr>\n",
       "    <tr>\n",
       "      <th>196308</th>\n",
       "      <td>2013-04-30 18:58:36</td>\n",
       "      <td>c16-7c2s0n1</td>\n",
       "      <td>16-7</td>\n",
       "      <td>2.0</td>\n",
       "      <td>0.0</td>\n",
       "      <td>1.0</td>\n",
       "      <td>xe</td>\n",
       "      <td>2:600f12</td>\n",
       "      <td>1.367366e+09</td>\n",
       "      <td>4</td>\n",
       "      <td>...</td>\n",
       "      <td>NaN</td>\n",
       "      <td>'10101</td>\n",
       "      <td>0.0</td>\n",
       "      <td>'100001011</td>\n",
       "      <td>'11111</td>\n",
       "      <td>Probe Filter Error, Single bit Error, Cache Wa...</td>\n",
       "      <td>0e600</td>\n",
       "      <td>Physical</td>\n",
       "      <td>mem</td>\n",
       "      <td>2013-04-30 23:58:36</td>\n",
       "    </tr>\n",
       "    <tr>\n",
       "      <th>196309</th>\n",
       "      <td>2013-04-30 19:43:36</td>\n",
       "      <td>c22-10c1s0n0</td>\n",
       "      <td>22-10</td>\n",
       "      <td>1.0</td>\n",
       "      <td>0.0</td>\n",
       "      <td>0.0</td>\n",
       "      <td>xe</td>\n",
       "      <td>2:600f12</td>\n",
       "      <td>1.367369e+09</td>\n",
       "      <td>4</td>\n",
       "      <td>...</td>\n",
       "      <td>NaN</td>\n",
       "      <td>'100001000</td>\n",
       "      <td>NaN</td>\n",
       "      <td>'101000010011</td>\n",
       "      <td>'1000</td>\n",
       "      <td>ECC Error</td>\n",
       "      <td>39a068460</td>\n",
       "      <td>Physical</td>\n",
       "      <td>bus</td>\n",
       "      <td>2013-05-01 00:43:36</td>\n",
       "    </tr>\n",
       "    <tr>\n",
       "      <th>196310</th>\n",
       "      <td>2013-04-30 20:10:15</td>\n",
       "      <td>c21-2c0s7n2</td>\n",
       "      <td>21-2</td>\n",
       "      <td>0.0</td>\n",
       "      <td>7.0</td>\n",
       "      <td>2.0</td>\n",
       "      <td>xk</td>\n",
       "      <td>2:600f12</td>\n",
       "      <td>1.367371e+09</td>\n",
       "      <td>4</td>\n",
       "      <td>...</td>\n",
       "      <td>NaN</td>\n",
       "      <td>'11001000</td>\n",
       "      <td>0.0</td>\n",
       "      <td>'100001011</td>\n",
       "      <td>'11100</td>\n",
       "      <td>L3 Cache Data Error, Single bit Error, Cache W...</td>\n",
       "      <td>02144</td>\n",
       "      <td>Physical</td>\n",
       "      <td>mem</td>\n",
       "      <td>2013-05-01 01:10:13</td>\n",
       "    </tr>\n",
       "    <tr>\n",
       "      <th>196311</th>\n",
       "      <td>2013-04-30 20:15:09</td>\n",
       "      <td>c3-3c1s2n1</td>\n",
       "      <td>3-3</td>\n",
       "      <td>1.0</td>\n",
       "      <td>2.0</td>\n",
       "      <td>1.0</td>\n",
       "      <td>xe</td>\n",
       "      <td>2:600f12</td>\n",
       "      <td>1.367371e+09</td>\n",
       "      <td>4</td>\n",
       "      <td>...</td>\n",
       "      <td>NaN</td>\n",
       "      <td>'111000110</td>\n",
       "      <td>NaN</td>\n",
       "      <td>'101000010011</td>\n",
       "      <td>'1000</td>\n",
       "      <td>ECC Error</td>\n",
       "      <td>7e2fbf650</td>\n",
       "      <td>Physical</td>\n",
       "      <td>bus</td>\n",
       "      <td>2013-05-01 01:15:09</td>\n",
       "    </tr>\n",
       "    <tr>\n",
       "      <th>196312</th>\n",
       "      <td>2013-04-30 20:32:40</td>\n",
       "      <td>c16-2c0s7n2</td>\n",
       "      <td>16-2</td>\n",
       "      <td>0.0</td>\n",
       "      <td>7.0</td>\n",
       "      <td>2.0</td>\n",
       "      <td>xk</td>\n",
       "      <td>2:600f12</td>\n",
       "      <td>1.367372e+09</td>\n",
       "      <td>4</td>\n",
       "      <td>...</td>\n",
       "      <td>NaN</td>\n",
       "      <td>'1010100</td>\n",
       "      <td>0.0</td>\n",
       "      <td>'100001011</td>\n",
       "      <td>'11100</td>\n",
       "      <td>L3 Cache Data Error, Single bit Error, Cache W...</td>\n",
       "      <td>0ca00</td>\n",
       "      <td>Physical</td>\n",
       "      <td>mem</td>\n",
       "      <td>2013-05-01 01:32:37</td>\n",
       "    </tr>\n",
       "    <tr>\n",
       "      <th>196313</th>\n",
       "      <td>2013-04-30 20:38:36</td>\n",
       "      <td>c19-8c1s6n0</td>\n",
       "      <td>19-8</td>\n",
       "      <td>1.0</td>\n",
       "      <td>6.0</td>\n",
       "      <td>0.0</td>\n",
       "      <td>xe</td>\n",
       "      <td>2:600f12</td>\n",
       "      <td>1.367372e+09</td>\n",
       "      <td>4</td>\n",
       "      <td>...</td>\n",
       "      <td>NaN</td>\n",
       "      <td>'100101000</td>\n",
       "      <td>0.0</td>\n",
       "      <td>'100001011</td>\n",
       "      <td>'11100</td>\n",
       "      <td>L3 Cache Data Error, Single bit Error, Cache W...</td>\n",
       "      <td>0128cc</td>\n",
       "      <td>Physical</td>\n",
       "      <td>mem</td>\n",
       "      <td>2013-05-01 01:38:35</td>\n",
       "    </tr>\n",
       "    <tr>\n",
       "      <th>196314</th>\n",
       "      <td>2013-04-30 20:49:20</td>\n",
       "      <td>c11-7c0s1n2</td>\n",
       "      <td>11-7</td>\n",
       "      <td>0.0</td>\n",
       "      <td>1.0</td>\n",
       "      <td>2.0</td>\n",
       "      <td>xe</td>\n",
       "      <td>2:600f12</td>\n",
       "      <td>1.367373e+09</td>\n",
       "      <td>4</td>\n",
       "      <td>...</td>\n",
       "      <td>NaN</td>\n",
       "      <td>'11000111</td>\n",
       "      <td>0.0</td>\n",
       "      <td>'100001011</td>\n",
       "      <td>'11100</td>\n",
       "      <td>L3 Cache Data Error, Single bit Error, Cache W...</td>\n",
       "      <td>064c0</td>\n",
       "      <td>Physical</td>\n",
       "      <td>mem</td>\n",
       "      <td>2013-05-01 01:49:20</td>\n",
       "    </tr>\n",
       "    <tr>\n",
       "      <th>196315</th>\n",
       "      <td>2013-04-30 21:08:37</td>\n",
       "      <td>c5-3c2s1n2</td>\n",
       "      <td>5-3</td>\n",
       "      <td>2.0</td>\n",
       "      <td>1.0</td>\n",
       "      <td>2.0</td>\n",
       "      <td>xe</td>\n",
       "      <td>2:600f12</td>\n",
       "      <td>1.367374e+09</td>\n",
       "      <td>4</td>\n",
       "      <td>...</td>\n",
       "      <td>NaN</td>\n",
       "      <td>'111101</td>\n",
       "      <td>0.0</td>\n",
       "      <td>'110001011</td>\n",
       "      <td>'11100</td>\n",
       "      <td>L3 Cache Data Error, Single bit Error, Cache W...</td>\n",
       "      <td>10d2b194c</td>\n",
       "      <td>Physical</td>\n",
       "      <td>mem</td>\n",
       "      <td>2013-05-01 02:08:37</td>\n",
       "    </tr>\n",
       "    <tr>\n",
       "      <th>196316</th>\n",
       "      <td>2013-04-30 21:24:10</td>\n",
       "      <td>c6-5c0s1n2</td>\n",
       "      <td>6-5</td>\n",
       "      <td>0.0</td>\n",
       "      <td>1.0</td>\n",
       "      <td>2.0</td>\n",
       "      <td>xe</td>\n",
       "      <td>2:600f12</td>\n",
       "      <td>1.367375e+09</td>\n",
       "      <td>4</td>\n",
       "      <td>...</td>\n",
       "      <td>NaN</td>\n",
       "      <td>'100000000100</td>\n",
       "      <td>NaN</td>\n",
       "      <td>'100000010011</td>\n",
       "      <td>'1000</td>\n",
       "      <td>ECC Error</td>\n",
       "      <td>a4884e820</td>\n",
       "      <td>Physical</td>\n",
       "      <td>bus</td>\n",
       "      <td>2013-05-01 02:24:10</td>\n",
       "    </tr>\n",
       "    <tr>\n",
       "      <th>196317</th>\n",
       "      <td>2013-04-30 21:29:33</td>\n",
       "      <td>c9-11c0s3n0</td>\n",
       "      <td>9-11</td>\n",
       "      <td>0.0</td>\n",
       "      <td>3.0</td>\n",
       "      <td>0.0</td>\n",
       "      <td>service</td>\n",
       "      <td>2:600f12</td>\n",
       "      <td>1.367375e+09</td>\n",
       "      <td>4</td>\n",
       "      <td>...</td>\n",
       "      <td>NaN</td>\n",
       "      <td>'100011111101</td>\n",
       "      <td>NaN</td>\n",
       "      <td>'101000010011</td>\n",
       "      <td>'1000</td>\n",
       "      <td>ECC Error</td>\n",
       "      <td>3e4ba6c90</td>\n",
       "      <td>Physical</td>\n",
       "      <td>bus</td>\n",
       "      <td>2013-05-01 02:29:32</td>\n",
       "    </tr>\n",
       "    <tr>\n",
       "      <th>196318</th>\n",
       "      <td>2013-04-30 21:33:36</td>\n",
       "      <td>c14-1c2s7n3</td>\n",
       "      <td>14-1</td>\n",
       "      <td>2.0</td>\n",
       "      <td>7.0</td>\n",
       "      <td>3.0</td>\n",
       "      <td>xe</td>\n",
       "      <td>2:600f12</td>\n",
       "      <td>1.367376e+09</td>\n",
       "      <td>2</td>\n",
       "      <td>...</td>\n",
       "      <td>NaN</td>\n",
       "      <td>'1101</td>\n",
       "      <td>NaN</td>\n",
       "      <td>'101110110</td>\n",
       "      <td>'1100</td>\n",
       "      <td>L2 Cache Error : VbData : SBC</td>\n",
       "      <td>7e4aa5ba0</td>\n",
       "      <td>Physical</td>\n",
       "      <td>mem</td>\n",
       "      <td>2013-05-01 02:33:36</td>\n",
       "    </tr>\n",
       "    <tr>\n",
       "      <th>196319</th>\n",
       "      <td>2013-04-30 22:13:35</td>\n",
       "      <td>c21-5c0s7n1</td>\n",
       "      <td>21-5</td>\n",
       "      <td>0.0</td>\n",
       "      <td>7.0</td>\n",
       "      <td>1.0</td>\n",
       "      <td>xe</td>\n",
       "      <td>2:600f12</td>\n",
       "      <td>1.367378e+09</td>\n",
       "      <td>4</td>\n",
       "      <td>...</td>\n",
       "      <td>NaN</td>\n",
       "      <td>'100111010</td>\n",
       "      <td>0.0</td>\n",
       "      <td>'100001011</td>\n",
       "      <td>'11100</td>\n",
       "      <td>L3 Cache Data Error, Single bit Error, Cache W...</td>\n",
       "      <td>0d0c0</td>\n",
       "      <td>Physical</td>\n",
       "      <td>mem</td>\n",
       "      <td>2013-05-01 03:13:35</td>\n",
       "    </tr>\n",
       "    <tr>\n",
       "      <th>196320</th>\n",
       "      <td>2013-04-30 22:45:51</td>\n",
       "      <td>c20-2c0s6n1</td>\n",
       "      <td>20-2</td>\n",
       "      <td>0.0</td>\n",
       "      <td>6.0</td>\n",
       "      <td>1.0</td>\n",
       "      <td>xk</td>\n",
       "      <td>2:600f12</td>\n",
       "      <td>1.367380e+09</td>\n",
       "      <td>4</td>\n",
       "      <td>...</td>\n",
       "      <td>NaN</td>\n",
       "      <td>'1001100</td>\n",
       "      <td>0.0</td>\n",
       "      <td>'100001011</td>\n",
       "      <td>'11100</td>\n",
       "      <td>L3 Cache Data Error, Single bit Error, Cache W...</td>\n",
       "      <td>0179c0</td>\n",
       "      <td>Physical</td>\n",
       "      <td>mem</td>\n",
       "      <td>2013-05-01 03:45:48</td>\n",
       "    </tr>\n",
       "    <tr>\n",
       "      <th>196321</th>\n",
       "      <td>2013-04-30 23:05:49</td>\n",
       "      <td>c20-2c1s6n1</td>\n",
       "      <td>20-2</td>\n",
       "      <td>1.0</td>\n",
       "      <td>6.0</td>\n",
       "      <td>1.0</td>\n",
       "      <td>xk</td>\n",
       "      <td>2:600f12</td>\n",
       "      <td>1.367381e+09</td>\n",
       "      <td>4</td>\n",
       "      <td>...</td>\n",
       "      <td>NaN</td>\n",
       "      <td>'100000000</td>\n",
       "      <td>0.0</td>\n",
       "      <td>'100001011</td>\n",
       "      <td>'11100</td>\n",
       "      <td>L3 Cache Data Error, Single bit Error, Cache W...</td>\n",
       "      <td>019c88</td>\n",
       "      <td>Physical</td>\n",
       "      <td>mem</td>\n",
       "      <td>2013-05-01 04:05:49</td>\n",
       "    </tr>\n",
       "    <tr>\n",
       "      <th>196322</th>\n",
       "      <td>2013-04-30 23:33:34</td>\n",
       "      <td>c17-11c2s7n0</td>\n",
       "      <td>17-11</td>\n",
       "      <td>2.0</td>\n",
       "      <td>7.0</td>\n",
       "      <td>0.0</td>\n",
       "      <td>xe</td>\n",
       "      <td>2:600f12</td>\n",
       "      <td>1.367383e+09</td>\n",
       "      <td>2</td>\n",
       "      <td>...</td>\n",
       "      <td>'1100</td>\n",
       "      <td>'10000000</td>\n",
       "      <td>NaN</td>\n",
       "      <td>'100001010</td>\n",
       "      <td>'10000</td>\n",
       "      <td>Tag : L2Tag : SBC</td>\n",
       "      <td>01ad80</td>\n",
       "      <td>Physical</td>\n",
       "      <td>mem</td>\n",
       "      <td>2013-05-01 04:33:34</td>\n",
       "    </tr>\n",
       "  </tbody>\n",
       "</table>\n",
       "<p>196323 rows × 32 columns</p>\n",
       "</div>"
      ],
      "text/plain": [
       "                  Date Time Complete Node Cabinet  Chassis  Slot  Node  \\\n",
       "0       2013-03-04 00:13:22   c18-9c1s1n2    18-9      1.0   1.0   2.0   \n",
       "1       2013-03-04 00:13:22   c18-9c1s1n2    18-9      1.0   1.0   2.0   \n",
       "2       2013-03-04 00:13:22   c18-9c1s1n2    18-9      1.0   1.0   2.0   \n",
       "3       2013-03-04 00:13:22   c18-9c1s1n2    18-9      1.0   1.0   2.0   \n",
       "4       2013-03-04 00:13:22   c18-9c1s1n2    18-9      1.0   1.0   2.0   \n",
       "5       2013-03-04 00:13:22   c18-9c1s1n2    18-9      1.0   1.0   2.0   \n",
       "6       2013-03-04 00:13:22   c18-9c1s1n2    18-9      1.0   1.0   2.0   \n",
       "7       2013-03-04 00:13:22   c18-9c1s1n2    18-9      1.0   1.0   2.0   \n",
       "8       2013-03-04 01:13:22   c18-9c1s1n2    18-9      1.0   1.0   2.0   \n",
       "9       2013-03-04 01:13:22   c18-9c1s1n2    18-9      1.0   1.0   2.0   \n",
       "10      2013-03-04 01:13:22   c18-9c1s1n2    18-9      1.0   1.0   2.0   \n",
       "11      2013-03-04 01:13:22   c18-9c1s1n2    18-9      1.0   1.0   2.0   \n",
       "12      2013-03-04 01:13:22   c18-9c1s1n2    18-9      1.0   1.0   2.0   \n",
       "13      2013-03-04 01:13:22   c18-9c1s1n2    18-9      1.0   1.0   2.0   \n",
       "14      2013-03-04 01:13:22   c18-9c1s1n2    18-9      1.0   1.0   2.0   \n",
       "15      2013-03-04 01:13:22   c18-9c1s1n2    18-9      1.0   1.0   2.0   \n",
       "16      2013-03-04 01:13:22   c18-9c1s1n2    18-9      1.0   1.0   2.0   \n",
       "17      2013-03-04 02:13:22   c18-9c1s1n2    18-9      1.0   1.0   2.0   \n",
       "18      2013-03-04 02:13:22   c18-9c1s1n2    18-9      1.0   1.0   2.0   \n",
       "19      2013-03-04 02:13:22   c18-9c1s1n2    18-9      1.0   1.0   2.0   \n",
       "20      2013-03-04 02:13:22   c18-9c1s1n2    18-9      1.0   1.0   2.0   \n",
       "21      2013-03-04 02:13:22   c18-9c1s1n2    18-9      1.0   1.0   2.0   \n",
       "22      2013-03-04 02:13:22   c18-9c1s1n2    18-9      1.0   1.0   2.0   \n",
       "23      2013-03-04 02:13:22   c18-9c1s1n2    18-9      1.0   1.0   2.0   \n",
       "24      2013-03-04 02:13:22   c18-9c1s1n2    18-9      1.0   1.0   2.0   \n",
       "25      2013-03-04 02:13:22   c18-9c1s1n2    18-9      1.0   1.0   2.0   \n",
       "26      2013-03-04 02:13:22   c18-9c1s1n2    18-9      1.0   1.0   2.0   \n",
       "27      2013-03-04 02:13:22   c18-9c1s1n2    18-9      1.0   1.0   2.0   \n",
       "28      2013-03-04 03:13:23   c18-9c1s1n2    18-9      1.0   1.0   2.0   \n",
       "29      2013-03-04 03:13:23   c18-9c1s1n2    18-9      1.0   1.0   2.0   \n",
       "...                     ...           ...     ...      ...   ...   ...   \n",
       "196293  2013-04-30 13:48:36   c21-9c1s1n3    21-9      1.0   1.0   3.0   \n",
       "196294  2013-04-30 13:48:39    c7-7c0s1n2     7-7      0.0   1.0   2.0   \n",
       "196295  2013-04-30 13:59:21   c10-7c2s4n2    10-7      2.0   4.0   2.0   \n",
       "196296  2013-04-30 14:33:35   c22-7c2s2n3    22-7      2.0   2.0   3.0   \n",
       "196297  2013-04-30 15:48:36    c7-5c1s7n2     7-5      1.0   7.0   2.0   \n",
       "196298  2013-04-30 15:58:36    c9-9c0s4n2     9-9      0.0   4.0   2.0   \n",
       "196299  2013-04-30 16:14:21  c17-11c2s6n1   17-11      2.0   6.0   1.0   \n",
       "196300  2013-04-30 16:18:47    c4-3c1s7n3     4-3      1.0   7.0   3.0   \n",
       "196301  2013-04-30 16:23:39    c0-8c2s2n0     0-8      2.0   2.0   0.0   \n",
       "196302  2013-04-30 16:38:41   c12-8c1s0n1    12-8      1.0   0.0   1.0   \n",
       "196303  2013-04-30 17:18:35    c8-4c2s5n2     8-4      2.0   5.0   2.0   \n",
       "196304  2013-04-30 17:24:10   c13-7c1s0n1    13-7      1.0   0.0   1.0   \n",
       "196305  2013-04-30 17:24:11   c10-2c0s6n3    10-2      0.0   6.0   3.0   \n",
       "196306  2013-04-30 18:13:35    c7-7c2s0n0     7-7      2.0   0.0   0.0   \n",
       "196307  2013-04-30 18:28:38    c4-4c1s2n2     4-4      1.0   2.0   2.0   \n",
       "196308  2013-04-30 18:58:36   c16-7c2s0n1    16-7      2.0   0.0   1.0   \n",
       "196309  2013-04-30 19:43:36  c22-10c1s0n0   22-10      1.0   0.0   0.0   \n",
       "196310  2013-04-30 20:10:15   c21-2c0s7n2    21-2      0.0   7.0   2.0   \n",
       "196311  2013-04-30 20:15:09    c3-3c1s2n1     3-3      1.0   2.0   1.0   \n",
       "196312  2013-04-30 20:32:40   c16-2c0s7n2    16-2      0.0   7.0   2.0   \n",
       "196313  2013-04-30 20:38:36   c19-8c1s6n0    19-8      1.0   6.0   0.0   \n",
       "196314  2013-04-30 20:49:20   c11-7c0s1n2    11-7      0.0   1.0   2.0   \n",
       "196315  2013-04-30 21:08:37    c5-3c2s1n2     5-3      2.0   1.0   2.0   \n",
       "196316  2013-04-30 21:24:10    c6-5c0s1n2     6-5      0.0   1.0   2.0   \n",
       "196317  2013-04-30 21:29:33   c9-11c0s3n0    9-11      0.0   3.0   0.0   \n",
       "196318  2013-04-30 21:33:36   c14-1c2s7n3    14-1      2.0   7.0   3.0   \n",
       "196319  2013-04-30 22:13:35   c21-5c0s7n1    21-5      0.0   7.0   1.0   \n",
       "196320  2013-04-30 22:45:51   c20-2c0s6n1    20-2      0.0   6.0   1.0   \n",
       "196321  2013-04-30 23:05:49   c20-2c1s6n1    20-2      1.0   6.0   1.0   \n",
       "196322  2013-04-30 23:33:34  c17-11c2s7n0   17-11      2.0   7.0   0.0   \n",
       "\n",
       "       Node Type  Processor          Time  Bank         ...          \\\n",
       "0             xe  2:600f12   1.362374e+09     4         ...           \n",
       "1             xe  2:600f12   1.362374e+09     4         ...           \n",
       "2             xe  2:600f12   1.362374e+09     4         ...           \n",
       "3             xe  2:600f12   1.362374e+09     4         ...           \n",
       "4             xe  2:600f12   1.362374e+09     4         ...           \n",
       "5             xe  2:600f12   1.362374e+09     4         ...           \n",
       "6             xe  2:600f12   1.362374e+09     4         ...           \n",
       "7             xe  2:600f12   1.362374e+09     4         ...           \n",
       "8             xe  2:600f12   1.362378e+09     4         ...           \n",
       "9             xe  2:600f12   1.362378e+09     4         ...           \n",
       "10            xe  2:600f12   1.362378e+09     4         ...           \n",
       "11            xe  2:600f12   1.362378e+09     4         ...           \n",
       "12            xe  2:600f12   1.362378e+09     4         ...           \n",
       "13            xe  2:600f12   1.362378e+09     4         ...           \n",
       "14            xe  2:600f12   1.362378e+09     4         ...           \n",
       "15            xe  2:600f12   1.362378e+09     4         ...           \n",
       "16            xe  2:600f12   1.362378e+09     4         ...           \n",
       "17            xe  2:600f12   1.362381e+09     4         ...           \n",
       "18            xe  2:600f12   1.362381e+09     4         ...           \n",
       "19            xe  2:600f12   1.362381e+09     4         ...           \n",
       "20            xe  2:600f12   1.362381e+09     4         ...           \n",
       "21            xe  2:600f12   1.362381e+09     4         ...           \n",
       "22            xe  2:600f12   1.362381e+09     4         ...           \n",
       "23            xe  2:600f12   1.362381e+09     4         ...           \n",
       "24            xe  2:600f12   1.362381e+09     4         ...           \n",
       "25            xe  2:600f12   1.362381e+09     4         ...           \n",
       "26            xe  2:600f12   1.362381e+09     4         ...           \n",
       "27            xe  2:600f12   1.362381e+09     4         ...           \n",
       "28            xe  2:600f12   1.362385e+09     4         ...           \n",
       "29            xe  2:600f12   1.362385e+09     4         ...           \n",
       "...          ...        ...           ...   ...         ...           \n",
       "196293        xe  2:600f12   1.367348e+09     2         ...           \n",
       "196294        xe  2:600f12   1.367348e+09     4         ...           \n",
       "196295        xe  2:600f12   1.367348e+09     4         ...           \n",
       "196296        xe  2:600f12   1.367350e+09     4         ...           \n",
       "196297        xe  2:600f12   1.367355e+09     4         ...           \n",
       "196298        xe  2:600f12   1.367356e+09     4         ...           \n",
       "196299        xe  2:600f12   1.367356e+09     2         ...           \n",
       "196300        xe  2:600f12   1.367357e+09     4         ...           \n",
       "196301        xe  2:600f12   1.367357e+09     2         ...           \n",
       "196302        xe  2:600f12   1.367358e+09     4         ...           \n",
       "196303        xe  2:600f12   1.367360e+09     4         ...           \n",
       "196304   service  2:600f12   1.367361e+09     2         ...           \n",
       "196305        xe  2:600f12   1.367361e+09     4         ...           \n",
       "196306        xe  2:600f12   1.367364e+09     4         ...           \n",
       "196307        xe  2:600f12   1.367365e+09     4         ...           \n",
       "196308        xe  2:600f12   1.367366e+09     4         ...           \n",
       "196309        xe  2:600f12   1.367369e+09     4         ...           \n",
       "196310        xk  2:600f12   1.367371e+09     4         ...           \n",
       "196311        xe  2:600f12   1.367371e+09     4         ...           \n",
       "196312        xk  2:600f12   1.367372e+09     4         ...           \n",
       "196313        xe  2:600f12   1.367372e+09     4         ...           \n",
       "196314        xe  2:600f12   1.367373e+09     4         ...           \n",
       "196315        xe  2:600f12   1.367374e+09     4         ...           \n",
       "196316        xe  2:600f12   1.367375e+09     4         ...           \n",
       "196317   service  2:600f12   1.367375e+09     4         ...           \n",
       "196318        xe  2:600f12   1.367376e+09     2         ...           \n",
       "196319        xe  2:600f12   1.367378e+09     4         ...           \n",
       "196320        xk  2:600f12   1.367380e+09     4         ...           \n",
       "196321        xk  2:600f12   1.367381e+09     4         ...           \n",
       "196322        xe  2:600f12   1.367383e+09     2         ...           \n",
       "\n",
       "        Cache way in error       Syndrome  Core      Errorcode  Ext_errorcode  \\\n",
       "0                      NaN         '10000   NaN  '100000010011          '1000   \n",
       "1                      NaN        '100000   NaN  '100000010011          '1000   \n",
       "2                      NaN        '100000   NaN  '100000010011          '1000   \n",
       "3                      NaN        '100000   NaN  '100000010011          '1000   \n",
       "4                      NaN        '100000   NaN  '100000010011          '1000   \n",
       "5                      NaN        '100000   NaN  '101000010011          '1000   \n",
       "6                      NaN        '100000   NaN  '100000010011          '1000   \n",
       "7                      NaN         '10000   NaN  '100000010011          '1000   \n",
       "8                      NaN         '10001   NaN  '100000010011          '1000   \n",
       "9                      NaN        '100000   NaN  '100000010011          '1000   \n",
       "10                     NaN         '10000   NaN  '101000010011          '1000   \n",
       "11                     NaN         '10000   NaN  '100000010011          '1000   \n",
       "12                     NaN         '10000   NaN  '100000010011          '1000   \n",
       "13                     NaN         '10000   NaN  '100000010011          '1000   \n",
       "14                     NaN        '100000   NaN  '101000010011          '1000   \n",
       "15                     NaN        '100000   NaN  '100000010011          '1000   \n",
       "16                     NaN         '10000   NaN  '100000010011          '1000   \n",
       "17                     NaN       '1000000   NaN  '101000010011          '1000   \n",
       "18                     NaN         '10000   NaN  '101000010011          '1000   \n",
       "19                     NaN       '1000000   NaN  '101000010011          '1000   \n",
       "20                     NaN         '10000   NaN  '100000010011          '1000   \n",
       "21                     NaN         '10000   NaN  '101000010011          '1000   \n",
       "22                     NaN         '10000   NaN  '101000010011          '1000   \n",
       "23                     NaN       '1000000   NaN  '101000010011          '1000   \n",
       "24                     NaN       '1000000   NaN  '101000010011          '1000   \n",
       "25                     NaN        '100000   NaN  '101000010011          '1000   \n",
       "26                     NaN         '10000   NaN  '101000010011          '1000   \n",
       "27                     NaN         '10000   NaN  '100000010011          '1000   \n",
       "28                     NaN            '10   NaN  '101000010011          '1000   \n",
       "29                     NaN         '10000   NaN  '101000010011          '1000   \n",
       "...                    ...            ...   ...            ...            ...   \n",
       "196293                  '0       '1000011   NaN     '100110110           '100   \n",
       "196294                 NaN       '1001100   0.0     '100001011         '11111   \n",
       "196295                 NaN     '100010100   0.0     '100001011         '11111   \n",
       "196296                 NaN       '1001001   0.0     '101111011         '11100   \n",
       "196297                 NaN      '11010000   0.0     '100001011         '11100   \n",
       "196298                 NaN     '100111001   7.0     '100011011         '11100   \n",
       "196299                '101       '1000000   NaN     '100110110           '100   \n",
       "196300                 NaN     '101000111   0.0     '100001011         '11100   \n",
       "196301                 NaN      '10000000   NaN     '101110110          '1100   \n",
       "196302                 NaN      '11111000   0.0     '101111011         '11100   \n",
       "196303                 NaN      '10010111   0.0     '101111011         '11100   \n",
       "196304                 NaN       '1000110   NaN     '101110110          '1100   \n",
       "196305                 NaN      '10100010   0.0     '100001011         '11100   \n",
       "196306                 NaN       '1001111   0.0     '101111011         '11100   \n",
       "196307                 NaN     '100100010   0.0     '100001011         '11100   \n",
       "196308                 NaN         '10101   0.0     '100001011         '11111   \n",
       "196309                 NaN     '100001000   NaN  '101000010011          '1000   \n",
       "196310                 NaN      '11001000   0.0     '100001011         '11100   \n",
       "196311                 NaN     '111000110   NaN  '101000010011          '1000   \n",
       "196312                 NaN       '1010100   0.0     '100001011         '11100   \n",
       "196313                 NaN     '100101000   0.0     '100001011         '11100   \n",
       "196314                 NaN      '11000111   0.0     '100001011         '11100   \n",
       "196315                 NaN        '111101   0.0     '110001011         '11100   \n",
       "196316                 NaN  '100000000100   NaN  '100000010011          '1000   \n",
       "196317                 NaN  '100011111101   NaN  '101000010011          '1000   \n",
       "196318                 NaN          '1101   NaN     '101110110          '1100   \n",
       "196319                 NaN     '100111010   0.0     '100001011         '11100   \n",
       "196320                 NaN       '1001100   0.0     '100001011         '11100   \n",
       "196321                 NaN     '100000000   0.0     '100001011         '11100   \n",
       "196322               '1100      '10000000   NaN     '100001010         '10000   \n",
       "\n",
       "                                               Error Type       Addr  \\\n",
       "0                                               ECC Error  2803283d0   \n",
       "1                                               ECC Error  28173e010   \n",
       "2                                               ECC Error  28173e010   \n",
       "3                                               ECC Error  28173e010   \n",
       "4                                               ECC Error  28173e010   \n",
       "5                                               ECC Error  281f1e210   \n",
       "6                                               ECC Error  28173e010   \n",
       "7                                               ECC Error  2803283d0   \n",
       "8                                               ECC Error  2803283d0   \n",
       "9                                               ECC Error  28173e010   \n",
       "10                                              ECC Error  280328600   \n",
       "11                                              ECC Error  2803283d0   \n",
       "12                                              ECC Error  2803283d0   \n",
       "13                                              ECC Error  2803283d0   \n",
       "14                                              ECC Error  281f1e210   \n",
       "15                                              ECC Error  28173e010   \n",
       "16                                              ECC Error  2803283d0   \n",
       "17                                              ECC Error  2803282f0   \n",
       "18                                              ECC Error  280328600   \n",
       "19                                              ECC Error  2803282f0   \n",
       "20                                              ECC Error  2803283d0   \n",
       "21                                              ECC Error  280328600   \n",
       "22                                              ECC Error  280328600   \n",
       "23                                              ECC Error  2803282f0   \n",
       "24                                              ECC Error  2803282f0   \n",
       "25                                              ECC Error  281f1e210   \n",
       "26                                              ECC Error  280328600   \n",
       "27                                              ECC Error  2803283d0   \n",
       "28                                              ECC Error  2803282a0   \n",
       "29                                              ECC Error  280328600   \n",
       "...                                                   ...        ...   \n",
       "196293       L2 Cache Error : FillEcc : SBC, Source is L2  5c552de20   \n",
       "196294  Probe Filter Error, Single bit Error, Cache Wa...     017380   \n",
       "196295  Probe Filter Error, Single bit Error, Cache Wa...      0ec40   \n",
       "196296  L3 Cache Data Error, Single bit Error, Cache W...  f9e098988   \n",
       "196297  L3 Cache Data Error, Single bit Error, Cache W...     01888c   \n",
       "196298  L3 Cache Data Error, Single bit Error, Cache W...  c2c41ed24   \n",
       "196299       L2 Cache Error : FillEcc : SBC, Source is L2  1e84f7a28   \n",
       "196300  L3 Cache Data Error, Single bit Error, Cache W...     01f040   \n",
       "196301                      L2 Cache Error : VbData : SBC   53f8a9b0   \n",
       "196302  L3 Cache Data Error, Single bit Error, Cache W...  0305356cc   \n",
       "196303  L3 Cache Data Error, Single bit Error, Cache W...  c1dfa2c84   \n",
       "196304                      L2 Cache Error : VbData : SBC  6b23cd980   \n",
       "196305  L3 Cache Data Error, Single bit Error, Cache W...      0f04c   \n",
       "196306  L3 Cache Data Error, Single bit Error, Cache W...  b9977f544   \n",
       "196307  L3 Cache Data Error, Single bit Error, Cache W...      0cc84   \n",
       "196308  Probe Filter Error, Single bit Error, Cache Wa...      0e600   \n",
       "196309                                          ECC Error  39a068460   \n",
       "196310  L3 Cache Data Error, Single bit Error, Cache W...      02144   \n",
       "196311                                          ECC Error  7e2fbf650   \n",
       "196312  L3 Cache Data Error, Single bit Error, Cache W...      0ca00   \n",
       "196313  L3 Cache Data Error, Single bit Error, Cache W...     0128cc   \n",
       "196314  L3 Cache Data Error, Single bit Error, Cache W...      064c0   \n",
       "196315  L3 Cache Data Error, Single bit Error, Cache W...  10d2b194c   \n",
       "196316                                          ECC Error  a4884e820   \n",
       "196317                                          ECC Error  3e4ba6c90   \n",
       "196318                      L2 Cache Error : VbData : SBC  7e4aa5ba0   \n",
       "196319  L3 Cache Data Error, Single bit Error, Cache W...      0d0c0   \n",
       "196320  L3 Cache Data Error, Single bit Error, Cache W...     0179c0   \n",
       "196321  L3 Cache Data Error, Single bit Error, Cache W...     019c88   \n",
       "196322                                  Tag : L2Tag : SBC     01ad80   \n",
       "\n",
       "        Addr Desc  Errorcode Type            datetime  \n",
       "0        Physical             bus 2013-03-04 05:13:23  \n",
       "1        Physical             bus 2013-03-04 05:13:24  \n",
       "2        Physical             bus 2013-03-04 05:13:26  \n",
       "3        Physical             bus 2013-03-04 05:13:28  \n",
       "4        Physical             bus 2013-03-04 05:13:30  \n",
       "5        Physical             bus 2013-03-04 05:13:32  \n",
       "6        Physical             bus 2013-03-04 05:13:34  \n",
       "7        Physical             bus 2013-03-04 05:13:36  \n",
       "8        Physical             bus 2013-03-04 06:13:23  \n",
       "9        Physical             bus 2013-03-04 06:13:25  \n",
       "10       Physical             bus 2013-03-04 06:13:27  \n",
       "11       Physical             bus 2013-03-04 06:13:29  \n",
       "12       Physical             bus 2013-03-04 06:13:30  \n",
       "13       Physical             bus 2013-03-04 06:13:33  \n",
       "14       Physical             bus 2013-03-04 06:13:34  \n",
       "15       Physical             bus 2013-03-04 06:13:36  \n",
       "16       Physical             bus 2013-03-04 06:13:38  \n",
       "17       Physical             bus 2013-03-04 07:13:24  \n",
       "18       Physical             bus 2013-03-04 07:13:25  \n",
       "19       Physical             bus 2013-03-04 07:13:27  \n",
       "20       Physical             bus 2013-03-04 07:13:29  \n",
       "21       Physical             bus 2013-03-04 07:13:31  \n",
       "22       Physical             bus 2013-03-04 07:13:33  \n",
       "23       Physical             bus 2013-03-04 07:13:35  \n",
       "24       Physical             bus 2013-03-04 07:13:37  \n",
       "25       Physical             bus 2013-03-04 07:13:39  \n",
       "26       Physical             bus 2013-03-04 07:13:41  \n",
       "27       Physical             bus 2013-03-04 07:13:43  \n",
       "28       Physical             bus 2013-03-04 08:13:24  \n",
       "29       Physical             bus 2013-03-04 08:13:26  \n",
       "...           ...             ...                 ...  \n",
       "196293   Physical             mem 2013-04-30 18:48:36  \n",
       "196294   Physical             mem 2013-04-30 18:48:38  \n",
       "196295   Physical             mem 2013-04-30 18:59:21  \n",
       "196296   Physical             mem 2013-04-30 19:33:35  \n",
       "196297   Physical             mem 2013-04-30 20:48:36  \n",
       "196298   Physical             mem 2013-04-30 20:58:36  \n",
       "196299   Physical             mem 2013-04-30 21:14:21  \n",
       "196300   Physical             mem 2013-04-30 21:18:35  \n",
       "196301   Physical             mem 2013-04-30 21:23:36  \n",
       "196302   Physical             mem 2013-04-30 21:38:39  \n",
       "196303   Physical             mem 2013-04-30 22:18:35  \n",
       "196304   Physical             mem 2013-04-30 22:24:10  \n",
       "196305   Physical             mem 2013-04-30 22:24:11  \n",
       "196306   Physical             mem 2013-04-30 23:13:35  \n",
       "196307   Physical             mem 2013-04-30 23:28:37  \n",
       "196308   Physical             mem 2013-04-30 23:58:36  \n",
       "196309   Physical             bus 2013-05-01 00:43:36  \n",
       "196310   Physical             mem 2013-05-01 01:10:13  \n",
       "196311   Physical             bus 2013-05-01 01:15:09  \n",
       "196312   Physical             mem 2013-05-01 01:32:37  \n",
       "196313   Physical             mem 2013-05-01 01:38:35  \n",
       "196314   Physical             mem 2013-05-01 01:49:20  \n",
       "196315   Physical             mem 2013-05-01 02:08:37  \n",
       "196316   Physical             bus 2013-05-01 02:24:10  \n",
       "196317   Physical             bus 2013-05-01 02:29:32  \n",
       "196318   Physical             mem 2013-05-01 02:33:36  \n",
       "196319   Physical             mem 2013-05-01 03:13:35  \n",
       "196320   Physical             mem 2013-05-01 03:45:48  \n",
       "196321   Physical             mem 2013-05-01 04:05:49  \n",
       "196322   Physical             mem 2013-05-01 04:33:34  \n",
       "\n",
       "[196323 rows x 32 columns]"
      ]
     },
     "execution_count": 37,
     "metadata": {},
     "output_type": "execute_result"
    }
   ],
   "source": [
    "co_data = co_data.reset_index(drop=True)\n",
    "co_data = co_data.drop(['Coalesced'], axis=1)\n",
    "co_data"
   ]
  },
  {
   "cell_type": "markdown",
   "metadata": {
    "collapsed": true
   },
   "source": [
    "## Task 3 Task 0"
   ]
  },
  {
   "cell_type": "code",
   "execution_count": 38,
   "metadata": {},
   "outputs": [
    {
     "name": "stdout",
     "output_type": "stream",
     "text": [
      "2013-03-04 05:13:23\n",
      "2013-05-01 04:58:26\n"
     ]
    }
   ],
   "source": [
    "print(min(co_data['datetime']))\n",
    "print(max(co_data['datetime']))"
   ]
  },
  {
   "cell_type": "markdown",
   "metadata": {},
   "source": [
    "#### Total number of entries"
   ]
  },
  {
   "cell_type": "code",
   "execution_count": 39,
   "metadata": {},
   "outputs": [
    {
     "data": {
      "text/plain": [
       "196323"
      ]
     },
     "execution_count": 39,
     "metadata": {},
     "output_type": "execute_result"
    }
   ],
   "source": [
    "len(co_data)"
   ]
  },
  {
   "cell_type": "markdown",
   "metadata": {},
   "source": [
    "#### Unique number of nodes"
   ]
  },
  {
   "cell_type": "code",
   "execution_count": 40,
   "metadata": {},
   "outputs": [
    {
     "data": {
      "text/plain": [
       "6007"
      ]
     },
     "execution_count": 40,
     "metadata": {},
     "output_type": "execute_result"
    }
   ],
   "source": [
    "len(co_data['Complete Node'].unique())"
   ]
  },
  {
   "cell_type": "code",
   "execution_count": 41,
   "metadata": {},
   "outputs": [
    {
     "data": {
      "text/plain": [
       "59"
      ]
     },
     "execution_count": 41,
     "metadata": {},
     "output_type": "execute_result"
    }
   ],
   "source": [
    "# number of days\n",
    "# normalize() sets the time to 00:00:00 giving us only the date portion of the timestamp/\n",
    "len(co_data['datetime'].dt.normalize().unique())"
   ]
  },
  {
   "cell_type": "code",
   "execution_count": 42,
   "metadata": {},
   "outputs": [
    {
     "data": {
      "text/plain": [
       "array(['xe', 'service', 'xk'], dtype=object)"
      ]
     },
     "execution_count": 42,
     "metadata": {},
     "output_type": "execute_result"
    }
   ],
   "source": [
    "# node types\n",
    "co_data['Node Type'].unique()"
   ]
  },
  {
   "cell_type": "code",
   "execution_count": 43,
   "metadata": {},
   "outputs": [
    {
     "data": {
      "text/html": [
       "<div>\n",
       "<style>\n",
       "    .dataframe thead tr:only-child th {\n",
       "        text-align: right;\n",
       "    }\n",
       "\n",
       "    .dataframe thead th {\n",
       "        text-align: left;\n",
       "    }\n",
       "\n",
       "    .dataframe tbody tr th {\n",
       "        vertical-align: top;\n",
       "    }\n",
       "</style>\n",
       "<table border=\"1\" class=\"dataframe\">\n",
       "  <thead>\n",
       "    <tr style=\"text-align: right;\">\n",
       "      <th></th>\n",
       "      <th>Date Time</th>\n",
       "      <th>Complete Node</th>\n",
       "      <th>Cabinet</th>\n",
       "      <th>Chassis</th>\n",
       "      <th>Slot</th>\n",
       "      <th>Node</th>\n",
       "      <th>Node Type</th>\n",
       "      <th>Processor</th>\n",
       "      <th>Time</th>\n",
       "      <th>Bank</th>\n",
       "      <th>...</th>\n",
       "      <th>Cache way in error</th>\n",
       "      <th>Syndrome</th>\n",
       "      <th>Core</th>\n",
       "      <th>Errorcode</th>\n",
       "      <th>Ext_errorcode</th>\n",
       "      <th>Error Type</th>\n",
       "      <th>Addr</th>\n",
       "      <th>Addr Desc</th>\n",
       "      <th>Errorcode Type</th>\n",
       "      <th>datetime</th>\n",
       "    </tr>\n",
       "  </thead>\n",
       "  <tbody>\n",
       "    <tr>\n",
       "      <th>174982</th>\n",
       "      <td>2013-03-28 07:15:35</td>\n",
       "      <td>c5-3c0s7n3</td>\n",
       "      <td>5-3</td>\n",
       "      <td>0.0</td>\n",
       "      <td>7.0</td>\n",
       "      <td>3.0</td>\n",
       "      <td>xe</td>\n",
       "      <td>2:600f12</td>\n",
       "      <td>1.364473e+09</td>\n",
       "      <td>0</td>\n",
       "      <td>...</td>\n",
       "      <td>'0</td>\n",
       "      <td>NaN</td>\n",
       "      <td>NaN</td>\n",
       "      <td>'110001001</td>\n",
       "      <td>'10000</td>\n",
       "      <td>Tag Error : Tag Array</td>\n",
       "      <td>a7dff0740</td>\n",
       "      <td>Physical</td>\n",
       "      <td>mem</td>\n",
       "      <td>2013-03-28 12:15:35</td>\n",
       "    </tr>\n",
       "    <tr>\n",
       "      <th>175102</th>\n",
       "      <td>2013-03-20 21:20:18</td>\n",
       "      <td>c6-4c0s7n3</td>\n",
       "      <td>6-4</td>\n",
       "      <td>0.0</td>\n",
       "      <td>7.0</td>\n",
       "      <td>3.0</td>\n",
       "      <td>xe</td>\n",
       "      <td>2:600f12</td>\n",
       "      <td>1.363832e+09</td>\n",
       "      <td>0</td>\n",
       "      <td>...</td>\n",
       "      <td>'0</td>\n",
       "      <td>NaN</td>\n",
       "      <td>NaN</td>\n",
       "      <td>'110001001</td>\n",
       "      <td>'10000</td>\n",
       "      <td>Tag Error : Tag Array</td>\n",
       "      <td>c58c01e80</td>\n",
       "      <td>Physical</td>\n",
       "      <td>mem</td>\n",
       "      <td>2013-03-21 02:20:18</td>\n",
       "    </tr>\n",
       "    <tr>\n",
       "      <th>190646</th>\n",
       "      <td>2013-04-04 22:08:12</td>\n",
       "      <td>c10-1c1s6n0</td>\n",
       "      <td>10-1</td>\n",
       "      <td>1.0</td>\n",
       "      <td>6.0</td>\n",
       "      <td>0.0</td>\n",
       "      <td>xe</td>\n",
       "      <td>2:600f12</td>\n",
       "      <td>1.365131e+09</td>\n",
       "      <td>0</td>\n",
       "      <td>...</td>\n",
       "      <td>'0</td>\n",
       "      <td>NaN</td>\n",
       "      <td>NaN</td>\n",
       "      <td>'110001001</td>\n",
       "      <td>'10000</td>\n",
       "      <td>Tag Error : Tag Array</td>\n",
       "      <td>6180b1a40</td>\n",
       "      <td>Physical</td>\n",
       "      <td>mem</td>\n",
       "      <td>2013-04-05 03:08:12</td>\n",
       "    </tr>\n",
       "  </tbody>\n",
       "</table>\n",
       "<p>3 rows × 32 columns</p>\n",
       "</div>"
      ],
      "text/plain": [
       "                  Date Time Complete Node Cabinet  Chassis  Slot  Node  \\\n",
       "174982  2013-03-28 07:15:35    c5-3c0s7n3     5-3      0.0   7.0   3.0   \n",
       "175102  2013-03-20 21:20:18    c6-4c0s7n3     6-4      0.0   7.0   3.0   \n",
       "190646  2013-04-04 22:08:12   c10-1c1s6n0    10-1      1.0   6.0   0.0   \n",
       "\n",
       "       Node Type  Processor          Time  Bank         ...          \\\n",
       "174982        xe  2:600f12   1.364473e+09     0         ...           \n",
       "175102        xe  2:600f12   1.363832e+09     0         ...           \n",
       "190646        xe  2:600f12   1.365131e+09     0         ...           \n",
       "\n",
       "        Cache way in error  Syndrome  Core   Errorcode  Ext_errorcode  \\\n",
       "174982                  '0       NaN   NaN  '110001001         '10000   \n",
       "175102                  '0       NaN   NaN  '110001001         '10000   \n",
       "190646                  '0       NaN   NaN  '110001001         '10000   \n",
       "\n",
       "                   Error Type       Addr  Addr Desc  Errorcode Type  \\\n",
       "174982  Tag Error : Tag Array  a7dff0740   Physical             mem   \n",
       "175102  Tag Error : Tag Array  c58c01e80   Physical             mem   \n",
       "190646  Tag Error : Tag Array  6180b1a40   Physical             mem   \n",
       "\n",
       "                  datetime  \n",
       "174982 2013-03-28 12:15:35  \n",
       "175102 2013-03-21 02:20:18  \n",
       "190646 2013-04-05 03:08:12  \n",
       "\n",
       "[3 rows x 32 columns]"
      ]
     },
     "execution_count": 43,
     "metadata": {},
     "output_type": "execute_result"
    }
   ],
   "source": [
    "# uncorrectable errors\n",
    "un_co_data = co_data[(co_data['UC'] ==1)]\n",
    "\n",
    "un_co_data"
   ]
  },
  {
   "cell_type": "code",
   "execution_count": 44,
   "metadata": {},
   "outputs": [
    {
     "data": {
      "text/plain": [
       "array(['bus', 'mem', 'tlb'], dtype=object)"
      ]
     },
     "execution_count": 44,
     "metadata": {},
     "output_type": "execute_result"
    }
   ],
   "source": [
    "mcetype = co_data[~pd.isnull(co_data['Errorcode Type'])]\n",
    "mcetype['Errorcode Type'].unique()"
   ]
  },
  {
   "cell_type": "markdown",
   "metadata": {},
   "source": [
    "### Task0.3 Answer: Same as Task 0 above"
   ]
  },
  {
   "cell_type": "markdown",
   "metadata": {},
   "source": [
    "#### Count the number of MCEs per node. Provide a box plot to summarize your results.\n",
    "Answer: 6007 complete nodes. Code below with box plot.\n",
    "We can see there are a lot of outliers and the mean is close to 1, and we total have 6007 complete nodes, there are 4185 nodes only appear once."
   ]
  },
  {
   "cell_type": "code",
   "execution_count": 45,
   "metadata": {},
   "outputs": [
    {
     "data": {
      "image/png": "[encoded data removed]",
      "text/plain": [
       "<matplotlib.figure.Figure at 0x2d40b7b91d0>"
      ]
     },
     "metadata": {},
     "output_type": "display_data"
    },
    {
     "name": "stdout",
     "output_type": "stream",
     "text": [
      "4185\n"
     ]
    }
   ],
   "source": [
    "# don't forget to represent this data as a box plot\n",
    "data = co_data['Complete Node'].value_counts()\n",
    "\n",
    "df1 = pd.DataFrame(data,columns=['Complete Node'])\n",
    "df1.plot.box()\n",
    "plt.show()\n",
    "d = 0\n",
    "for i in range(6007):\n",
    "    if data[i] == 1:\n",
    "        d = d +1\n",
    "print(d)"
   ]
  },
  {
   "cell_type": "code",
   "execution_count": 46,
   "metadata": {},
   "outputs": [
    {
     "name": "stdout",
     "output_type": "stream",
     "text": [
      "For the whole dataset, the mean time is: 25.5208433084\n",
      "For the whole dataset, the std is: 145.623190549\n",
      "for xe the mean time is: 28.3276021937\n",
      "for xe the std is: 155.045637171\n",
      "for service the mean time is: 522.002922451\n",
      "for service the std is: 2173.71648709\n",
      "for xk the mean time is: 506.962002229\n",
      "for xk the std is: 1776.89957744\n"
     ]
    }
   ],
   "source": [
    "# 5. Compute the mean time between MCEs for:\n",
    "# 5.1 All nodes together (the whole dataset)\n",
    "co_sort=co_data.sort_values(by=['Time'])\n",
    "timevals = co_sort['Time'].values\n",
    "diffs = timevals[1:] - timevals[:-1]\n",
    "print (\"For the whole dataset, the mean time is: \"+str(diffs.mean() ))\n",
    "print (\"For the whole dataset, the std is: \"+str(diffs.std() ))\n",
    "\n",
    "\n",
    "# 5.2 Each of the node types (i.e. XE, XK, etc)\n",
    "list1=co_data['Node Type'].unique()\n",
    "for item in list1:\n",
    "    grouped=co_data.groupby(['Node Type']).get_group(item)\n",
    "    grouped_sort=grouped.sort_values(by=['Time'])\n",
    "    timevals_xe = grouped_sort['Time'].values\n",
    "    diffs_xe = timevals_xe[1:] - timevals_xe[:-1]\n",
    "    print (\"for \"+item+\" the mean time is: \"+str(diffs_xe.mean() ))\n",
    "    print (\"for \"+item+\" the std is: \"+str(diffs_xe.std() )  )"
   ]
  },
  {
   "cell_type": "markdown",
   "metadata": {},
   "source": [
    "## Task 3 Task 1"
   ]
  },
  {
   "cell_type": "code",
   "execution_count": 47,
   "metadata": {},
   "outputs": [
    {
     "data": {
      "image/png": "[encoded data removed]",
      "text/plain": [
       "<matplotlib.figure.Figure at 0x2d40b6d54e0>"
      ]
     },
     "metadata": {},
     "output_type": "display_data"
    }
   ],
   "source": [
    "from pandas import Series\n",
    "\n",
    "df_1=co_data.sort_values(by=['Time'])['Time']\n",
    "df_1.plot(kind='kde',title=\"Density of Time Distribution\")\n",
    "plt.show()"
   ]
  },
  {
   "cell_type": "code",
   "execution_count": 48,
   "metadata": {},
   "outputs": [
    {
     "name": "stdout",
     "output_type": "stream",
     "text": [
      "29478 2013-03-16 03:45:38 2013-03-15 19:34:20\n",
      "8089 2013-04-18 16:10:13 2013-04-18 13:55:24\n",
      "21444 2013-04-22 16:25:32 2013-04-22 10:28:08\n",
      "46795 2013-04-25 02:25:39 2013-04-24 13:25:44\n"
     ]
    },
    {
     "data": {
      "image/png": "[encoded data removed]",
      "text/plain": [
       "<matplotlib.figure.Figure at 0x2d406639710>"
      ]
     },
     "metadata": {},
     "output_type": "display_data"
    },
    {
     "data": {
      "image/png": "[encoded data removed]",
      "text/plain": [
       "<matplotlib.figure.Figure at 0x2d40b64e278>"
      ]
     },
     "metadata": {},
     "output_type": "display_data"
    }
   ],
   "source": [
    "start = ((co_data['datetime'].sort_values())[:-1])\n",
    "end = (co_data['datetime'].sort_values())[1:]\n",
    "start = list(start)\n",
    "end= list(end)\n",
    "dif = []\n",
    "extra = []\n",
    "\n",
    "for i in range(len(start)):\n",
    "    a = ((end[i]-start[i]).seconds)\n",
    "    dif.append(a)\n",
    "    extra.append(a)\n",
    "    if (a > 5000):\n",
    "        print(a,end[i],start[i])\n",
    "        extra.pop()\n",
    "\n",
    "\n",
    "ts = pd.Series(dif)\n",
    "ts.plot()\n",
    "plt.ylabel(\"Seconds between two consecutive nodes\")\n",
    "plt.xlabel(\"Index of nodes\")\n",
    "plt.title(\"Original Plot\")\n",
    "plt.show()\n",
    "\n",
    "\n",
    "\n",
    "after = pd.Series(extra)\n",
    "after.plot()\n",
    "plt.ylabel(\"Seconds between two consecutive nodes\")\n",
    "plt.xlabel(\"Index of nodes\")\n",
    "plt.title(\"Plot without outliers(above 5000s)\")\n",
    "plt.show()"
   ]
  },
  {
   "cell_type": "markdown",
   "metadata": {},
   "source": [
    "### What percentage of MCEs is due to memory errors?"
   ]
  },
  {
   "cell_type": "code",
   "execution_count": 49,
   "metadata": {},
   "outputs": [
    {
     "name": "stdout",
     "output_type": "stream",
     "text": [
      "0.31514901463404693\n"
     ]
    }
   ],
   "source": [
    "df_task1_2 = co_data.loc[(co_data['Errorcode Type'] == \"mem\")]\n",
    "mem_err = len(df_task1_2)\n",
    "total = len(co_data)\n",
    "print(mem_err/total)"
   ]
  },
  {
   "cell_type": "markdown",
   "metadata": {},
   "source": [
    "### Provide a breakdown of the number, type (e.g., ECC, L1, L2, memory) and % of machine check for the entire dataset and per node type.\n",
    "Construct a bar chart to visualize your results."
   ]
  },
  {
   "cell_type": "code",
   "execution_count": 50,
   "metadata": {},
   "outputs": [
    {
     "name": "stderr",
     "output_type": "stream",
     "text": [
      "D:\\Applications\\Anaconda3\\lib\\site-packages\\ipykernel_launcher.py:6: FutureWarning: using a dict on a Series for aggregation\n",
      "is deprecated and will be removed in a future version\n",
      "  \n"
     ]
    },
    {
     "data": {
      "image/png": "[encoded data removed]",
      "text/plain": [
       "<matplotlib.figure.Figure at 0x2d40b7a1278>"
      ]
     },
     "metadata": {},
     "output_type": "display_data"
    }
   ],
   "source": [
    "new_errortype=[]\n",
    "for item in co_data['Error Type']:\n",
    "    new_errortype.append(str(item).split()[0])\n",
    "co_data['Errortype']=new_errortype\n",
    "\n",
    "entire_count=co_data[co_data['Errortype'] != 'nan'].groupby('Errortype').datetime.agg({'sum':'count'})\n",
    "entire_count['percentage']=entire_count['sum']/co_data.shape[0]\n",
    "x=entire_count['sum'].sort_values()\n",
    "x.plot(kind='bar',title=\"For entire dataset\")\n",
    "plt.show()"
   ]
  },
  {
   "cell_type": "code",
   "execution_count": 51,
   "metadata": {},
   "outputs": [
    {
     "data": {
      "image/png": "[encoded data removed]",
      "text/plain": [
       "<matplotlib.figure.Figure at 0x2d40bf2a7b8>"
      ]
     },
     "metadata": {},
     "output_type": "display_data"
    }
   ],
   "source": [
    "x=entire_count['percentage'].sort_values()\n",
    "x.plot(kind='bar',title=\"For entire dataset\")\n",
    "plt.show()"
   ]
  },
  {
   "cell_type": "code",
   "execution_count": 52,
   "metadata": {},
   "outputs": [
    {
     "name": "stderr",
     "output_type": "stream",
     "text": [
      "D:\\Applications\\Anaconda3\\lib\\site-packages\\ipykernel_launcher.py:1: FutureWarning: using a dict on a Series for aggregation\n",
      "is deprecated and will be removed in a future version\n",
      "  \"\"\"Entry point for launching an IPython kernel.\n"
     ]
    },
    {
     "data": {
      "image/png": "[encoded data removed]",
      "text/plain": [
       "<matplotlib.figure.Figure at 0x2d44626eeb8>"
      ]
     },
     "metadata": {},
     "output_type": "display_data"
    },
    {
     "data": {
      "image/png": "[encoded data removed]",
      "text/plain": [
       "<matplotlib.figure.Figure at 0x2d45c54edd8>"
      ]
     },
     "metadata": {},
     "output_type": "display_data"
    }
   ],
   "source": [
    "node_count=co_data[co_data['Errortype'] != 'nan'].groupby(['Errortype','Node Type']).datetime.agg({'sum':'count'})\n",
    "# node_counts = node_count.groupby(level=0).apply(lambda x: x / float(x.sum()))\n",
    "node_count['Ratio']=node_count['sum']/co_data.shape[0]\n",
    "x=node_count['sum']\n",
    "x.plot(kind='bar',title=\"Specific in each node type\")\n",
    "plt.show()\n",
    "plt.figure()\n",
    "x=node_count['Ratio']\n",
    "x.plot(kind='bar',title=\"Specific in each node type\")\n",
    "plt.show()"
   ]
  },
  {
   "cell_type": "code",
   "execution_count": 53,
   "metadata": {},
   "outputs": [
    {
     "name": "stdout",
     "output_type": "stream",
     "text": [
      "Yes, there are three uncorrectable errors for the given amount of time\n",
      "The histogram for TBF for uncorrectable errors: \n"
     ]
    },
    {
     "data": {
      "image/png": "[encoded data removed]",
      "text/plain": [
       "<matplotlib.figure.Figure at 0x2d41934c7f0>"
      ]
     },
     "metadata": {},
     "output_type": "display_data"
    },
    {
     "name": "stdout",
     "output_type": "stream",
     "text": [
      "MTBF=180.399166667 hours\n",
      "FIT(number of failures in 10^9 hours)=2155558\n"
     ]
    }
   ],
   "source": [
    "\n",
    "print (\"Yes, there are three uncorrectable errors for the given amount of time\")\n",
    "print (\"The histogram for TBF for uncorrectable errors: \")\n",
    "\n",
    "df2=co_data[co_data['UC']==1].sort_values(by='Time')\n",
    "\n",
    "list_time=(df2['Time'].values)[1:] - (df2['Time'].values)[:-1]\n",
    "\n",
    "dff = pd.DataFrame(list_time,\n",
    "                 index=[1,2],\n",
    "                 columns=pd.Index(['TBF']\n",
    "                 )).round(2)\n",
    "dff.plot(kind='bar',figsize=(10,4))\n",
    "plt.ylabel(\"major and minor fault\")\n",
    "plt.title(\"Major and minor fault for each program\")\n",
    "plt.show()\n",
    "\n",
    "print (\"MTBF=\"+str(sum(list_time)/2/3600)+\" hours\")\n",
    "total_time=(co_data['Time'].max()-co_data['Time'].min())/3600\n",
    "print (\"FIT(number of failures in 10^9 hours)=\"+str(int((3 * 10**9)/total_time)))"
   ]
  },
  {
   "cell_type": "markdown",
   "metadata": {},
   "source": [
    "## Task 3 Task 2"
   ]
  },
  {
   "cell_type": "markdown",
   "metadata": {},
   "source": [
    "#### task2.1"
   ]
  },
  {
   "cell_type": "code",
   "execution_count": 54,
   "metadata": {},
   "outputs": [
    {
     "data": {
      "text/html": [
       "<div>\n",
       "<style>\n",
       "    .dataframe thead tr:only-child th {\n",
       "        text-align: right;\n",
       "    }\n",
       "\n",
       "    .dataframe thead th {\n",
       "        text-align: left;\n",
       "    }\n",
       "\n",
       "    .dataframe tbody tr th {\n",
       "        vertical-align: top;\n",
       "    }\n",
       "</style>\n",
       "<table border=\"1\" class=\"dataframe\">\n",
       "  <thead>\n",
       "    <tr style=\"text-align: right;\">\n",
       "      <th></th>\n",
       "      <th>xk</th>\n",
       "      <th>xe</th>\n",
       "      <th>service</th>\n",
       "    </tr>\n",
       "    <tr>\n",
       "      <th>error_bits</th>\n",
       "      <th></th>\n",
       "      <th></th>\n",
       "      <th></th>\n",
       "    </tr>\n",
       "  </thead>\n",
       "  <tbody>\n",
       "    <tr>\n",
       "      <th>1</th>\n",
       "      <td>5685</td>\n",
       "      <td>118669</td>\n",
       "      <td>406.0</td>\n",
       "    </tr>\n",
       "    <tr>\n",
       "      <th>2</th>\n",
       "      <td>3268</td>\n",
       "      <td>2832</td>\n",
       "      <td>1.0</td>\n",
       "    </tr>\n",
       "    <tr>\n",
       "      <th>3</th>\n",
       "      <td>458</td>\n",
       "      <td>1203</td>\n",
       "      <td>NaN</td>\n",
       "    </tr>\n",
       "    <tr>\n",
       "      <th>4</th>\n",
       "      <td>141</td>\n",
       "      <td>780</td>\n",
       "      <td>NaN</td>\n",
       "    </tr>\n",
       "  </tbody>\n",
       "</table>\n",
       "</div>"
      ],
      "text/plain": [
       "              xk      xe  service\n",
       "error_bits                       \n",
       "1           5685  118669    406.0\n",
       "2           3268    2832      1.0\n",
       "3            458    1203      NaN\n",
       "4            141     780      NaN"
      ]
     },
     "execution_count": 54,
     "metadata": {},
     "output_type": "execute_result"
    }
   ],
   "source": [
    "memdf=(co_data.loc[co_data[\"Error Type\"] == \"ECC Error\"]).copy()\n",
    "\n",
    "\n",
    "#append the hex form(ep.0x10) to memdf    \n",
    "memdf['Syndrome_hex']=memdf['Syndrome'].apply(lambda x: ( hex(int((''.join(str(x))[1:]),2))))\n",
    "\n",
    "#create 4 bit hex number into \"hex\" column\n",
    "memdf['hex'] = memdf['Syndrome_hex'].apply(lambda x: ((x.lstrip(\"0x\")).zfill(4)).upper())\n",
    "\n",
    "x8 = pd.read_table(\"syndrome_x8.txt\", sep=' ', index_col='00')\n",
    "\n",
    "#build dictionary to contain all the value and row number in table x8\n",
    "header = list(x8)\n",
    "ind = list(x8.index)\n",
    "dic = {}\n",
    "for j in header:\n",
    "    for i in range (len(x8[j])):\n",
    "        dic[(x8[j])[i]] = ind[i]\n",
    "len(dic.keys())\n",
    "\n",
    "#check if the syndrome number in table x8\n",
    "listhex=memdf['hex']\n",
    "row_num=[]\n",
    "       \n",
    "def f(item):\n",
    "    if (dic.get(item) == None):\n",
    "        return 0\n",
    "    return (str(bin(int(dic[item], 16)))[2:]).count(\"1\")\n",
    "memdf['error_bits'] = memdf['hex'].apply(lambda x: f(x))\n",
    "\n",
    "\n",
    "values = memdf['error_bits'].value_counts()    \n",
    "\n",
    "#remove rows with more than 4 error bits\n",
    "df1234 = memdf[memdf['error_bits'] != 5 ]\n",
    "df1234 = df1234[df1234['error_bits'] != 6 ]\n",
    "df1234 = df1234[df1234['error_bits'] != 7 ]\n",
    "df1234 = df1234[df1234['error_bits'] != 0 ]\n",
    "df1234 = df1234[df1234['error_bits'] != 8 ]\n",
    "dfne=df1234[['Node Type','error_bits']]\n",
    "df_xe = dfne[dfne['Node Type'] == 'xe' ]\n",
    "dfxe=df_xe.groupby(['error_bits']).count()\n",
    "df_xk = dfne[dfne['Node Type'] == 'xk' ]\n",
    "dfxk=df_xk.groupby(['error_bits']).count()\n",
    "df_se = dfne[dfne['Node Type'] == 'service' ]\n",
    "dfse=df_se.groupby(['error_bits']).count()\n",
    "frames = [dfxk,dfxe,dfse]\n",
    "result = pd.concat(frames,axis=1, join='outer')\n",
    "result.columns=['xk','xe','service']\n",
    "result"
   ]
  },
  {
   "cell_type": "markdown",
   "metadata": {},
   "source": [
    "#### task2.2"
   ]
  },
  {
   "cell_type": "code",
   "execution_count": 55,
   "metadata": {},
   "outputs": [
    {
     "name": "stdout",
     "output_type": "stream",
     "text": [
      "[6101, 1661, 921, 559, 265, 105, 18] [2, 3, 4, 5, 6, 7, 8]\n"
     ]
    },
    {
     "data": {
      "image/png": "[encoded data removed]",
      "text/plain": [
       "<matplotlib.figure.Figure at 0x2d41934d0f0>"
      ]
     },
     "metadata": {},
     "output_type": "display_data"
    }
   ],
   "source": [
    "#count ones by change it to string and apply lambda function\n",
    "myarray = list((values.index).sort_values())\n",
    "lst = []\n",
    "for i in range(len(values)):\n",
    "    lst.append(values[i])\n",
    "\n",
    "# data cleaning\n",
    "del(lst[0])\n",
    "del(lst[0])\n",
    "del(myarray[0])\n",
    "del(myarray[0])\n",
    "print(lst , myarray)\n",
    "\n",
    "fig, ax = plt.subplots(figsize= (10,6))\n",
    "rects1 = ax.bar(myarray, lst, 0.6, color='b')\n",
    "plt.xlabel(\"number of bits\")\n",
    "plt.ylabel(\"frequency\")\n",
    "plt.title(\"frequency of the bit error > 1\")\n",
    "ax.set_xticks(np.asarray(myarray))\n",
    "ax.legend(['Bit Error'])\n",
    "\n",
    "def autolabel(rects):\n",
    "    \"\"\"\n",
    "    Attach a text label above each bar displaying its height\n",
    "    \"\"\"\n",
    "    for rect in rects:\n",
    "        height = rect.get_height()\n",
    "        ax.text(rect.get_x() + rect.get_width()/2., 1.05*height,\n",
    "                '%d' % int(height),\n",
    "                ha='center', va='bottom')\n",
    "\n",
    "autolabel(rects1)\n",
    "plt.show()"
   ]
  },
  {
   "cell_type": "code",
   "execution_count": 56,
   "metadata": {},
   "outputs": [
    {
     "data": {
      "image/png": "[encoded data removed]",
      "text/plain": [
       "<matplotlib.figure.Figure at 0x2d45d56bac8>"
      ]
     },
     "metadata": {},
     "output_type": "display_data"
    }
   ],
   "source": [
    "from numpy import linalg as la\n",
    "#count ones by change it to string and apply lambda function\n",
    "#df['decode'] = df['Syndrome'].apply(lambda x: str(x).count('1'))\n",
    "#myarray = list(((df['decode'].value_counts()).index).sort_values())\n",
    "\n",
    "xe = memdf.loc[memdf['Node Type'] == \"xe\"]\n",
    "xk = memdf.loc[memdf['Node Type'] == \"xk\"]\n",
    "service = memdf.loc[memdf['Node Type'] == \"service\"]\n",
    "xe_values = xe['error_bits'].value_counts()\n",
    "xk_values = xk['error_bits'].value_counts()\n",
    "service_values = service['error_bits'].value_counts()\n",
    "xe_sort = list((xe_values.index).sort_values())\n",
    "xk_sort = list((xk_values.index).sort_values())\n",
    "service_sort = list(((service_values).index).sort_values())\n",
    "\n",
    "lst_xe = []\n",
    "lst_xk = []\n",
    "lst_service = []\n",
    "# print(service_values,service_sort)\n",
    "# # print(xe)\n",
    "for i in myarray:\n",
    "    if i in xe_sort:\n",
    "        lst_xe.append(xe_values[i])\n",
    "    else:\n",
    "        lst_xe.append(0)\n",
    "    \n",
    "    if i in xk_sort:\n",
    "        lst_xk.append(xk_values[i])\n",
    "    else:\n",
    "        lst_xk.append(0)\n",
    "    \n",
    "    if i in service_sort:\n",
    "        lst_service.append(service_values[i])\n",
    "    else:\n",
    "        lst_service.append(0)\n",
    "\n",
    "ind = np.arange(2,len(myarray)+2,1)\n",
    "fig, ax = plt.subplots(figsize= (15,10))\n",
    "rects1 = ax.bar(ind-0.2, lst_xe, 0.2, color='b')\n",
    "rects2 = ax.bar(ind, lst_xk, 0.2, color='r')\n",
    "rects3 = ax.bar(ind+0.2, lst_service, 0.2, color='g')\n",
    "plt.xlabel(\"number of bits\")\n",
    "plt.ylabel(\"frequency\")\n",
    "plt.title(\"frequency of the bit error > 1 base on different type of nodes\")\n",
    "ax.set_xticks(np.asarray(myarray))\n",
    "ax.legend(['XE Bit Error','XK Bit Error', 'Service Bit Error'])\n",
    "\n",
    "def autolabel(rects):\n",
    "    \"\"\"\n",
    "    Attach a text label above each bar displaying its height\n",
    "    \"\"\"\n",
    "    for rect in rects:\n",
    "        height = rect.get_height()\n",
    "        ax.text(rect.get_x() + rect.get_width()/2., 1.05*height,\n",
    "                '%.4f' % round(float(height),4),\n",
    "                ha='center', va='bottom')\n",
    "\n",
    "autolabel(rects1)\n",
    "autolabel(rects2)\n",
    "autolabel(rects3)\n",
    "plt.show()"
   ]
  },
  {
   "cell_type": "markdown",
   "metadata": {},
   "source": [
    "#### task2.3"
   ]
  },
  {
   "cell_type": "code",
   "execution_count": 57,
   "metadata": {},
   "outputs": [
    {
     "data": {
      "image/png": "[encoded data removed]",
      "text/plain": [
       "<matplotlib.figure.Figure at 0x2d41a0cf630>"
      ]
     },
     "metadata": {},
     "output_type": "display_data"
    },
    {
     "data": {
      "image/png": "[encoded data removed]",
      "text/plain": [
       "<matplotlib.figure.Figure at 0x2d45e2d7550>"
      ]
     },
     "metadata": {},
     "output_type": "display_data"
    }
   ],
   "source": [
    "xkxedf=(co_data.loc[co_data[\"Error Type\"] == \"ECC Error\"]).copy()\n",
    "\n",
    "\n",
    "xe = xkxedf.loc[xkxedf['Node Type'] == \"xe\"]\n",
    "xk = xkxedf.loc[xkxedf['Node Type'] == \"xk\"]\n",
    "xe_ = xe[\"Complete Node\"].value_counts()\n",
    "xk_ = xk[\"Complete Node\"].value_counts()\n",
    "xe_=pd.Series(xe_).where(lambda x : x!=1).dropna()\n",
    "xk_=pd.Series(xk_).where(lambda x : x!=1).dropna()\n",
    "\n",
    "lst_xe = xe_.apply(lambda x: (x/64))\n",
    "lst_xk = xk_.apply(lambda x: (x/32))\n",
    "# s_xe = pd.Series(lst_xe)\n",
    "# s_xe = s_xe[s_xe >1]\n",
    "# s_xk = pd.Series(lst_xk)\n",
    "# s_xk = s_xk[s_xk >1]\n",
    "\n",
    "lst_xee = []\n",
    "lst_xkk = []\n",
    "lst_xe.apply(lambda x: lst_xee.append(x))\n",
    "lst_xk.apply(lambda x: lst_xkk.append(x))\n",
    "\n",
    "ind = np.arange(len(lst_xkk))\n",
    "fig, ax = plt.subplots(figsize= (15,10))\n",
    "rects1 = ax.bar(ind-0.2, lst_xkk, 0.2, color='b')\n",
    "plt.xlabel(\"xk nodes\")\n",
    "plt.ylabel(\"rates\")\n",
    "plt.title(\"rates of xk nodes\")\n",
    "ax.legend(['rates'])\n",
    "plt.show()\n",
    "\n",
    "ind2=np.arange(len(lst_xee))\n",
    "fig, ax = plt.subplots(figsize= (15,10))\n",
    "rects1 = ax.bar(ind2-0.2, lst_xee, 0.2, color='b')\n",
    "plt.xlabel(\"xe nodes\")\n",
    "plt.ylabel(\"rates\")\n",
    "plt.title(\"rates of xe nodes\")\n",
    "ax.legend(['rates'])\n",
    "plt.show()"
   ]
  },
  {
   "cell_type": "markdown",
   "metadata": {},
   "source": [
    "#### task2.4"
   ]
  },
  {
   "cell_type": "code",
   "execution_count": 58,
   "metadata": {},
   "outputs": [
    {
     "name": "stdout",
     "output_type": "stream",
     "text": [
      "9630 uncorrectable errors would Blue Waters have if it only used ECC SEC-DED\n"
     ]
    }
   ],
   "source": [
    "memdf['SEC_DED_UC']=np.where((memdf['error_bits']>1), 1 , 0 )\n",
    "print (str(int(memdf['SEC_DED_UC'].sum()))+\" uncorrectable errors would Blue Waters have if it only used ECC SEC-DED\")"
   ]
  },
  {
   "cell_type": "code",
   "execution_count": 59,
   "metadata": {},
   "outputs": [
    {
     "name": "stdout",
     "output_type": "stream",
     "text": [
      "improved ECC:\n",
      "MTBF=120.266111111\n",
      "FIT(number of failures in 10^9 hours)=2156721\n",
      "regular ECC:\n",
      "MTBF=0.144291324959 hours\n",
      "FIT(number of failures in 10^9 hours)=6925233644\n"
     ]
    }
   ],
   "source": [
    "SEC_DEC_df1=co_data.loc[co_data[\"Error Type\"] != \"ECC Error\"].copy()\n",
    "SEC_DEC_df1['SEC_DED_UC']=SEC_DEC_df1['UC']\n",
    "SEC_DEC_df2=memdf.copy().drop(['Syndrome_hex','hex','error_bits'],axis=1)\n",
    "result = pd.concat([SEC_DEC_df1,SEC_DEC_df2])\n",
    "\n",
    "\n",
    "df2=co_data[co_data['UC']==1]\n",
    "min_downtime=df2['Time'].min()\n",
    "max_downtime=df2['Time'].max()\n",
    "TBF=(max_downtime-min_downtime)/3600\n",
    "\n",
    "print (\"improved ECC:\")\n",
    "print (\"MTBF=\"+str(TBF/3))\n",
    "total_time=(co_data['Time'].max()-co_data['Time'].min())/3600\n",
    "print (\"FIT(number of failures in 10^9 hours)=\"+str(int((10**9*3)/int(total_time))))\n",
    "\n",
    "df2_SEC=result[result['SEC_DED_UC']==1]\n",
    "min_downtime_dec=df2_SEC['Time'].min()\n",
    "max_downtime_dec=df2_SEC['Time'].max()\n",
    "TBF_dec=(max_downtime_dec-min_downtime_dec)/3600\n",
    "count_dec=result[result['SEC_DED_UC']==1].shape[0]\n",
    "\n",
    "print (\"regular ECC:\")\n",
    "print (\"MTBF=\"+str(TBF_dec/count_dec)+\" hours\")\n",
    "total_time_dec=(result['Time'].max()-result['Time'].min())/3600\n",
    "print (\"FIT(number of failures in 10^9 hours)=\"+str(int((10**9*count_dec)/int(total_time_dec))))"
   ]
  },
  {
   "cell_type": "markdown",
   "metadata": {},
   "source": [
    "#### Task3 Independence Test"
   ]
  },
  {
   "cell_type": "code",
   "execution_count": 70,
   "metadata": {},
   "outputs": [],
   "source": [
    "def foo(x):\n",
    "    if (x == \"ECC Error\"):\n",
    "        return 1\n",
    "    else:\n",
    "        return 0\n",
    "    \n",
    "co_data['isMem'] = co_data['Error Type'].apply(lambda x: foo(x))\n",
    "# print(co_data['isMem'])\n",
    "#memdf['Syndrome_hex']=memdf['Syndrome'].apply(lambda x: ( hex(int((''.join(str(x))[1:]),2))))\n",
    "# print(list(co_data['Chassis']))\n",
    "a = list(co_data['Chassis'])\n",
    "b = list(co_data['isMem'])\n"
   ]
  },
  {
   "cell_type": "code",
   "execution_count": 73,
   "metadata": {},
   "outputs": [
    {
     "name": "stdout",
     "output_type": "stream",
     "text": [
      "t = 222.253967895\n",
      "p = 0.0\n"
     ]
    }
   ],
   "source": [
    "from scipy import stats\n",
    "t2, p2 = stats.ttest_ind(a,b)\n",
    "print(\"t = \" + str(t2))\n",
    "print(\"p = \" + str(2*p2))\n"
   ]
  },
  {
   "cell_type": "markdown",
   "metadata": {},
   "source": [
    "# Task 4"
   ]
  },
  {
   "cell_type": "code",
   "execution_count": 74,
   "metadata": {},
   "outputs": [
    {
     "name": "stdout",
     "output_type": "stream",
     "text": [
      "Total entries: 10000\n"
     ]
    }
   ],
   "source": [
    "from pgmpy.models import BayesianModel\n",
    "from pgmpy.factors.discrete import TabularCPD\n",
    "\n",
    "# Defining the model structure. We can define the network by just passing a list of edges.\n",
    "model = BayesianModel([('MCE', 'OS'), ('MCE', 'APP'), ('OS', 'APP')])\n",
    "\n",
    "network = pd.read_csv(\"task4_group1.csv\", sep='\\t')\n",
    "print('Total entries: ' + str(len(network)))"
   ]
  },
  {
   "cell_type": "code",
   "execution_count": 75,
   "metadata": {},
   "outputs": [
    {
     "data": {
      "text/plain": [
       "True"
      ]
     },
     "execution_count": 75,
     "metadata": {},
     "output_type": "execute_result"
    }
   ],
   "source": [
    "model.fit(network)\n",
    "model.check_model()"
   ]
  },
  {
   "cell_type": "code",
   "execution_count": 76,
   "metadata": {
    "scrolled": false
   },
   "outputs": [
    {
     "name": "stdout",
     "output_type": "stream",
     "text": [
      "╒════════╤════════╕\n",
      "│ MCE(C) │ 0.7009 │\n",
      "├────────┼────────┤\n",
      "│ MCE(P) │ 0.1486 │\n",
      "├────────┼────────┤\n",
      "│ MCE(U) │ 0.1505 │\n",
      "╘════════╧════════╛\n",
      "╒═══════╤══════════════════════╤═════════════════════╤════════════════════╕\n",
      "│ MCE   │ MCE(C)               │ MCE(P)              │ MCE(U)             │\n",
      "├───────┼──────────────────────┼─────────────────────┼────────────────────┤\n",
      "│ OS(R) │ 0.9707518904265944   │ 0.5134589502018843  │ 0.0053156146179402 │\n",
      "├───────┼──────────────────────┼─────────────────────┼────────────────────┤\n",
      "│ OS(X) │ 0.029248109573405623 │ 0.48654104979811574 │ 0.9946843853820598 │\n",
      "╘═══════╧══════════════════════╧═════════════════════╧════════════════════╛\n",
      "╒════════╤═════════════════════╤═════════════════════╤═════════════════════╤══════════════════════╤════════╤══════════════════════╕\n",
      "│ MCE    │ MCE(C)              │ MCE(C)              │ MCE(P)              │ MCE(P)               │ MCE(U) │ MCE(U)               │\n",
      "├────────┼─────────────────────┼─────────────────────┼─────────────────────┼──────────────────────┼────────┼──────────────────────┤\n",
      "│ OS     │ OS(R)               │ OS(X)               │ OS(R)               │ OS(X)                │ OS(R)  │ OS(X)                │\n",
      "├────────┼─────────────────────┼─────────────────────┼─────────────────────┼──────────────────────┼────────┼──────────────────────┤\n",
      "│ APP(F) │ 0.05261610817166373 │ 0.9317073170731708  │ 0.20707732634338138 │ 0.9488243430152143   │ 0.5    │ 0.9933199732798931   │\n",
      "├────────┼─────────────────────┼─────────────────────┼─────────────────────┼──────────────────────┼────────┼──────────────────────┤\n",
      "│ APP(R) │ 0.9473838918283363  │ 0.06829268292682927 │ 0.7929226736566186  │ 0.051175656984785614 │ 0.5    │ 0.006680026720106881 │\n",
      "╘════════╧═════════════════════╧═════════════════════╧═════════════════════╧══════════════════════╧════════╧══════════════════════╛\n"
     ]
    }
   ],
   "source": [
    "print(model.get_cpds('MCE'))\n",
    "print(model.get_cpds('OS'))\n",
    "print(model.get_cpds('APP'))\n"
   ]
  },
  {
   "cell_type": "code",
   "execution_count": 77,
   "metadata": {},
   "outputs": [
    {
     "name": "stdout",
     "output_type": "stream",
     "text": [
      "╒═══════╤════════════╕\n",
      "│ MCE   │   phi(MCE) │\n",
      "╞═══════╪════════════╡\n",
      "│ MCE_0 │     0.7009 │\n",
      "├───────┼────────────┤\n",
      "│ MCE_1 │     0.1486 │\n",
      "├───────┼────────────┤\n",
      "│ MCE_2 │     0.1505 │\n",
      "╘═══════╧════════════╛\n",
      "0:C    1:P    2:U\n",
      "╒══════╤═══════════╕\n",
      "│ OS   │   phi(OS) │\n",
      "╞══════╪═══════════╡\n",
      "│ OS_0 │    0.7575 │\n",
      "├──────┼───────────┤\n",
      "│ OS_1 │    0.2425 │\n",
      "╘══════╧═══════════╛\n",
      "0:R    1:X\n",
      "╒═══════╤════════════╕\n",
      "│ APP   │   phi(APP) │\n",
      "╞═══════╪════════════╡\n",
      "│ APP_0 │     0.2884 │\n",
      "├───────┼────────────┤\n",
      "│ APP_1 │     0.7116 │\n",
      "╘═══════╧════════════╛\n",
      "0:F    1:R\n"
     ]
    }
   ],
   "source": [
    "from pgmpy.inference import VariableElimination\n",
    "infer = VariableElimination(model)\n",
    "print(infer.query(['MCE']) ['MCE'])\n",
    "print('0:C    1:P    2:U')\n",
    "print(infer.query(['OS']) ['OS'])\n",
    "print('0:R    1:X')\n",
    "print(infer.query(['APP']) ['APP'])\n",
    "print('0:F    1:R')\n",
    "# infer.map_query('G', evidence={'D': 0, 'I': 1})"
   ]
  },
  {
   "cell_type": "markdown",
   "metadata": {},
   "source": [
    "### Given that an application has failed, calculate the probabilities of each possible hypothesis. Apply the MAP decision rule to your hypotheses."
   ]
  },
  {
   "cell_type": "code",
   "execution_count": 78,
   "metadata": {
    "collapsed": true
   },
   "outputs": [],
   "source": [
    "hypotheses = infer.query(['MCE','OS'], evidence={'APP': 0})"
   ]
  },
  {
   "cell_type": "code",
   "execution_count": 79,
   "metadata": {},
   "outputs": [
    {
     "name": "stdout",
     "output_type": "stream",
     "text": [
      "╒═══════╤════════════╕\n",
      "│ MCE   │   phi(MCE) │\n",
      "╞═══════╪════════════╡\n",
      "│ MCE_0 │     0.1904 │\n",
      "├───────┼────────────┤\n",
      "│ MCE_1 │     0.2926 │\n",
      "├───────┼────────────┤\n",
      "│ MCE_2 │     0.5170 │\n",
      "╘═══════╧════════════╛\n"
     ]
    }
   ],
   "source": [
    "print(hypotheses['MCE'])"
   ]
  },
  {
   "cell_type": "code",
   "execution_count": 80,
   "metadata": {},
   "outputs": [
    {
     "name": "stdout",
     "output_type": "stream",
     "text": [
      "╒══════╤═══════════╕\n",
      "│ OS   │   phi(OS) │\n",
      "╞══════╪═══════════╡\n",
      "│ OS_0 │    0.1803 │\n",
      "├──────┼───────────┤\n",
      "│ OS_1 │    0.8197 │\n",
      "╘══════╧═══════════╛\n"
     ]
    }
   ],
   "source": [
    "print(hypotheses['OS'])"
   ]
  },
  {
   "cell_type": "markdown",
   "metadata": {},
   "source": [
    "#### Given that an app has failed, the most likely reason is that the OS has crashed"
   ]
  },
  {
   "cell_type": "markdown",
   "metadata": {},
   "source": [
    "### Given each of the 4 cases below, are applications more likely to fail or continue running?"
   ]
  },
  {
   "cell_type": "markdown",
   "metadata": {},
   "source": [
    "##### MCE = ‘C’, OS = ‘X’"
   ]
  },
  {
   "cell_type": "code",
   "execution_count": 81,
   "metadata": {},
   "outputs": [
    {
     "name": "stdout",
     "output_type": "stream",
     "text": [
      "Application likely to fail\n"
     ]
    }
   ],
   "source": [
    "state = 'fail' if infer.map_query(['APP'], evidence={'MCE': 0, 'OS': 1})['APP'] == 0 else 'continue running'\n",
    "print('Application likely to ' + state)"
   ]
  },
  {
   "cell_type": "markdown",
   "metadata": {},
   "source": [
    "##### MCE = ‘P’, OS = ‘R’"
   ]
  },
  {
   "cell_type": "code",
   "execution_count": 82,
   "metadata": {},
   "outputs": [
    {
     "name": "stdout",
     "output_type": "stream",
     "text": [
      "Application likely to continue running\n"
     ]
    }
   ],
   "source": [
    "state = 'fail' if infer.map_query(['APP'], evidence={'MCE': 1, 'OS': 0})['APP'] == 0 else 'continue running'\n",
    "print('Application likely to ' + state)"
   ]
  },
  {
   "cell_type": "markdown",
   "metadata": {},
   "source": [
    "##### MCE = ‘U’, OS = ‘R’\n"
   ]
  },
  {
   "cell_type": "code",
   "execution_count": 83,
   "metadata": {},
   "outputs": [
    {
     "name": "stdout",
     "output_type": "stream",
     "text": [
      "Application likely to fail\n"
     ]
    }
   ],
   "source": [
    "state = 'fail' if infer.map_query(['APP'], evidence={'MCE': 2, 'OS': 0})['APP'] == 0 else 'continue running'\n",
    "print('Application likely to ' + state)"
   ]
  },
  {
   "cell_type": "markdown",
   "metadata": {},
   "source": [
    "##### MCE = ‘U’, OS = ‘X’"
   ]
  },
  {
   "cell_type": "code",
   "execution_count": 84,
   "metadata": {},
   "outputs": [
    {
     "name": "stdout",
     "output_type": "stream",
     "text": [
      "Application likely to fail\n"
     ]
    }
   ],
   "source": [
    "state = 'fail' if infer.map_query(['APP'], evidence={'MCE': 2, 'OS': 1})['APP'] == 0 else 'continue running'\n",
    "print('Application likely to ' + state)"
   ]
  },
  {
   "cell_type": "code",
   "execution_count": null,
   "metadata": {
    "collapsed": true
   },
   "outputs": [],
   "source": []
  }
 ],
 "metadata": {
  "kernelspec": {
   "display_name": "Python 3",
   "language": "python",
   "name": "python3"
  },
  "language_info": {
   "codemirror_mode": {
    "name": "ipython",
    "version": 3
   },
   "file_extension": ".py",
   "mimetype": "text/x-python",
   "name": "python",
   "nbconvert_exporter": "python",
   "pygments_lexer": "ipython3",
   "version": "3.6.3"
  }
 },
 "nbformat": 4,
 "nbformat_minor": 2
}
