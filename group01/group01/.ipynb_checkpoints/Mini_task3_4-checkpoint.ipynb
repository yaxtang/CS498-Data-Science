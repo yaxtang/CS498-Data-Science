{
 "cells": [
  {
   "cell_type": "code",
   "execution_count": 1,
   "metadata": {
    "collapsed": true
   },
   "outputs": [],
   "source": [
    "import pandas as pd\n",
    "import numpy as np\n",
    "import matplotlib.mlab as mlab\n",
    "import matplotlib.pyplot as plt\n",
    "from collections import Counter"
   ]
  },
  {
   "cell_type": "code",
   "execution_count": null,
   "metadata": {
    "collapsed": true
   },
   "outputs": [],
   "source": [
    "month1 = pd.read_csv(\"mar13_decoded\", sep='\\t')\n",
    "month2 = pd.read_csv(\"apr13_decoded\", sep='\\t')\n",
    "\n",
    "# merge datasets into df\n",
    "df = pd.concat([month1, month2])\n",
    "df.drop(['index'])\n",
    "df.reset_index(level=0, inplace=True)\n",
    "df"
   ]
  },
  {
   "cell_type": "code",
   "execution_count": null,
   "metadata": {
    "collapsed": true
   },
   "outputs": [],
   "source": [
    "Sliding Window Algorithm:\n",
    "sliding(df_node) {\n",
    "\tW = window size;\n",
    "\tforeach event in the dataframe {\n",
    "\t\tif (T(df_node.curr) - T(df_node.prev) < W)\n",
    "\t\t\tadd df_node.curr to the current tuple;\n",
    "\t\telse\n",
    "\t\t\tcreate a new tuple with df_node.curr;\n",
    "\t}\n",
    "}"
   ]
  }
 ],
 "metadata": {
  "kernelspec": {
   "display_name": "Python 3",
   "language": "python",
   "name": "python3"
  },
  "language_info": {
   "codemirror_mode": {
    "name": "ipython",
    "version": 3
   },
   "file_extension": ".py",
   "mimetype": "text/x-python",
   "name": "python",
   "nbconvert_exporter": "python",
   "pygments_lexer": "ipython3",
   "version": "3.6.3"
  }
 },
 "nbformat": 4,
 "nbformat_minor": 2
}
