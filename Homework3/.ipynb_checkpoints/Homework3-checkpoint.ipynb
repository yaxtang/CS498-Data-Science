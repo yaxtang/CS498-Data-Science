{
 "cells": [
  {
   "cell_type": "code",
   "execution_count": 2,
   "metadata": {
    "collapsed": true
   },
   "outputs": [],
   "source": [
    "import pandas as pd\n",
    "import numpy as np\n",
    "\n",
    "import matplotlib as mpl\n",
    "import matplotlib.pyplot as plt\n",
    "\n",
    "from sklearn import datasets\n",
    "from sklearn.mixture import GaussianMixture\n",
    "from scipy import stats\n",
    "\n",
    "import seaborn as sns\n",
    "# %matplotlib notebook\n",
    "sns.set_style('whitegrid')\n",
    "from sklearn.preprocessing import StandardScaler"
   ]
  },
  {
   "cell_type": "code",
   "execution_count": 3,
   "metadata": {
    "collapsed": true
   },
   "outputs": [],
   "source": [
    "app = pd.read_csv(\"applicants.csv\")"
   ]
  },
  {
   "cell_type": "code",
   "execution_count": 93,
   "metadata": {},
   "outputs": [
    {
     "data": {
      "text/html": [
       "<div>\n",
       "<style>\n",
       "    .dataframe thead tr:only-child th {\n",
       "        text-align: right;\n",
       "    }\n",
       "\n",
       "    .dataframe thead th {\n",
       "        text-align: left;\n",
       "    }\n",
       "\n",
       "    .dataframe tbody tr th {\n",
       "        vertical-align: top;\n",
       "    }\n",
       "</style>\n",
       "<table border=\"1\" class=\"dataframe\">\n",
       "  <thead>\n",
       "    <tr style=\"text-align: right;\">\n",
       "      <th></th>\n",
       "      <th>FL</th>\n",
       "      <th>APP</th>\n",
       "      <th>AA</th>\n",
       "      <th>LA</th>\n",
       "      <th>SC</th>\n",
       "      <th>LC</th>\n",
       "      <th>HON</th>\n",
       "      <th>SMS</th>\n",
       "      <th>EXP</th>\n",
       "      <th>DRV</th>\n",
       "      <th>AMB</th>\n",
       "      <th>GSP</th>\n",
       "      <th>POT</th>\n",
       "      <th>KJ</th>\n",
       "    </tr>\n",
       "  </thead>\n",
       "  <tbody>\n",
       "    <tr>\n",
       "      <th>0</th>\n",
       "      <td>6</td>\n",
       "      <td>7</td>\n",
       "      <td>2</td>\n",
       "      <td>5</td>\n",
       "      <td>8</td>\n",
       "      <td>7</td>\n",
       "      <td>8</td>\n",
       "      <td>8</td>\n",
       "      <td>3</td>\n",
       "      <td>8</td>\n",
       "      <td>9</td>\n",
       "      <td>7</td>\n",
       "      <td>5</td>\n",
       "      <td>7</td>\n",
       "    </tr>\n",
       "    <tr>\n",
       "      <th>1</th>\n",
       "      <td>9</td>\n",
       "      <td>10</td>\n",
       "      <td>5</td>\n",
       "      <td>8</td>\n",
       "      <td>10</td>\n",
       "      <td>9</td>\n",
       "      <td>9</td>\n",
       "      <td>10</td>\n",
       "      <td>5</td>\n",
       "      <td>9</td>\n",
       "      <td>9</td>\n",
       "      <td>8</td>\n",
       "      <td>8</td>\n",
       "      <td>8</td>\n",
       "    </tr>\n",
       "    <tr>\n",
       "      <th>2</th>\n",
       "      <td>7</td>\n",
       "      <td>8</td>\n",
       "      <td>3</td>\n",
       "      <td>6</td>\n",
       "      <td>9</td>\n",
       "      <td>8</td>\n",
       "      <td>9</td>\n",
       "      <td>7</td>\n",
       "      <td>4</td>\n",
       "      <td>9</td>\n",
       "      <td>9</td>\n",
       "      <td>8</td>\n",
       "      <td>6</td>\n",
       "      <td>8</td>\n",
       "    </tr>\n",
       "    <tr>\n",
       "      <th>3</th>\n",
       "      <td>5</td>\n",
       "      <td>6</td>\n",
       "      <td>8</td>\n",
       "      <td>5</td>\n",
       "      <td>6</td>\n",
       "      <td>5</td>\n",
       "      <td>9</td>\n",
       "      <td>2</td>\n",
       "      <td>8</td>\n",
       "      <td>4</td>\n",
       "      <td>5</td>\n",
       "      <td>8</td>\n",
       "      <td>7</td>\n",
       "      <td>6</td>\n",
       "    </tr>\n",
       "    <tr>\n",
       "      <th>4</th>\n",
       "      <td>6</td>\n",
       "      <td>8</td>\n",
       "      <td>8</td>\n",
       "      <td>8</td>\n",
       "      <td>4</td>\n",
       "      <td>4</td>\n",
       "      <td>9</td>\n",
       "      <td>5</td>\n",
       "      <td>8</td>\n",
       "      <td>5</td>\n",
       "      <td>5</td>\n",
       "      <td>8</td>\n",
       "      <td>8</td>\n",
       "      <td>7</td>\n",
       "    </tr>\n",
       "  </tbody>\n",
       "</table>\n",
       "</div>"
      ],
      "text/plain": [
       "   FL   APP  AA  LA  SC  LC  HON  SMS  EXP  DRV  AMB  GSP  POT  KJ\n",
       "0    6    7   2   5   8   7    8    8    3    8    9    7    5   7\n",
       "1    9   10   5   8  10   9    9   10    5    9    9    8    8   8\n",
       "2    7    8   3   6   9   8    9    7    4    9    9    8    6   8\n",
       "3    5    6   8   5   6   5    9    2    8    4    5    8    7   6\n",
       "4    6    8   8   8   4   4    9    5    8    5    5    8    8   7"
      ]
     },
     "execution_count": 93,
     "metadata": {},
     "output_type": "execute_result"
    }
   ],
   "source": [
    "mat = app.drop(['SUIT','ID'],axis=1)\n",
    "matrix = mat.iloc[:, :46]\n",
    "classes = app.iloc[:, 15].values\n",
    "matrix.head()"
   ]
  },
  {
   "cell_type": "markdown",
   "metadata": {},
   "source": [
    "#### a. Find correlation (R) and covariance (∑̂)matrix of the applicant dataset\n"
   ]
  },
  {
   "cell_type": "code",
   "execution_count": 86,
   "metadata": {},
   "outputs": [],
   "source": [
    "cov_matrix = np.cov(matrix.T)\n",
    "corr_matrix = np.corrcoef(matrix.T)\n",
    "# cov_matrix"
   ]
  },
  {
   "cell_type": "markdown",
   "metadata": {},
   "source": [
    "#### b.Should principal component analysis be performed on the covariance or the correlation matrix? Explain your choice.\n",
    "\n",
    "Since the covariance matrix usually used when the variable scales are similar and the correlation matrix is suedwhen variables are on different scales.\n",
    "\n"
   ]
  },
  {
   "cell_type": "markdown",
   "metadata": {
    "collapsed": true
   },
   "source": [
    "#### c.Find the eigen values and eigen vectors of both R and ∑̂. Show that all pairs of eigen vectors are orthogonal to one another"
   ]
  },
  {
   "cell_type": "code",
   "execution_count": 47,
   "metadata": {},
   "outputs": [
    {
     "data": {
      "text/plain": [
       "array([ 7.03447534,  1.76516139,  1.35447166,  1.12619877,  0.78177132,\n",
       "        0.51056337,  0.38076129,  0.30647557,  0.22272887,  0.18399344,\n",
       "        0.03810695,  0.118359  ,  0.07833862,  0.0985944 ])"
      ]
     },
     "execution_count": 47,
     "metadata": {},
     "output_type": "execute_result"
    }
   ],
   "source": [
    "cov_eig_vals, cov_eig_vecs = np.linalg.eig(cov_matrix)\n",
    "corr_eig_vals, corr_eig_vecs = np.linalg.eig(corr_matrix)\n",
    "corr_eig_vals"
   ]
  },
  {
   "cell_type": "code",
   "execution_count": 46,
   "metadata": {},
   "outputs": [
    {
     "data": {
      "text/plain": [
       "array([ 55.99667564,  11.57897898,   7.55201909,   6.95018513,\n",
       "         3.82315781,   3.39624304,   2.8334446 ,   2.03442456,\n",
       "         1.55658635,   0.28181674,   1.22370184,   0.53315988,\n",
       "         0.84110516,   0.77289732])"
      ]
     },
     "execution_count": 46,
     "metadata": {},
     "output_type": "execute_result"
    }
   ],
   "source": [
    "cov_eig_vals"
   ]
  },
  {
   "cell_type": "code",
   "execution_count": 45,
   "metadata": {},
   "outputs": [
    {
     "name": "stdout",
     "output_type": "stream",
     "text": [
      "Yes, since matrix's transpose is same as original matrix, this matrix is real symmetric matrix with distint eigenvalues. From real symmetric matrix's property, eigenvectors corresponding to distinct eigenvalues are orthogonal.\n"
     ]
    }
   ],
   "source": [
    "cov_transpose = cov_matrix.transpose()\n",
    "if (cov_transpose.any() == cov_matrix.any()):\n",
    "    print(\"Yes, since matrix's transpose is same as original matrix, this matrix is real symmetric matrix with distint eigenvalues. From real symmetric matrix's property, eigenvectors corresponding to distinct eigenvalues are orthogonal.\")"
   ]
  },
  {
   "cell_type": "code",
   "execution_count": 44,
   "metadata": {},
   "outputs": [
    {
     "name": "stdout",
     "output_type": "stream",
     "text": [
      "Yes,since matrix's transpose is same as original matrix, this matrix is real symmetric matrix with distint eigenvalues. From real symmetric matrix's property, eigenvectors corresponding to distinct eigenvalues are orthogonal.\n"
     ]
    }
   ],
   "source": [
    "corr_transpose = corr_matrix.transpose()\n",
    "if (corr_transpose.any() == corr_matrix.any()):\n",
    "    print(\"Yes,since matrix's transpose is same as original matrix, this matrix is real symmetric matrix with distint eigenvalues. From real symmetric matrix's property, eigenvectors corresponding to distinct eigenvalues are orthogonal.\")"
   ]
  },
  {
   "cell_type": "markdown",
   "metadata": {},
   "source": [
    "#### d. Show that sum of the eigen values of  ∑̂ is equal to the trace of  ∑̂ \n"
   ]
  },
  {
   "cell_type": "code",
   "execution_count": 54,
   "metadata": {},
   "outputs": [
    {
     "name": "stdout",
     "output_type": "stream",
     "text": [
      "Sum of the eigen values is, 99.3743961353 and trace is, 99.3743961353 Are they equal? Yes\n"
     ]
    }
   ],
   "source": [
    "sumofeigen = 0\n",
    "trace = 0\n",
    "for i in range(len(cov_eig_vals)):\n",
    "    sumofeigen+= cov_eig_vals[i]\n",
    "    trace+= cov_matrix[i][i]\n",
    "print(\"Sum of the eigen values is,\", sumofeigen, \"and trace is,\", trace,\"Are they equal? Yes\")"
   ]
  },
  {
   "cell_type": "markdown",
   "metadata": {},
   "source": [
    "#### e. Run PCA analysis on the dataset based on your choice in part 2.b. \n",
    "i.How many principal components are required to describe the space in which the data actually falls? \n",
    "\n",
    "ii.Show the scree plot for your PCA analysis\n",
    "\n",
    "iii.Plot the first principal component against the second principal component and include an interpretation \n",
    "\n",
    "iv.Explain the benefits of running PCA analysis on this dataset"
   ]
  },
  {
   "cell_type": "markdown",
   "metadata": {},
   "source": [
    "##### i.How many principal components are required to describe the space in which the data actually falls? "
   ]
  },
  {
   "cell_type": "code",
   "execution_count": 55,
   "metadata": {},
   "outputs": [
    {
     "name": "stdout",
     "output_type": "stream",
     "text": [
      "In order to choose how many principal components we need, we need to choose the largest the eigenvalues, since the less the eigenvalues, it gives us the less the information we need.\n"
     ]
    }
   ],
   "source": [
    "print(\"In order to choose how many principal components we need, we need to choose the largest the eigenvalues, since the less the eigenvalues, it gives us the less the information we need.\")"
   ]
  },
  {
   "cell_type": "code",
   "execution_count": 63,
   "metadata": {},
   "outputs": [
    {
     "data": {
      "text/plain": [
       "array([  56.3491984 ,   68.00107195,   75.60063419,   82.59457368,\n",
       "         86.44179989,   89.85942371,   92.71070604,   94.75793816,\n",
       "         96.32432389,   97.55572944,   98.40212972,   99.17989276,\n",
       "         99.7164091 ,  100.        ])"
      ]
     },
     "execution_count": 63,
     "metadata": {},
     "output_type": "execute_result"
    }
   ],
   "source": [
    "total = sum(cov_eig_vals)\n",
    "var_exp = [(i / total)*100 for i in sorted(cov_eig_vals, reverse=True)]\n",
    "cum_var_exp = np.cumsum(var_exp)\n",
    "cum_var_exp"
   ]
  },
  {
   "cell_type": "code",
   "execution_count": 67,
   "metadata": {},
   "outputs": [
    {
     "name": "stdout",
     "output_type": "stream",
     "text": [
      "Since I want the amount of explained variance explains 70 to 80% of the variance at least, here I would like to choose 3 principal components\n"
     ]
    }
   ],
   "source": [
    "print(\"Since I want the amount of explained variance explains 70 to 80% of the variance at least, here I would like to choose 3 principal components\")"
   ]
  },
  {
   "cell_type": "markdown",
   "metadata": {},
   "source": [
    "##### ii.Show the scree plot for your PCA analysis"
   ]
  },
  {
   "cell_type": "code",
   "execution_count": 64,
   "metadata": {},
   "outputs": [
    {
     "data": {
      "image/png": "[encoded data removed]",
      "text/plain": [
       "<matplotlib.figure.Figure at 0x1f0a25fac50>"
      ]
     },
     "metadata": {},
     "output_type": "display_data"
    }
   ],
   "source": [
    "\n",
    "with plt.style.context('seaborn-whitegrid'):\n",
    "    plt.figure(figsize=(6, 4))\n",
    "\n",
    "    plt.bar(range(14), var_exp, alpha=0.5, align='center',\n",
    "            label='individual explained variance')\n",
    "    plt.step(range(14), cum_var_exp, where='mid',\n",
    "             label='cumulative explained variance')\n",
    "    plt.ylabel('Explained variance ratio')\n",
    "    plt.xlabel('Principal components')\n",
    "    plt.legend(loc='best')\n",
    "    plt.tight_layout()\n",
    "    plt.show()"
   ]
  },
  {
   "cell_type": "code",
   "execution_count": 98,
   "metadata": {},
   "outputs": [
    {
     "name": "stdout",
     "output_type": "stream",
     "text": [
      "Since I want the amount of explained variance explains 70 to 80% of the variance at least, here I would like to choose 3 or 4 principal components\n"
     ]
    }
   ],
   "source": [
    "print(\"Since I want the amount of explained variance explains 70 to 80% of the variance at least, here I would like to choose 3 or 4 principal components\")"
   ]
  },
  {
   "cell_type": "markdown",
   "metadata": {},
   "source": [
    "##### iii.Plot the first principal component against the second principal component and include an interpretation "
   ]
  },
  {
   "cell_type": "code",
   "execution_count": 72,
   "metadata": {},
   "outputs": [],
   "source": [
    "eig_pairs = [(np.abs(cov_eig_vals[i]), cov_eig_vecs[:,i]) for i in range(len(cov_eig_vals))]\n",
    "eig_pairs.sort(key=lambda x: x[0], reverse=True)\n",
    "\n"
   ]
  },
  {
   "cell_type": "code",
   "execution_count": 159,
   "metadata": {},
   "outputs": [
    {
     "name": "stdout",
     "output_type": "stream",
     "text": [
      "[[ 0.21892761  0.37650244]\n",
      " [ 0.13024625  0.0133546 ]\n",
      " [ 0.04777181 -0.02970922]\n",
      " [ 0.17083567  0.49651942]\n",
      " [ 0.22182748 -0.278704  ]\n",
      " [ 0.34765868 -0.21857609]\n",
      " [ 0.06360692  0.22041246]\n",
      " [ 0.39972639 -0.29106107]\n",
      " [ 0.25339158  0.4121855 ]\n",
      " [ 0.32683295 -0.07138858]\n",
      " [ 0.3127551  -0.23809814]\n",
      " [ 0.35295037 -0.06929126]\n",
      " [ 0.36461627  0.05652294]\n",
      " [ 0.20827102  0.33499806]]\n"
     ]
    },
    {
     "data": {
      "text/plain": [
       "array([10, 10, 10,  5,  7,  6, 10, 10, 10, 10,  5,  7,  8,  6,  6, 10,  8,\n",
       "        4,  4,  9,  8,  8,  8,  8,  4,  6,  5,  0,  0,  3,  3,  2,  2,  2,\n",
       "        3,  3,  2,  2, 10, 10,  8,  5,  5,  4,  0,  0], dtype=int64)"
      ]
     },
     "execution_count": 159,
     "metadata": {},
     "output_type": "execute_result"
    }
   ],
   "source": [
    "matrix_w = np.hstack((eig_pairs[0][1].reshape(14,1),\n",
    "                      -eig_pairs[1][1].reshape(14,1)))\n",
    "print(matrix_w)\n",
    "m = matrix.values\n",
    "Y = m.dot(matrix_w)\n",
    "# print(Y)\n",
    "classes"
   ]
  },
  {
   "cell_type": "code",
   "execution_count": 160,
   "metadata": {},
   "outputs": [
    {
     "data": {
      "image/png": "[encoded data removed]",
      "text/plain": [
       "<matplotlib.figure.Figure at 0x1f0a27e25c0>"
      ]
     },
     "metadata": {},
     "output_type": "display_data"
    }
   ],
   "source": [
    "with plt.style.context('seaborn-whitegrid'):\n",
    "    plt.figure(figsize=(12, 8))\n",
    "    for  lab, col in zip(range(11),\n",
    "                        ('blue', 'red', 'green', 'black','orange', 'yellow','cyan', 'purple', 'pink', 'olive', 'brown')):\n",
    "        plt.scatter(Y[classes == lab,0],\n",
    "                    Y[classes == lab,1],\n",
    "                    label=lab,\n",
    "                    c=col)\n",
    "    plt.xlabel('Principal Component 1')\n",
    "    plt.ylabel('Principal Component 2')\n",
    "    plt.legend(loc='lower center')\n",
    "    plt.tight_layout()\n",
    "    plt.show()"
   ]
  },
  {
   "cell_type": "code",
   "execution_count": null,
   "metadata": {
    "collapsed": true
   },
   "outputs": [],
   "source": []
  }
 ],
 "metadata": {
  "kernelspec": {
   "display_name": "Python 3",
   "language": "python",
   "name": "python3"
  },
  "language_info": {
   "codemirror_mode": {
    "name": "ipython",
    "version": 3
   },
   "file_extension": ".py",
   "mimetype": "text/x-python",
   "name": "python",
   "nbconvert_exporter": "python",
   "pygments_lexer": "ipython3",
   "version": "3.6.3"
  }
 },
 "nbformat": 4,
 "nbformat_minor": 2
}
