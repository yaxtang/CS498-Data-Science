{
 "cells": [
  {
   "cell_type": "markdown",
   "metadata": {},
   "source": [
    "# Mini_Project 2\n",
    "## Taks 0"
   ]
  },
  {
   "cell_type": "code",
   "execution_count": 1,
   "metadata": {
    "collapsed": true
   },
   "outputs": [],
   "source": [
    "import pandas as pd\n",
    "import numpy as np\n",
    "\n",
    "import matplotlib as mpl\n",
    "import matplotlib.pyplot as plt\n",
    "\n",
    "from sklearn import datasets\n",
    "from sklearn.mixture import GaussianMixture\n",
    "from scipy import stats\n",
    "\n",
    "import seaborn as sns\n",
    "# %matplotlib notebook\n",
    "sns.set_style('whitegrid')"
   ]
  },
  {
   "cell_type": "code",
   "execution_count": 2,
   "metadata": {
    "collapsed": true
   },
   "outputs": [],
   "source": [
    "baseline_csv = pd.read_csv(\"498DS_BaselineData.csv\")\n",
    "metformin_csv = pd.read_csv(\"498DS_MetforminData.csv\")"
   ]
  },
  {
   "cell_type": "code",
   "execution_count": 3,
   "metadata": {},
   "outputs": [
    {
     "name": "stdout",
     "output_type": "stream",
     "text": [
      "174\n",
      "182\n"
     ]
    }
   ],
   "source": [
    "\n",
    "print(len(baseline_csv.columns))\n",
    "print(len(metformin_csv.columns))\n",
    "#     Baseline cells: s_85_M2_N704_S502_RPKM, s_85_M2_N704_S504_RPKM and s_85_M2_N711_S507_RPKM\n",
    "# ·         Metformin cells: s_204_M2_N704_S503_RPKM, s_204_M2_N711_S502_RPKM and s_63_M2_N702_S502_RPKM\n",
    "# ·         Gene: TXNRD1"
   ]
  },
  {
   "cell_type": "code",
   "execution_count": 4,
   "metadata": {},
   "outputs": [
    {
     "data": {
      "text/html": [
       "<div>\n",
       "<style>\n",
       "    .dataframe thead tr:only-child th {\n",
       "        text-align: right;\n",
       "    }\n",
       "\n",
       "    .dataframe thead th {\n",
       "        text-align: left;\n",
       "    }\n",
       "\n",
       "    .dataframe tbody tr th {\n",
       "        vertical-align: top;\n",
       "    }\n",
       "</style>\n",
       "<table border=\"1\" class=\"dataframe\">\n",
       "  <thead>\n",
       "    <tr style=\"text-align: right;\">\n",
       "      <th></th>\n",
       "      <th>Chr</th>\n",
       "      <th>GeneID</th>\n",
       "      <th>StartCoding</th>\n",
       "      <th>Stop</th>\n",
       "      <th>CodingLength</th>\n",
       "      <th>s_62_M2_N701_S502_RPKM</th>\n",
       "      <th>s_62_M2_N701_S503_RPKM</th>\n",
       "      <th>s_62_M2_N701_S504_RPKM</th>\n",
       "      <th>s_62_M2_N701_S505_RPKM</th>\n",
       "      <th>s_62_M2_N701_S506_RPKM</th>\n",
       "      <th>...</th>\n",
       "      <th>s_85_M2_N711_S501_RPKM</th>\n",
       "      <th>s_85_M2_N711_S502_RPKM</th>\n",
       "      <th>s_85_M2_N711_S503_RPKM</th>\n",
       "      <th>s_85_M2_N711_S504_RPKM</th>\n",
       "      <th>s_85_M2_N711_S506_RPKM</th>\n",
       "      <th>s_85_M2_N711_S507_RPKM</th>\n",
       "      <th>s_85_M2_N711_S508_RPKM</th>\n",
       "      <th>s_85_M2_N712_S503_RPKM</th>\n",
       "      <th>s_85_M2_N712_S504_RPKM</th>\n",
       "      <th>s_85_M2_N712_S505_RPKM</th>\n",
       "    </tr>\n",
       "  </thead>\n",
       "  <tbody>\n",
       "    <tr>\n",
       "      <th>754</th>\n",
       "      <td>chr12</td>\n",
       "      <td>TXNRD1</td>\n",
       "      <td>104609559</td>\n",
       "      <td>104744062</td>\n",
       "      <td>4233</td>\n",
       "      <td>160.147832</td>\n",
       "      <td>0.0</td>\n",
       "      <td>129.160314</td>\n",
       "      <td>126.879342</td>\n",
       "      <td>57.828562</td>\n",
       "      <td>...</td>\n",
       "      <td>97.496592</td>\n",
       "      <td>0.0</td>\n",
       "      <td>168.027198</td>\n",
       "      <td>57.838335</td>\n",
       "      <td>113.881628</td>\n",
       "      <td>54.60663</td>\n",
       "      <td>160.100423</td>\n",
       "      <td>82.398247</td>\n",
       "      <td>97.580781</td>\n",
       "      <td>61.414455</td>\n",
       "    </tr>\n",
       "  </tbody>\n",
       "</table>\n",
       "<p>1 rows × 174 columns</p>\n",
       "</div>"
      ],
      "text/plain": [
       "       Chr  GeneID  StartCoding       Stop  CodingLength  \\\n",
       "754  chr12  TXNRD1    104609559  104744062          4233   \n",
       "\n",
       "     s_62_M2_N701_S502_RPKM  s_62_M2_N701_S503_RPKM  s_62_M2_N701_S504_RPKM  \\\n",
       "754              160.147832                     0.0              129.160314   \n",
       "\n",
       "     s_62_M2_N701_S505_RPKM  s_62_M2_N701_S506_RPKM           ...            \\\n",
       "754              126.879342               57.828562           ...             \n",
       "\n",
       "     s_85_M2_N711_S501_RPKM  s_85_M2_N711_S502_RPKM  s_85_M2_N711_S503_RPKM  \\\n",
       "754               97.496592                     0.0              168.027198   \n",
       "\n",
       "     s_85_M2_N711_S504_RPKM  s_85_M2_N711_S506_RPKM  s_85_M2_N711_S507_RPKM  \\\n",
       "754               57.838335              113.881628                54.60663   \n",
       "\n",
       "     s_85_M2_N711_S508_RPKM  s_85_M2_N712_S503_RPKM  s_85_M2_N712_S504_RPKM  \\\n",
       "754              160.100423               82.398247               97.580781   \n",
       "\n",
       "     s_85_M2_N712_S505_RPKM  \n",
       "754               61.414455  \n",
       "\n",
       "[1 rows x 174 columns]"
      ]
     },
     "execution_count": 4,
     "metadata": {},
     "output_type": "execute_result"
    }
   ],
   "source": [
    "metformin_csv[metformin_csv['GeneID'] == 'TXNRD1']\n",
    "baseline_csv[baseline_csv['GeneID'] == 'TXNRD1']\n"
   ]
  },
  {
   "cell_type": "markdown",
   "metadata": {},
   "source": [
    "### Task 1.1 Import both datasets into Pandas.\n",
    "        How many gene samples are present in each dataset?\n",
    "        How many cells are present in each dataset?\n",
    "        How many genes are common in both datasets?\n"
   ]
  },
  {
   "cell_type": "code",
   "execution_count": 5,
   "metadata": {},
   "outputs": [
    {
     "name": "stdout",
     "output_type": "stream",
     "text": [
      "In base cell dataset, there are 1170 gene samples in datatset\n",
      "In metformin dateset, there are 1170 gene samples in datatset\n"
     ]
    }
   ],
   "source": [
    "print(\"In base cell dataset, there are\", len(baseline_csv), \"gene samples in datatset\")\n",
    "print(\"In metformin dateset, there are\",len(metformin_csv), \"gene samples in datatset\")"
   ]
  },
  {
   "cell_type": "code",
   "execution_count": 6,
   "metadata": {},
   "outputs": [
    {
     "name": "stdout",
     "output_type": "stream",
     "text": [
      "In base cell, there are 169  cells in datatset\n",
      "In metformin cell, there are 177 cells in datatset\n"
     ]
    }
   ],
   "source": [
    "baseline = baseline_csv.drop(['Chr','GeneID','StartCoding','Stop','CodingLength'], axis=1)\n",
    "metformin= metformin_csv.drop(['Chr','GeneID','Stop','Start','CodingLength'], axis=1)\n",
    "print(\"In base cell, there are\", len(baseline.columns), \" cells in datatset\")\n",
    "print(\"In metformin cell, there are\",len(metformin.columns), \"cells in datatset\")"
   ]
  },
  {
   "cell_type": "code",
   "execution_count": 7,
   "metadata": {},
   "outputs": [
    {
     "name": "stdout",
     "output_type": "stream",
     "text": [
      "There are 833 genes are common in both datasets\n"
     ]
    }
   ],
   "source": [
    "met_list = list(metformin_csv['GeneID'])\n",
    "base_list = list(baseline_csv['GeneID'])\n",
    "common = list(set(met_list).intersection(base_list))\n",
    "print(\"There are\",len(common),\"genes are common in both datasets\")"
   ]
  },
  {
   "cell_type": "markdown",
   "metadata": {
    "collapsed": true
   },
   "source": [
    "### Task 1.2 Plot the variation of gene expression across different genes for your assigned cells. You will have two plots - One for baseline cells and another for Metformin cells.\n",
    "\n",
    "   "
   ]
  },
  {
   "cell_type": "code",
   "execution_count": 8,
   "metadata": {
    "collapsed": true
   },
   "outputs": [],
   "source": [
    "import numpy as np\n",
    "import pandas as pd\n",
    "from scipy import stats, integrate\n",
    "import matplotlib.pyplot as plt\n",
    "import seaborn as sns"
   ]
  },
  {
   "cell_type": "code",
   "execution_count": 9,
   "metadata": {
    "collapsed": true
   },
   "outputs": [],
   "source": [
    "s502 = baseline_csv['s_85_M2_N704_S502_RPKM']\n",
    "s502 = s502[(32 < s502) & (s502 < 2000)]\n",
    "s502 = np.log(s502)\n",
    "s504 = baseline_csv['s_85_M2_N704_S504_RPKM']\n",
    "s504 = s504[(32 < s504) & (s504 < 2000)]\n",
    "s504 = np.log(s504)\n",
    "s507 = baseline_csv['s_85_M2_N711_S507_RPKM']\n",
    "s507 = s507[(32 < s507) & (s507 < 2000)]\n",
    "s507 = np.log(s507)\n",
    "\n",
    "s704 = metformin_csv['s_204_M2_N704_S503_RPKM']\n",
    "s704 = s704[(32 < s704) & (s704 < 2000)]\n",
    "s704 = np.log(s704)\n",
    "s711 = metformin_csv['s_204_M2_N711_S502_RPKM']\n",
    "s711 = s711[(32 < s711) & (s711 < 2000)]\n",
    "s711 = np.log(s711)\n",
    "s702 = metformin_csv['s_63_M2_N702_S502_RPKM']\n",
    "s702 = s702[(32 < s702) & (s702 < 2000)]\n",
    "s702 = np.log(s702)\n"
   ]
  },
  {
   "cell_type": "code",
   "execution_count": 10,
   "metadata": {},
   "outputs": [
    {
     "data": {
      "image/png": "[encoded data removed]",
      "text/plain": [
       "<matplotlib.figure.Figure at 0x1edbeefc278>"
      ]
     },
     "metadata": {},
     "output_type": "display_data"
    }
   ],
   "source": [
    "\n",
    "f, ax = plt.subplots(figsize=(10, 10))\n",
    "sns.distplot(s504, ax=ax,color=\"red\",label = \"s_85_M2_N704_S504_RPKM\",hist=False);\n",
    "sns.distplot(s507, ax=ax,color=\"yellow\",label = \"s_85_M2_N711_S507_RPKM\",hist=False);\n",
    "sns.distplot(s502, ax=ax,color=\"blue\",label = \"s_85_M2_N704_S502_RPKM\",hist=False);\n",
    "ax.legend()\n",
    "ax.set_title('Variation of gene expression from basecell cells')\n",
    "ax.set_ylabel('pdf')\n",
    "ax.set_xlabel('(log) gene expression')\n",
    "plt.show()\n",
    "\n"
   ]
  },
  {
   "cell_type": "code",
   "execution_count": 11,
   "metadata": {
    "scrolled": true
   },
   "outputs": [
    {
     "data": {
      "image/png": "[encoded data removed]",
      "text/plain": [
       "<matplotlib.figure.Figure at 0x1edbf5657f0>"
      ]
     },
     "metadata": {},
     "output_type": "display_data"
    }
   ],
   "source": [
    "from numpy import linalg as LA\n",
    "f, ax = plt.subplots(figsize=(10,10))\n",
    "\n",
    "sns.distplot(s704, ax=ax,color=\"red\",label = \"s_204_M2_N704_S503_RPKM\",hist=False);\n",
    "sns.distplot(s711, ax=ax,color=\"blue\",label = \"s_204_M2_N711_S502_RPKM\",hist=False);\n",
    "sns.distplot(s702, ax=ax,color=\"yellow\",label = \"s_63_M2_N702_S502_RPKM\",hist=False);\n",
    "ax.legend()\n",
    "ax.set_title('Variation of gene expression from metformin cells')\n",
    "ax.set_ylabel('pdf')\n",
    "ax.set_xlabel('(log) gene expression')\n",
    "plt.show()\n"
   ]
  },
  {
   "cell_type": "markdown",
   "metadata": {},
   "source": [
    "### Task 1.3 Plot the variation of gene expression across different cells for your assigned gene.\n"
   ]
  },
  {
   "cell_type": "code",
   "execution_count": 12,
   "metadata": {
    "collapsed": true
   },
   "outputs": [],
   "source": [
    "bGene = baseline_csv[baseline_csv['GeneID'] == 'TXNRD1']\n",
    "bGene = bGene.drop(['Chr','GeneID','StartCoding','Stop','CodingLength'], axis=1)\n",
    "mGene = metformin_csv[metformin_csv['GeneID'] == 'TXNRD1']\n",
    "mGene = mGene.drop(['Chr','GeneID','Stop','Start','CodingLength'], axis=1)\n"
   ]
  },
  {
   "cell_type": "code",
   "execution_count": 13,
   "metadata": {
    "collapsed": true
   },
   "outputs": [],
   "source": [
    "bGene=  bGene[(32 < bGene) & (bGene < 2000)]\n",
    "b = (bGene.values.tolist())[0]\n",
    "b = [x for x in b if str(x) != 'nan']\n",
    "b = np.log(b)\n",
    "mGene=  mGene[(32 < mGene) & (mGene < 2000)]\n",
    "m = ((mGene.values).tolist())[0]\n",
    "m = [x for x in m if str(x) != 'nan']\n",
    "m = np.log(m)"
   ]
  },
  {
   "cell_type": "code",
   "execution_count": 14,
   "metadata": {
    "scrolled": true
   },
   "outputs": [
    {
     "data": {
      "image/png": "[encoded data removed]",
      "text/plain": [
       "<matplotlib.figure.Figure at 0x1edbeed9828>"
      ]
     },
     "metadata": {},
     "output_type": "display_data"
    }
   ],
   "source": [
    "\n",
    "f, ax = plt.subplots(figsize=(10, 10))\n",
    "\n",
    "sns.distplot(m, ax=ax,color=\"red\",label = \"metformin\",hist=False);\n",
    "sns.distplot(b, ax=ax,color=\"blue\",label = \"baseline\",hist=False);\n",
    "ax.legend()\n",
    "ax.set_title('Variation of gene expression from metformin cells')\n",
    "ax.set_ylabel('pdf')\n",
    "ax.set_xlabel('(log) gene expression')\n",
    "plt.show()\n"
   ]
  },
  {
   "cell_type": "markdown",
   "metadata": {},
   "source": [
    "### Task 1.4 Perform the KS test on your Baseline and Metformin Variance distributions.\n",
    "    How many genes are differentially expressed at α=0.10,0.05,0.025,0.01,0.005"
   ]
  },
  {
   "cell_type": "code",
   "execution_count": 15,
   "metadata": {},
   "outputs": [
    {
     "name": "stdout",
     "output_type": "stream",
     "text": [
      "833 genes common in both dataset\n",
      "298  with alpha = 0.1\n",
      "225  with alpha = 0.05\n",
      "180  with alpha = 0.025\n",
      "129  with alpha = 0.01\n",
      "104  with alpha = 0.005\n",
      "63  with alpha = 0.001\n"
     ]
    }
   ],
   "source": [
    "baselineT = baseline_csv.transpose()\n",
    "metforminT = metformin_csv.transpose()\n",
    "geneNames = set(baseline_csv['GeneID'].tolist()).intersection(set(metformin_csv['GeneID'].tolist()))\n",
    "print(\"%d genes common in both dataset\" % len(geneNames))\n",
    "numDifferentlyExpressedGene = 0\n",
    "candidateGenes = set()\n",
    "Gene1 = 0\n",
    "candidateGenes1 = set()\n",
    "Gene2 = 0\n",
    "candidateGenes2 = set()\n",
    "Gene3 = 0\n",
    "candidateGenes3 = set()\n",
    "Gene4 = 0\n",
    "candidateGenes4 = set()\n",
    "Gene5 = 0\n",
    "candidateGenes5 = set()\n",
    "for selectGene in geneNames:\n",
    "    bIndx = baselineT[1:2:].transpose()['GeneID'].tolist().index(selectGene)\n",
    "    mIndx = metforminT[1:2:].transpose()['GeneID'].tolist().index(selectGene)\n",
    "    bb = baselineT[bIndx].iloc[5:174].astype(float)\n",
    "    mm = metforminT[mIndx].iloc[5:174].astype(float)    \n",
    "    bb = bb[bb >=32]\n",
    "    mm = mm[mm >= 32]\n",
    "    b =np.log(bb)\n",
    "    m = np.log(mm)\n",
    "    Vars = {\n",
    "        \"Baseline\": b,\n",
    "        \"Metformin\": m\n",
    "    }\n",
    "    testResult = stats.ks_2samp(Vars['Baseline'], Vars[\"Metformin\"])\n",
    "    if testResult[1] < 0.1:\n",
    "        candidateGenes.add(selectGene)\n",
    "        numDifferentlyExpressedGene += 1\n",
    "#         print(\"%d: %s gene is differently expressed in baseline and metformin treated cells\" % (numDifferentlyExpressedGene, selectGene))\n",
    "#         print(\"Test Statistics %f, %g\" % (testResult[0], testResult[1]))\n",
    "    if testResult[1] < 0.05:\n",
    "        candidateGenes1.add(selectGene)\n",
    "        Gene1 += 1\n",
    "    if testResult[1] < 0.025:\n",
    "        candidateGenes2.add(selectGene)\n",
    "        Gene2 += 1\n",
    "    if testResult[1] < 0.01:\n",
    "        candidateGenes3.add(selectGene)\n",
    "        Gene3 += 1\n",
    "    if testResult[1] < 0.005:\n",
    "        candidateGenes4.add(selectGene)\n",
    "        Gene4 += 1\n",
    "    if testResult[1] < 0.001:\n",
    "        candidateGenes5.add(selectGene)\n",
    "        Gene5 += 1\n",
    "print(numDifferentlyExpressedGene,\" with alpha = 0.1\")\n",
    "print(Gene1,\" with alpha = 0.05\")\n",
    "print(Gene2,\" with alpha = 0.025\")\n",
    "print(Gene3,\" with alpha = 0.01\")\n",
    "print(Gene4,\" with alpha = 0.005\")\n",
    "print(Gene5,\" with alpha = 0.001\")\n"
   ]
  },
  {
   "cell_type": "code",
   "execution_count": 16,
   "metadata": {},
   "outputs": [
    {
     "data": {
      "image/png": "[encoded data removed]",
      "text/plain": [
       "<matplotlib.figure.Figure at 0x1edbf7ad3c8>"
      ]
     },
     "metadata": {},
     "output_type": "display_data"
    }
   ],
   "source": [
    "import numpy as np\n",
    "import matplotlib.pyplot as plt\n",
    "\n",
    "fig, axs =plt.subplots(figsize=(10,5))\n",
    "collabel=(\"alpha\",\"0.1\", \"0.05\", \"0.025\",\"0.01\",\"0.005\",\"0.001\")\n",
    "axs.axis('off')\n",
    "the_table = axs.table(cellText=[[\"Number\",298,225,180,129,104,63]],colLabels=collabel,loc='center')\n",
    "plt.show()"
   ]
  },
  {
   "cell_type": "markdown",
   "metadata": {},
   "source": [
    "Bayseioan \n",
    "Guassian modeling\n",
    "KMean Clustering\n",
    "6\n",
    "GMN and Kmean\n",
    "\n"
   ]
  },
  {
   "cell_type": "markdown",
   "metadata": {},
   "source": [
    "## Task 2"
   ]
  },
  {
   "cell_type": "code",
   "execution_count": 17,
   "metadata": {
    "collapsed": true
   },
   "outputs": [],
   "source": [
    "import pandas as pd\n",
    "import numpy as np\n",
    "\n",
    "import matplotlib as mpl\n",
    "import matplotlib.pyplot as plt\n",
    "\n",
    "from sklearn import datasets\n",
    "from sklearn.mixture import GaussianMixture\n",
    "from scipy import stats\n",
    "import random\n",
    "import pandas as pd\n",
    "import numpy as np\n",
    "\n",
    "import seaborn as sns\n",
    "import matplotlib as mpl\n",
    "import matplotlib.pyplot as plt\n",
    "\n",
    "from sklearn.cluster import KMeans\n",
    "from sklearn.mixture import GaussianMixture\n",
    "from sklearn.metrics import silhouette_score\n",
    "\n",
    "import seaborn as sns\n",
    "# %matplotlib notebook\n",
    "sns.set_style('whitegrid')\n",
    "\n",
    "rpkmThreshold = 32\n",
    "numBaselineClustGMM = 2\n",
    "numMetforminClustGMM = 3"
   ]
  },
  {
   "cell_type": "markdown",
   "metadata": {},
   "source": [
    "### 1. Extract your RPKM matrix from each dataset. This is simply the dataframe without the first few columns that contain metadata."
   ]
  },
  {
   "cell_type": "code",
   "execution_count": 18,
   "metadata": {
    "collapsed": true
   },
   "outputs": [],
   "source": [
    "pf = pd.read_csv(\"task2.txt\")\n",
    "bbc =  baseline_csv.iloc[:, 5:]\n",
    "mmc = metformin_csv.iloc[:,5:]"
   ]
  },
  {
   "cell_type": "markdown",
   "metadata": {
    "collapsed": true
   },
   "source": [
    "### 2.Find the transpose of each matrix. This will be the input to your clustering algorithms."
   ]
  },
  {
   "cell_type": "code",
   "execution_count": 19,
   "metadata": {
    "collapsed": true
   },
   "outputs": [],
   "source": [
    "# transpose\n",
    "bc = bbc.transpose()\n",
    "mc = mmc.transpose()"
   ]
  },
  {
   "cell_type": "markdown",
   "metadata": {},
   "source": [
    "### 3. For each transposed matrix:\n",
    "#### 1. Apply the Gaussian Mixture Model (GMM) clustering algorithm.\n",
    "Since your input is the transposed matrix, you will be clustering by cells.\n",
    "#### 2. Use N=2 clusters for the baseline matrix and N=3 clusters for the metformin matrix.\n",
    "#### 3. The output of your clustering algorithm is stored in the ‘means_’ attribute.\n",
    "REPORT What do these means represent?\n",
    "\n",
    "REPORT How many cells do you have in each of the 5 clusters?\n"
   ]
  },
  {
   "cell_type": "code",
   "execution_count": 20,
   "metadata": {},
   "outputs": [
    {
     "name": "stdout",
     "output_type": "stream",
     "text": [
      "gmm_means is mean parameters for each mixture component\n",
      "Below is how many cells are in each cluster \n",
      " [(0, 152), (1, 17)] \n",
      " [(0, 161), (1, 11), (2, 5)]\n"
     ]
    }
   ],
   "source": [
    "# rpkmThreshold = 32\n",
    "from collections import Counter\n",
    "\n",
    "numBaselineClustGMM = 2\n",
    "numMetforminClustGMM = 3\n",
    "# Use N=2 clusters\n",
    "gmm_b = GaussianMixture(n_components=numBaselineClustGMM, random_state=0).fit(bc)\n",
    "gmm_pred_b = gmm_b.predict(bc)\n",
    "centers_b = gmm_b.means_\n",
    "\n",
    "numMetforminClustGMM = 3\n",
    "# Use N=3 clusters\n",
    "gmm_m = GaussianMixture(n_components=numMetforminClustGMM, random_state=0).fit(mc)\n",
    "gmm_pred_m = gmm_m.predict(mc)\n",
    "centers_m = gmm_m.means_\n",
    "print(\"gmm_means is mean parameters for each mixture component\")\n",
    "\n",
    "# How many cells \n",
    "pred_b = Counter(gmm_pred_b)\n",
    "pred_m = Counter(gmm_pred_m)\n",
    "pred_b = sorted((pred_b.most_common()))\n",
    "pred_m = sorted((pred_m.most_common()))\n",
    "print(\"Below is how many cells are in each cluster \\n\", pred_b,'\\n', pred_m)\n"
   ]
  },
  {
   "cell_type": "markdown",
   "metadata": {},
   "source": [
    "### Code combined with 5 \n",
    "\n",
    "### 4.Using the results of your clustering algorithm, create new mean baseline and mean metformin datasets\n",
    "\n",
    "#### 1.Preserve metadata from the original dataframes\n",
    "#### 2.Store the means of each cluster in additional columns\n",
    "An example for the baseline dataset has been provided:\n",
    "\n",
    "### 5. For your mean datasets,\n",
    "Define clusters Bu and Bv such that |Bu|<|Bv| where |B| represents the number of cells in cluster B in the baseline dataset.\n",
    "(i.e let Bu represent the smaller cluster and Bv represent the larger one)\n",
    "Similarly, define clusters Mx, My and Mz such that |Mx|<|My|<|Mz| where |M| represents the number of cells in cluster M in the metformin dataset."
   ]
  },
  {
   "cell_type": "code",
   "execution_count": 21,
   "metadata": {
    "collapsed": true
   },
   "outputs": [],
   "source": [
    "baselineCells = gmm_b\n",
    "df_baseline_means = baseline_csv.iloc[:, 0:5]  # preserve metadata from first 5 columns\n",
    "df_baseline_means[\"Bu\"] = baselineCells.means_[1]\n",
    "df_baseline_means[\"Bv\"] = baselineCells.means_[0] \n",
    "\n",
    "metforminCells = gmm_m\n",
    "df_metformin_means = metformin_csv.iloc[:, 0:5]  # preserve metadata from first 5 columns\n",
    "df_metformin_means[\"Mx\"] = metforminCells.means_[2]\n",
    "df_metformin_means[\"My\"] = metforminCells.means_[1]\n",
    "df_metformin_means[\"Mz\"] = metforminCells.means_[0]"
   ]
  },
  {
   "cell_type": "markdown",
   "metadata": {},
   "source": [
    "### 6.Filter your mean metformin dataset to only include genes that meet the following condition\n",
    "Mx¯¯¯¯¯¯¯<rpkmThreshold<My¯¯¯¯¯¯¯ and rpkmThreshold<Mz¯¯¯¯¯¯¯ where M¯¯¯¯¯ represents the mean of cluster M.\n",
    "Call this new dataframe metformin_upMy_downMx_upMz_DF.\n",
    "Hint: Cluster means are in the dataframe you created in Step 4. However, the order of your means may change with each run of the clustering algorithm. Hence, you will have to identify how to map columns “1”, “2” and “3” to Mx¯¯¯¯¯¯¯,My¯¯¯¯¯¯¯ and Mz¯¯¯¯¯¯¯. You might want to pick a fixed random state for your clustering algorithm to ensure the ordering is always the same."
   ]
  },
  {
   "cell_type": "code",
   "execution_count": 22,
   "metadata": {},
   "outputs": [
    {
     "name": "stdout",
     "output_type": "stream",
     "text": [
      "338\n"
     ]
    },
    {
     "data": {
      "text/html": [
       "<div>\n",
       "<style>\n",
       "    .dataframe thead tr:only-child th {\n",
       "        text-align: right;\n",
       "    }\n",
       "\n",
       "    .dataframe thead th {\n",
       "        text-align: left;\n",
       "    }\n",
       "\n",
       "    .dataframe tbody tr th {\n",
       "        vertical-align: top;\n",
       "    }\n",
       "</style>\n",
       "<table border=\"1\" class=\"dataframe\">\n",
       "  <thead>\n",
       "    <tr style=\"text-align: right;\">\n",
       "      <th></th>\n",
       "      <th>Chr</th>\n",
       "      <th>GeneID</th>\n",
       "      <th>Start</th>\n",
       "      <th>Stop</th>\n",
       "      <th>CodingLength</th>\n",
       "      <th>Mx</th>\n",
       "      <th>My</th>\n",
       "      <th>Mz</th>\n",
       "    </tr>\n",
       "  </thead>\n",
       "  <tbody>\n",
       "    <tr>\n",
       "      <th>2</th>\n",
       "      <td>chr1</td>\n",
       "      <td>APOA1BP</td>\n",
       "      <td>156561558</td>\n",
       "      <td>156564091</td>\n",
       "      <td>1121</td>\n",
       "      <td>0.0</td>\n",
       "      <td>78.297295</td>\n",
       "      <td>34.144335</td>\n",
       "    </tr>\n",
       "    <tr>\n",
       "      <th>4</th>\n",
       "      <td>chr1</td>\n",
       "      <td>ARPC5</td>\n",
       "      <td>183595332</td>\n",
       "      <td>183604985</td>\n",
       "      <td>1982</td>\n",
       "      <td>0.0</td>\n",
       "      <td>191.115200</td>\n",
       "      <td>132.848917</td>\n",
       "    </tr>\n",
       "    <tr>\n",
       "      <th>5</th>\n",
       "      <td>chr1</td>\n",
       "      <td>ATP5F1</td>\n",
       "      <td>111991743</td>\n",
       "      <td>112004525</td>\n",
       "      <td>2101</td>\n",
       "      <td>0.0</td>\n",
       "      <td>51.638597</td>\n",
       "      <td>206.844776</td>\n",
       "    </tr>\n",
       "    <tr>\n",
       "      <th>6</th>\n",
       "      <td>chr1</td>\n",
       "      <td>ATP6V0B</td>\n",
       "      <td>44440602</td>\n",
       "      <td>44443972</td>\n",
       "      <td>1022</td>\n",
       "      <td>0.0</td>\n",
       "      <td>35.752469</td>\n",
       "      <td>129.101251</td>\n",
       "    </tr>\n",
       "    <tr>\n",
       "      <th>7</th>\n",
       "      <td>chr1</td>\n",
       "      <td>BCAS2</td>\n",
       "      <td>115110181</td>\n",
       "      <td>115124265</td>\n",
       "      <td>1301</td>\n",
       "      <td>0.0</td>\n",
       "      <td>55.242566</td>\n",
       "      <td>91.392282</td>\n",
       "    </tr>\n",
       "  </tbody>\n",
       "</table>\n",
       "</div>"
      ],
      "text/plain": [
       "    Chr   GeneID      Start       Stop  CodingLength   Mx          My  \\\n",
       "2  chr1  APOA1BP  156561558  156564091          1121  0.0   78.297295   \n",
       "4  chr1    ARPC5  183595332  183604985          1982  0.0  191.115200   \n",
       "5  chr1   ATP5F1  111991743  112004525          2101  0.0   51.638597   \n",
       "6  chr1  ATP6V0B   44440602   44443972          1022  0.0   35.752469   \n",
       "7  chr1    BCAS2  115110181  115124265          1301  0.0   55.242566   \n",
       "\n",
       "           Mz  \n",
       "2   34.144335  \n",
       "4  132.848917  \n",
       "5  206.844776  \n",
       "6  129.101251  \n",
       "7   91.392282  "
      ]
     },
     "execution_count": 22,
     "metadata": {},
     "output_type": "execute_result"
    }
   ],
   "source": [
    "metformin_upMy_downMx_upMz_DF = df_metformin_means.loc[(df_metformin_means['Mx'] < 32)&(32 < df_metformin_means['My'])&(32< df_metformin_means['Mz'])]\n",
    "print(len(metformin_upMy_downMx_upMz_DF))\n",
    "(metformin_upMy_downMx_upMz_DF).head()"
   ]
  },
  {
   "cell_type": "markdown",
   "metadata": {},
   "source": [
    "### 7.Similarly, filter your mean baseline dataset to only include genes that meet the following condition\n",
    "Bu¯¯¯¯¯¯<rpkmThreshold<Bv¯¯¯¯¯¯ where B¯¯¯¯ represents the mean of cluster B.\n",
    "Call this new dataframe baseline_upBv_downBu_DF.\n",
    "Hint: Cluster means are in the dataframe you created in Step 4. However, the order of your means may change with each run of the clustering algorithm. Hence, you will have to identify how to map columns “1”, “2” to Bu¯¯¯¯¯¯ and Bv¯¯¯¯¯¯. You might want to pick a fixed random state for your clustering algorithm to ensure the ordering is always the same."
   ]
  },
  {
   "cell_type": "code",
   "execution_count": 23,
   "metadata": {},
   "outputs": [
    {
     "name": "stdout",
     "output_type": "stream",
     "text": [
      "82\n"
     ]
    },
    {
     "data": {
      "text/html": [
       "<div>\n",
       "<style>\n",
       "    .dataframe thead tr:only-child th {\n",
       "        text-align: right;\n",
       "    }\n",
       "\n",
       "    .dataframe thead th {\n",
       "        text-align: left;\n",
       "    }\n",
       "\n",
       "    .dataframe tbody tr th {\n",
       "        vertical-align: top;\n",
       "    }\n",
       "</style>\n",
       "<table border=\"1\" class=\"dataframe\">\n",
       "  <thead>\n",
       "    <tr style=\"text-align: right;\">\n",
       "      <th></th>\n",
       "      <th>Chr</th>\n",
       "      <th>GeneID</th>\n",
       "      <th>StartCoding</th>\n",
       "      <th>Stop</th>\n",
       "      <th>CodingLength</th>\n",
       "      <th>Bu</th>\n",
       "      <th>Bv</th>\n",
       "    </tr>\n",
       "  </thead>\n",
       "  <tbody>\n",
       "    <tr>\n",
       "      <th>13</th>\n",
       "      <td>chr1</td>\n",
       "      <td>C4BPB</td>\n",
       "      <td>207262212</td>\n",
       "      <td>207273337</td>\n",
       "      <td>1195</td>\n",
       "      <td>0.00000</td>\n",
       "      <td>79.371928</td>\n",
       "    </tr>\n",
       "    <tr>\n",
       "      <th>36</th>\n",
       "      <td>chr1</td>\n",
       "      <td>GNG5</td>\n",
       "      <td>84964006</td>\n",
       "      <td>84972262</td>\n",
       "      <td>806</td>\n",
       "      <td>0.00000</td>\n",
       "      <td>231.590817</td>\n",
       "    </tr>\n",
       "    <tr>\n",
       "      <th>42</th>\n",
       "      <td>chr1</td>\n",
       "      <td>ILF2</td>\n",
       "      <td>153634514</td>\n",
       "      <td>153643479</td>\n",
       "      <td>1612</td>\n",
       "      <td>30.71635</td>\n",
       "      <td>175.105702</td>\n",
       "    </tr>\n",
       "    <tr>\n",
       "      <th>43</th>\n",
       "      <td>chr1</td>\n",
       "      <td>ISG15</td>\n",
       "      <td>948847</td>\n",
       "      <td>949919</td>\n",
       "      <td>666</td>\n",
       "      <td>0.00000</td>\n",
       "      <td>42.883895</td>\n",
       "    </tr>\n",
       "    <tr>\n",
       "      <th>55</th>\n",
       "      <td>chr1</td>\n",
       "      <td>MRPS21</td>\n",
       "      <td>150266269</td>\n",
       "      <td>150280819</td>\n",
       "      <td>939</td>\n",
       "      <td>0.00000</td>\n",
       "      <td>42.406040</td>\n",
       "    </tr>\n",
       "  </tbody>\n",
       "</table>\n",
       "</div>"
      ],
      "text/plain": [
       "     Chr  GeneID  StartCoding       Stop  CodingLength        Bu          Bv\n",
       "13  chr1   C4BPB    207262212  207273337          1195   0.00000   79.371928\n",
       "36  chr1    GNG5     84964006   84972262           806   0.00000  231.590817\n",
       "42  chr1    ILF2    153634514  153643479          1612  30.71635  175.105702\n",
       "43  chr1   ISG15       948847     949919           666   0.00000   42.883895\n",
       "55  chr1  MRPS21    150266269  150280819           939   0.00000   42.406040"
      ]
     },
     "execution_count": 23,
     "metadata": {},
     "output_type": "execute_result"
    }
   ],
   "source": [
    "\n",
    "baseline_upBv_downBu_DF = df_baseline_means.loc[(df_baseline_means['Bu'] < 32)&(32 < df_baseline_means['Bv'])]\n",
    "print(len(baseline_upBv_downBu_DF))\n",
    "(baseline_upBv_downBu_DF).head()"
   ]
  },
  {
   "cell_type": "markdown",
   "metadata": {},
   "source": [
    "### 8. Are they any genes common in your filtered datasets from steps 6 & 7?\n",
    "Low expression level genes in Mx may come from Bu. These are genes with an inherently low expression level.\n",
    "To account for inherently low expression levels, remove any genes that exist in baseline_upBv_downBu_DF from metformin_upMy_downMx_upMz_DF.\n",
    "Call this filtered dataset newlyDownregulatedGenes_inMx_fromBu_df."
   ]
  },
  {
   "cell_type": "code",
   "execution_count": 24,
   "metadata": {},
   "outputs": [
    {
     "name": "stdout",
     "output_type": "stream",
     "text": [
      "303\n"
     ]
    },
    {
     "data": {
      "text/html": [
       "<div>\n",
       "<style>\n",
       "    .dataframe thead tr:only-child th {\n",
       "        text-align: right;\n",
       "    }\n",
       "\n",
       "    .dataframe thead th {\n",
       "        text-align: left;\n",
       "    }\n",
       "\n",
       "    .dataframe tbody tr th {\n",
       "        vertical-align: top;\n",
       "    }\n",
       "</style>\n",
       "<table border=\"1\" class=\"dataframe\">\n",
       "  <thead>\n",
       "    <tr style=\"text-align: right;\">\n",
       "      <th></th>\n",
       "      <th>Chr</th>\n",
       "      <th>GeneID</th>\n",
       "      <th>Start</th>\n",
       "      <th>Stop</th>\n",
       "      <th>CodingLength</th>\n",
       "      <th>Mx</th>\n",
       "      <th>My</th>\n",
       "      <th>Mz</th>\n",
       "    </tr>\n",
       "  </thead>\n",
       "  <tbody>\n",
       "    <tr>\n",
       "      <th>2</th>\n",
       "      <td>chr1</td>\n",
       "      <td>APOA1BP</td>\n",
       "      <td>156561558</td>\n",
       "      <td>156564091</td>\n",
       "      <td>1121</td>\n",
       "      <td>0.0</td>\n",
       "      <td>78.297295</td>\n",
       "      <td>34.144335</td>\n",
       "    </tr>\n",
       "    <tr>\n",
       "      <th>4</th>\n",
       "      <td>chr1</td>\n",
       "      <td>ARPC5</td>\n",
       "      <td>183595332</td>\n",
       "      <td>183604985</td>\n",
       "      <td>1982</td>\n",
       "      <td>0.0</td>\n",
       "      <td>191.115200</td>\n",
       "      <td>132.848917</td>\n",
       "    </tr>\n",
       "    <tr>\n",
       "      <th>5</th>\n",
       "      <td>chr1</td>\n",
       "      <td>ATP5F1</td>\n",
       "      <td>111991743</td>\n",
       "      <td>112004525</td>\n",
       "      <td>2101</td>\n",
       "      <td>0.0</td>\n",
       "      <td>51.638597</td>\n",
       "      <td>206.844776</td>\n",
       "    </tr>\n",
       "    <tr>\n",
       "      <th>6</th>\n",
       "      <td>chr1</td>\n",
       "      <td>ATP6V0B</td>\n",
       "      <td>44440602</td>\n",
       "      <td>44443972</td>\n",
       "      <td>1022</td>\n",
       "      <td>0.0</td>\n",
       "      <td>35.752469</td>\n",
       "      <td>129.101251</td>\n",
       "    </tr>\n",
       "    <tr>\n",
       "      <th>7</th>\n",
       "      <td>chr1</td>\n",
       "      <td>BCAS2</td>\n",
       "      <td>115110181</td>\n",
       "      <td>115124265</td>\n",
       "      <td>1301</td>\n",
       "      <td>0.0</td>\n",
       "      <td>55.242566</td>\n",
       "      <td>91.392282</td>\n",
       "    </tr>\n",
       "  </tbody>\n",
       "</table>\n",
       "</div>"
      ],
      "text/plain": [
       "    Chr   GeneID      Start       Stop  CodingLength   Mx          My  \\\n",
       "2  chr1  APOA1BP  156561558  156564091          1121  0.0   78.297295   \n",
       "4  chr1    ARPC5  183595332  183604985          1982  0.0  191.115200   \n",
       "5  chr1   ATP5F1  111991743  112004525          2101  0.0   51.638597   \n",
       "6  chr1  ATP6V0B   44440602   44443972          1022  0.0   35.752469   \n",
       "7  chr1    BCAS2  115110181  115124265          1301  0.0   55.242566   \n",
       "\n",
       "           Mz  \n",
       "2   34.144335  \n",
       "4  132.848917  \n",
       "5  206.844776  \n",
       "6  129.101251  \n",
       "7   91.392282  "
      ]
     },
     "execution_count": 24,
     "metadata": {},
     "output_type": "execute_result"
    }
   ],
   "source": [
    "\n",
    "newlyDownregulatedGenes_inMx_fromBu_df =metformin_upMy_downMx_upMz_DF.loc[(~(metformin_upMy_downMx_upMz_DF[\"GeneID\"]).isin(baseline_upBv_downBu_DF[\"GeneID\"]))] # & df1.user_id.isin(df2.user_id)\n",
    "print(len(newlyDownregulatedGenes_inMx_fromBu_df))\n",
    "newlyDownregulatedGenes_inMx_fromBu_df.head()"
   ]
  },
  {
   "cell_type": "markdown",
   "metadata": {},
   "source": [
    "### 9.Find genes that are common to newlyDownregulatedGenes_inMx_fromBu_df and your mean baseline dataset.\n",
    "Further filter your mean baseline and mean metformin dataframes to include only these overlap genes.\n",
    "\n",
    "Your dataframes will now contain only downregulated genes."
   ]
  },
  {
   "cell_type": "code",
   "execution_count": 25,
   "metadata": {},
   "outputs": [
    {
     "name": "stdout",
     "output_type": "stream",
     "text": [
      "221 genes common in both dataset newlyDownregulatedGenes_inMx_fromBu_df and df_baseline_means\n"
     ]
    }
   ],
   "source": [
    "n = newlyDownregulatedGenes_inMx_fromBu_df\n",
    "b = baseline_upBv_downBu_DF\n",
    "db = df_baseline_means\n",
    "dm = df_metformin_means\n",
    "n = newlyDownregulatedGenes_inMx_fromBu_df\n",
    "\n",
    "n_b_common = set(db['GeneID'].tolist()).intersection(set(n['GeneID'].tolist()))\n",
    "print(\"%d genes common in both dataset newlyDownregulatedGenes_inMx_fromBu_df and df_baseline_means\" % len(n_b_common))\n"
   ]
  },
  {
   "cell_type": "code",
   "execution_count": 26,
   "metadata": {},
   "outputs": [
    {
     "data": {
      "text/html": [
       "<div>\n",
       "<style>\n",
       "    .dataframe thead tr:only-child th {\n",
       "        text-align: right;\n",
       "    }\n",
       "\n",
       "    .dataframe thead th {\n",
       "        text-align: left;\n",
       "    }\n",
       "\n",
       "    .dataframe tbody tr th {\n",
       "        vertical-align: top;\n",
       "    }\n",
       "</style>\n",
       "<table border=\"1\" class=\"dataframe\">\n",
       "  <thead>\n",
       "    <tr style=\"text-align: right;\">\n",
       "      <th></th>\n",
       "      <th>Chr</th>\n",
       "      <th>GeneID</th>\n",
       "      <th>StartCoding</th>\n",
       "      <th>Stop</th>\n",
       "      <th>CodingLength</th>\n",
       "      <th>Bu</th>\n",
       "      <th>Bv</th>\n",
       "    </tr>\n",
       "  </thead>\n",
       "  <tbody>\n",
       "    <tr>\n",
       "      <th>0</th>\n",
       "      <td>chr1</td>\n",
       "      <td>ARPC5</td>\n",
       "      <td>183595332</td>\n",
       "      <td>183604985</td>\n",
       "      <td>1982</td>\n",
       "      <td>51.795593</td>\n",
       "      <td>106.269814</td>\n",
       "    </tr>\n",
       "    <tr>\n",
       "      <th>1</th>\n",
       "      <td>chr1</td>\n",
       "      <td>ATP5F1</td>\n",
       "      <td>111991743</td>\n",
       "      <td>112004525</td>\n",
       "      <td>2101</td>\n",
       "      <td>71.062689</td>\n",
       "      <td>214.599276</td>\n",
       "    </tr>\n",
       "    <tr>\n",
       "      <th>2</th>\n",
       "      <td>chr1</td>\n",
       "      <td>ATP6V0B</td>\n",
       "      <td>44440602</td>\n",
       "      <td>44443972</td>\n",
       "      <td>1022</td>\n",
       "      <td>198.217053</td>\n",
       "      <td>163.116030</td>\n",
       "    </tr>\n",
       "    <tr>\n",
       "      <th>3</th>\n",
       "      <td>chr1</td>\n",
       "      <td>C1orf31</td>\n",
       "      <td>234509214</td>\n",
       "      <td>234519795</td>\n",
       "      <td>856</td>\n",
       "      <td>48.910375</td>\n",
       "      <td>88.970780</td>\n",
       "    </tr>\n",
       "    <tr>\n",
       "      <th>4</th>\n",
       "      <td>chr1</td>\n",
       "      <td>CDC20</td>\n",
       "      <td>43824626</td>\n",
       "      <td>43828873</td>\n",
       "      <td>1674</td>\n",
       "      <td>159.940069</td>\n",
       "      <td>93.770963</td>\n",
       "    </tr>\n",
       "  </tbody>\n",
       "</table>\n",
       "</div>"
      ],
      "text/plain": [
       "    Chr   GeneID  StartCoding       Stop  CodingLength          Bu          Bv\n",
       "0  chr1    ARPC5    183595332  183604985          1982   51.795593  106.269814\n",
       "1  chr1   ATP5F1    111991743  112004525          2101   71.062689  214.599276\n",
       "2  chr1  ATP6V0B     44440602   44443972          1022  198.217053  163.116030\n",
       "3  chr1  C1orf31    234509214  234519795           856   48.910375   88.970780\n",
       "4  chr1    CDC20     43824626   43828873          1674  159.940069   93.770963"
      ]
     },
     "execution_count": 26,
     "metadata": {},
     "output_type": "execute_result"
    }
   ],
   "source": [
    "down_metformin = df_metformin_means.loc[df_metformin_means[\"GeneID\"].isin(n_b_common)]\n",
    "down_baseline = df_baseline_means.loc[df_baseline_means[\"GeneID\"].isin(n_b_common)]\n",
    "len(down_metformin)                             \n",
    "len(down_baseline)                             \n",
    "down_metformin = down_metformin.reset_index(drop=True)\n",
    "down_baseline = down_baseline.reset_index(drop=True)\n",
    "down_baseline.head()"
   ]
  },
  {
   "cell_type": "markdown",
   "metadata": {},
   "source": [
    "### 10.Create a new dataframe with the following data:\n",
    "A column containing Bu¯¯¯¯¯¯for downregulated genes.\n",
    "\n",
    "A column containing Bv¯¯¯¯¯¯for downregulated genes.\n",
    "\n",
    "A column containing My¯¯¯¯¯¯¯for downregulated genes.\n",
    "\n",
    "A column containing Mz¯¯¯¯¯¯¯for downregulated genes.\n",
    "You should have 4 columns with approx 230 genes/rows/entries."
   ]
  },
  {
   "cell_type": "code",
   "execution_count": 27,
   "metadata": {
    "collapsed": true
   },
   "outputs": [],
   "source": [
    "dataframe = pd.DataFrame()\n",
    "dataframe[\"Bu\"] = down_baseline['Bu']\n",
    "dataframe[\"Bv\"] = down_baseline['Bv']\n",
    "dataframe[\"My\"] = down_metformin['My']\n",
    "dataframe[\"Mz\"] = down_metformin['Mz']\n"
   ]
  },
  {
   "cell_type": "markdown",
   "metadata": {},
   "source": [
    "### 11.Next, apply the log + 1 transformation to your dataframe in Step 10.\n",
    "As long as your dataframe consists of all floats, this can be achieved by\n",
    "\n",
    "  \t\tnew_df = np.log(df + 1)\n",
    "\t\n",
    "\n",
    "Then, find the row means and row standard deviation for each row in your new dataframe.\n",
    "Hint: Use np.mean/np.std or dataframe.apply to create new columns containing means and standard deviations"
   ]
  },
  {
   "cell_type": "code",
   "execution_count": 28,
   "metadata": {},
   "outputs": [
    {
     "data": {
      "text/html": [
       "<div>\n",
       "<style>\n",
       "    .dataframe thead tr:only-child th {\n",
       "        text-align: right;\n",
       "    }\n",
       "\n",
       "    .dataframe thead th {\n",
       "        text-align: left;\n",
       "    }\n",
       "\n",
       "    .dataframe tbody tr th {\n",
       "        vertical-align: top;\n",
       "    }\n",
       "</style>\n",
       "<table border=\"1\" class=\"dataframe\">\n",
       "  <thead>\n",
       "    <tr style=\"text-align: right;\">\n",
       "      <th></th>\n",
       "      <th>Bu</th>\n",
       "      <th>Bv</th>\n",
       "      <th>My</th>\n",
       "      <th>Mz</th>\n",
       "      <th>mean</th>\n",
       "      <th>std</th>\n",
       "    </tr>\n",
       "  </thead>\n",
       "  <tbody>\n",
       "    <tr>\n",
       "      <th>0</th>\n",
       "      <td>3.966428</td>\n",
       "      <td>4.675347</td>\n",
       "      <td>5.258095</td>\n",
       "      <td>4.896712</td>\n",
       "      <td>4.699145</td>\n",
       "      <td>0.471407</td>\n",
       "    </tr>\n",
       "    <tr>\n",
       "      <th>1</th>\n",
       "      <td>4.277536</td>\n",
       "      <td>5.373421</td>\n",
       "      <td>3.963450</td>\n",
       "      <td>5.336792</td>\n",
       "      <td>4.737800</td>\n",
       "      <td>0.627349</td>\n",
       "    </tr>\n",
       "    <tr>\n",
       "      <th>2</th>\n",
       "      <td>5.294395</td>\n",
       "      <td>5.100574</td>\n",
       "      <td>3.604205</td>\n",
       "      <td>4.868313</td>\n",
       "      <td>4.716872</td>\n",
       "      <td>0.659871</td>\n",
       "    </tr>\n",
       "    <tr>\n",
       "      <th>3</th>\n",
       "      <td>3.910229</td>\n",
       "      <td>4.499485</td>\n",
       "      <td>4.939882</td>\n",
       "      <td>4.543935</td>\n",
       "      <td>4.473383</td>\n",
       "      <td>0.367567</td>\n",
       "    </tr>\n",
       "    <tr>\n",
       "      <th>4</th>\n",
       "      <td>5.081032</td>\n",
       "      <td>4.551463</td>\n",
       "      <td>6.026550</td>\n",
       "      <td>4.457334</td>\n",
       "      <td>5.029095</td>\n",
       "      <td>0.623028</td>\n",
       "    </tr>\n",
       "  </tbody>\n",
       "</table>\n",
       "</div>"
      ],
      "text/plain": [
       "         Bu        Bv        My        Mz      mean       std\n",
       "0  3.966428  4.675347  5.258095  4.896712  4.699145  0.471407\n",
       "1  4.277536  5.373421  3.963450  5.336792  4.737800  0.627349\n",
       "2  5.294395  5.100574  3.604205  4.868313  4.716872  0.659871\n",
       "3  3.910229  4.499485  4.939882  4.543935  4.473383  0.367567\n",
       "4  5.081032  4.551463  6.026550  4.457334  5.029095  0.623028"
      ]
     },
     "execution_count": 28,
     "metadata": {},
     "output_type": "execute_result"
    }
   ],
   "source": [
    "new_dataframe = np.log(dataframe+1)\n",
    "new_dataframe[\"mean\"] = new_dataframe.mean(axis=1)\n",
    "new_dataframe[\"std\"] = new_dataframe.std(axis=1)\n",
    "new_dataframe.head()"
   ]
  },
  {
   "cell_type": "markdown",
   "metadata": {},
   "source": [
    "### 12.Finally, add a column containing Mx¯¯¯¯¯¯¯ for downregulated genes to your dataframe in Step 11.\n",
    "Apply the log+1 transformation to this column as well."
   ]
  },
  {
   "cell_type": "code",
   "execution_count": 29,
   "metadata": {},
   "outputs": [
    {
     "data": {
      "text/html": [
       "<div>\n",
       "<style>\n",
       "    .dataframe thead tr:only-child th {\n",
       "        text-align: right;\n",
       "    }\n",
       "\n",
       "    .dataframe thead th {\n",
       "        text-align: left;\n",
       "    }\n",
       "\n",
       "    .dataframe tbody tr th {\n",
       "        vertical-align: top;\n",
       "    }\n",
       "</style>\n",
       "<table border=\"1\" class=\"dataframe\">\n",
       "  <thead>\n",
       "    <tr style=\"text-align: right;\">\n",
       "      <th></th>\n",
       "      <th>Bu</th>\n",
       "      <th>Bv</th>\n",
       "      <th>My</th>\n",
       "      <th>Mz</th>\n",
       "      <th>mean</th>\n",
       "      <th>std</th>\n",
       "      <th>Mx</th>\n",
       "    </tr>\n",
       "  </thead>\n",
       "  <tbody>\n",
       "    <tr>\n",
       "      <th>0</th>\n",
       "      <td>3.966428</td>\n",
       "      <td>4.675347</td>\n",
       "      <td>5.258095</td>\n",
       "      <td>4.896712</td>\n",
       "      <td>4.699145</td>\n",
       "      <td>0.471407</td>\n",
       "      <td>0.0</td>\n",
       "    </tr>\n",
       "    <tr>\n",
       "      <th>1</th>\n",
       "      <td>4.277536</td>\n",
       "      <td>5.373421</td>\n",
       "      <td>3.963450</td>\n",
       "      <td>5.336792</td>\n",
       "      <td>4.737800</td>\n",
       "      <td>0.627349</td>\n",
       "      <td>0.0</td>\n",
       "    </tr>\n",
       "    <tr>\n",
       "      <th>2</th>\n",
       "      <td>5.294395</td>\n",
       "      <td>5.100574</td>\n",
       "      <td>3.604205</td>\n",
       "      <td>4.868313</td>\n",
       "      <td>4.716872</td>\n",
       "      <td>0.659871</td>\n",
       "      <td>0.0</td>\n",
       "    </tr>\n",
       "    <tr>\n",
       "      <th>3</th>\n",
       "      <td>3.910229</td>\n",
       "      <td>4.499485</td>\n",
       "      <td>4.939882</td>\n",
       "      <td>4.543935</td>\n",
       "      <td>4.473383</td>\n",
       "      <td>0.367567</td>\n",
       "      <td>0.0</td>\n",
       "    </tr>\n",
       "    <tr>\n",
       "      <th>4</th>\n",
       "      <td>5.081032</td>\n",
       "      <td>4.551463</td>\n",
       "      <td>6.026550</td>\n",
       "      <td>4.457334</td>\n",
       "      <td>5.029095</td>\n",
       "      <td>0.623028</td>\n",
       "      <td>0.0</td>\n",
       "    </tr>\n",
       "  </tbody>\n",
       "</table>\n",
       "</div>"
      ],
      "text/plain": [
       "         Bu        Bv        My        Mz      mean       std   Mx\n",
       "0  3.966428  4.675347  5.258095  4.896712  4.699145  0.471407  0.0\n",
       "1  4.277536  5.373421  3.963450  5.336792  4.737800  0.627349  0.0\n",
       "2  5.294395  5.100574  3.604205  4.868313  4.716872  0.659871  0.0\n",
       "3  3.910229  4.499485  4.939882  4.543935  4.473383  0.367567  0.0\n",
       "4  5.081032  4.551463  6.026550  4.457334  5.029095  0.623028  0.0"
      ]
     },
     "execution_count": 29,
     "metadata": {},
     "output_type": "execute_result"
    }
   ],
   "source": [
    "new_dataframe[\"Mx\"] = down_metformin['Mx']\n",
    "new_dataframe[\"Mx\"] = np.log(new_dataframe[\"Mx\"]+1)\n",
    "new_dataframe.head()"
   ]
  },
  {
   "cell_type": "markdown",
   "metadata": {},
   "source": [
    "### 13.Visualize each cluster by providing a box plot. You will have 5 boxes, one each for Bu,Bv,Mx,My and Mz.\n",
    "One of your clusters should have zero expression."
   ]
  },
  {
   "cell_type": "code",
   "execution_count": 30,
   "metadata": {},
   "outputs": [
    {
     "data": {
      "image/png": "[encoded data removed]",
      "text/plain": [
       "<matplotlib.figure.Figure at 0x1edc0f65518>"
      ]
     },
     "metadata": {},
     "output_type": "display_data"
    }
   ],
   "source": [
    "fig = plt.figure(figsize=(10, 10)) \n",
    "new_dataframe.boxplot(column = ['Bu', 'Bv', 'Mx', 'My', 'Mz'], fontsize = 20)\n",
    "plt.show()"
   ]
  },
  {
   "cell_type": "markdown",
   "metadata": {},
   "source": [
    "### 14. Repeat Tasks 1-13 with k-means clustering in Step 3.\n",
    "\n",
    "#### 1. Perform silhouette analysis to pick the optimal value of k (number of clusters).\n",
    "Provide the silhouette score or line plot for each value of k\n",
    "\n",
    "#### 2. Are you able to replicate the results obtained with GMM clustering? For filtering with more than 2 or 3 clusters, filter the smallest cluster such that Mx<rpkmThreshold<otherMs\n",
    "or Bu<rpkmThreshold<otherBs."
   ]
  },
  {
   "cell_type": "code",
   "execution_count": 31,
   "metadata": {
    "collapsed": true
   },
   "outputs": [],
   "source": [
    "from sklearn.datasets import make_blobs\n",
    "from sklearn.cluster import KMeans\n",
    "from sklearn.metrics import silhouette_samples, silhouette_score"
   ]
  },
  {
   "cell_type": "code",
   "execution_count": 32,
   "metadata": {
    "collapsed": true
   },
   "outputs": [],
   "source": [
    "def do_kmeans(matrix, num_clusters):\n",
    "    cluster = KMeans(n_clusters=num_clusters, random_state=0).fit(matrix)\n",
    "    kmeans_pred = cluster.predict(matrix)\n",
    "    return silhouette_score(matrix, kmeans_pred)"
   ]
  },
  {
   "cell_type": "code",
   "execution_count": 39,
   "metadata": {
    "collapsed": true
   },
   "outputs": [],
   "source": [
    "# f, ax = plt.subplots(1)\n",
    "# xdata = N\n",
    "# ydata = scores\n",
    "# ax.plot(xdata, ydata)\n",
    "# ax.set_xlim(xmin=2)\n",
    "# plt.show(f)\n"
   ]
  },
  {
   "cell_type": "code",
   "execution_count": 37,
   "metadata": {},
   "outputs": [
    {
     "ename": "NameError",
     "evalue": "name 'N' is not defined",
     "output_type": "error",
     "traceback": [
      "\u001b[1;31m---------------------------------------------------------------------------\u001b[0m",
      "\u001b[1;31mNameError\u001b[0m                                 Traceback (most recent call last)",
      "\u001b[1;32m<ipython-input-37-38ba2638e5c0>\u001b[0m in \u001b[0;36m<module>\u001b[1;34m()\u001b[0m\n\u001b[0;32m      1\u001b[0m \u001b[0mf\u001b[0m\u001b[1;33m,\u001b[0m \u001b[0max\u001b[0m \u001b[1;33m=\u001b[0m \u001b[0mplt\u001b[0m\u001b[1;33m.\u001b[0m\u001b[0msubplots\u001b[0m\u001b[1;33m(\u001b[0m\u001b[1;36m1\u001b[0m\u001b[1;33m)\u001b[0m\u001b[1;33m\u001b[0m\u001b[0m\n\u001b[1;32m----> 2\u001b[1;33m \u001b[0mxdata\u001b[0m \u001b[1;33m=\u001b[0m \u001b[0mN\u001b[0m\u001b[1;33m\u001b[0m\u001b[0m\n\u001b[0m\u001b[0;32m      3\u001b[0m \u001b[0mydata\u001b[0m \u001b[1;33m=\u001b[0m \u001b[0mscores_m\u001b[0m\u001b[1;33m\u001b[0m\u001b[0m\n\u001b[0;32m      4\u001b[0m \u001b[0max\u001b[0m\u001b[1;33m.\u001b[0m\u001b[0mplot\u001b[0m\u001b[1;33m(\u001b[0m\u001b[0mxdata\u001b[0m\u001b[1;33m,\u001b[0m \u001b[0mydata\u001b[0m\u001b[1;33m)\u001b[0m\u001b[1;33m\u001b[0m\u001b[0m\n\u001b[0;32m      5\u001b[0m \u001b[0max\u001b[0m\u001b[1;33m.\u001b[0m\u001b[0mset_xlim\u001b[0m\u001b[1;33m(\u001b[0m\u001b[0mxmin\u001b[0m\u001b[1;33m=\u001b[0m\u001b[1;36m2\u001b[0m\u001b[1;33m)\u001b[0m\u001b[1;33m\u001b[0m\u001b[0m\n",
      "\u001b[1;31mNameError\u001b[0m: name 'N' is not defined"
     ]
    }
   ],
   "source": [
    "f, ax = plt.subplots(1)\n",
    "xdata = N\n",
    "ydata = scores_m\n",
    "ax.plot(xdata, ydata)\n",
    "ax.set_xlim(xmin=2)\n",
    "plt.show(f)\n"
   ]
  },
  {
   "cell_type": "code",
   "execution_count": null,
   "metadata": {
    "collapsed": true
   },
   "outputs": [],
   "source": [
    "print(\"From the plot and the data, we find that when both dataset has two clusters, the silhouette scores are the highest \")"
   ]
  },
  {
   "cell_type": "markdown",
   "metadata": {},
   "source": [
    "### Recommand cluster size with (2,2)"
   ]
  },
  {
   "cell_type": "code",
   "execution_count": 38,
   "metadata": {
    "collapsed": true
   },
   "outputs": [],
   "source": [
    "\n",
    "kb =2\n",
    "km =2\n",
    "cluster_b = KMeans(n_clusters=kb, random_state=0).fit(bc)\n",
    "kmeans_pred_b = cluster_b.predict(bc)\n",
    "kmeans_centers_b = cluster_b.cluster_centers_\n",
    "\n",
    "\n",
    "cluster_m = KMeans(n_clusters=km, random_state=0).fit(mc)\n",
    "kmeans_pred_m = cluster_m.predict(mc)\n",
    "kmeans_centers_m = cluster_m.cluster_centers_\n"
   ]
  },
  {
   "cell_type": "markdown",
   "metadata": {},
   "source": [
    "### find each cluster counts"
   ]
  },
  {
   "cell_type": "code",
   "execution_count": null,
   "metadata": {
    "collapsed": true
   },
   "outputs": [],
   "source": [
    "\n",
    "k_pred_b = Counter(kmeans_pred_b)\n",
    "k_pred_m = Counter(kmeans_pred_m)\n",
    "k_pred_b = sorted((k_pred_b.most_common()))\n",
    "k_pred_m = sorted((k_pred_m.most_common()))\n",
    "print(\"Below is how many cells are in each cluster \\n\", k_pred_b,'\\n', k_pred_m)\n"
   ]
  },
  {
   "cell_type": "markdown",
   "metadata": {},
   "source": [
    "### Assign with Bu Bv Mx My"
   ]
  },
  {
   "cell_type": "code",
   "execution_count": null,
   "metadata": {
    "collapsed": true
   },
   "outputs": [],
   "source": [
    "baselineCells_k = kmeans_centers_b\n",
    "df_baseline_means_k = baseline_csv.iloc[:, 0:5]  # preserve metadata from first 5 columns\n",
    "df_baseline_means_k[\"Bu\"] = baselineCells_k[1]\n",
    "df_baseline_means_k[\"Bv\"] = baselineCells_k[0] \n",
    "\n",
    "metforminCells_k = kmeans_centers_m\n",
    "df_metformin_means_k = metformin_csv.iloc[:, 0:5]  # preserve metadata from first 5 columns\n",
    "df_metformin_means_k[\"Mx\"] = metforminCells_k[1]\n",
    "df_metformin_means_k[\"My\"] = metforminCells_k[0]\n",
    "\n",
    "# df_baseline_means_k \n",
    "# df_metformin_means_k "
   ]
  },
  {
   "cell_type": "markdown",
   "metadata": {},
   "source": [
    "### filter data"
   ]
  },
  {
   "cell_type": "code",
   "execution_count": null,
   "metadata": {
    "collapsed": true
   },
   "outputs": [],
   "source": [
    "metformin_upMy_downMx_upMz_DF = df_metformin_means_k.loc[(df_metformin_means_k['Mx'] < 32)&(32 < df_metformin_means_k['My'])]\n",
    "len(metformin_upMy_downMx_upMz_DF)\n",
    "baseline_upBv_downBu_DF = df_baseline_means_k.loc[(df_baseline_means_k['Bu'] < 32)&(32 < df_baseline_means_k['Bv'])]\n",
    "\n",
    "newlyDownregulatedGenes_inMx_fromBu_df =metformin_upMy_downMx_upMz_DF.loc[(~(metformin_upMy_downMx_upMz_DF[\"GeneID\"]).isin(baseline_upBv_downBu_DF[\"GeneID\"]))] # & df1.user_id.isin(df2.user_id)\n",
    "\n",
    "n = newlyDownregulatedGenes_inMx_fromBu_df\n",
    "db = df_baseline_means_k\n",
    "dm = df_metformin_means_k\n",
    "\n",
    "n_b_common = set(db['GeneID'].tolist()).intersection(set(n['GeneID'].tolist()))\n",
    "print(\"%d genes common in both dataset newlyDownregulatedGenes_inMx_fromBu_df and df_baseline_means_k\" % len(n_b_common))\n",
    "\n",
    "\n",
    "down_metformin = df_metformin_means_k.loc[df_metformin_means_k[\"GeneID\"].isin(n_b_common)]\n",
    "down_baseline = df_baseline_means_k.loc[df_baseline_means_k[\"GeneID\"].isin(n_b_common)]\n",
    "len(down_metformin)                             \n",
    "len(down_baseline)                             \n",
    "down_metformin = down_metformin.reset_index(drop=True)\n",
    "down_baseline = down_baseline.reset_index(drop=True)\n",
    "down_baseline.head()"
   ]
  },
  {
   "cell_type": "markdown",
   "metadata": {},
   "source": [
    "### New dataframe contains Bu Bv My Mx"
   ]
  },
  {
   "cell_type": "code",
   "execution_count": null,
   "metadata": {
    "collapsed": true
   },
   "outputs": [],
   "source": [
    "dataframe = pd.DataFrame()\n",
    "dataframe[\"Bu\"] = down_baseline['Bu']\n",
    "dataframe[\"Bv\"] = down_baseline['Bv']\n",
    "dataframe[\"Mx\"] = down_metformin['Mx']\n",
    "dataframe[\"My\"] = down_metformin['My']\n",
    "\n",
    "new_dataframe = np.log(dataframe+1)\n",
    "new_dataframe[\"mean\"] = new_dataframe.mean(axis=1)\n",
    "new_dataframe[\"std\"] = new_dataframe.std(axis=1)\n",
    "fig = plt.figure(figsize=(10, 10)) \n",
    "new_dataframe.boxplot(column = ['Bu', 'Bv', 'Mx', 'My'], fontsize = 20)\n",
    "# df = pd.DataFrame(columns=['Bu', 'Bv', 'Mx', 'My', 'Mz'])\n",
    "# df.plot.box()\n",
    "plt.show()\n",
    "# new_dataframe"
   ]
  },
  {
   "cell_type": "markdown",
   "metadata": {},
   "source": [
    "Thank you!"
   ]
  }
 ],
 "metadata": {
  "kernelspec": {
   "display_name": "Python 3",
   "language": "python",
   "name": "python3"
  },
  "language_info": {
   "codemirror_mode": {
    "name": "ipython",
    "version": 3
   },
   "file_extension": ".py",
   "mimetype": "text/x-python",
   "name": "python",
   "nbconvert_exporter": "python",
   "pygments_lexer": "ipython3",
   "version": "3.6.4"
  }
 },
 "nbformat": 4,
 "nbformat_minor": 2
}
