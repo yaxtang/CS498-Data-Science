{
 "cells": [
  {
   "cell_type": "code",
   "execution_count": 3,
   "metadata": {},
   "outputs": [],
   "source": [
    "from pandas.io.json import json_normalize\n",
    "import pandas as pd\n",
    "import pyshark\n",
    "from IPython.display import Image"
   ]
  },
  {
   "cell_type": "code",
   "execution_count": 64,
   "metadata": {},
   "outputs": [],
   "source": [
    "# data= open('osqueryd.results.log', 'r')\n",
    "listofdic = []\n",
    "with open('osqueryd.results.log') as f:\n",
    "    lines = f.readlines()\n",
    "    for l in lines:\n",
    "        dic = eval(l)\n",
    "        listofdic.append(dic)\n",
    "df = json_normalize(listofdic)\n",
    "# df\n",
    "# df['datetime'] = pd.to_datetime(df['Time'], unit='s')"
   ]
  },
  {
   "cell_type": "code",
   "execution_count": 67,
   "metadata": {},
   "outputs": [],
   "source": [
    "df['time'] = pd.to_datetime(df['columns.time'], unit='s')\n",
    "df['Unix'] = pd.to_datetime(df['unixTime'], unit='s')\n",
    "df['mtime'] = pd.to_datetime(df['columns.mtime'], unit='s')\n",
    "df['ctime'] = pd.to_datetime(df['columns.ctime'], unit='s')\n",
    "df.to_csv(\"osqueryd.csv\")"
   ]
  },
  {
   "cell_type": "code",
   "execution_count": null,
   "metadata": {},
   "outputs": [],
   "source": []
  },
  {
   "cell_type": "code",
   "execution_count": null,
   "metadata": {},
   "outputs": [],
   "source": []
  }
 ],
 "metadata": {
  "kernelspec": {
   "display_name": "Python 3",
   "language": "python",
   "name": "python3"
  },
  "language_info": {
   "codemirror_mode": {
    "name": "ipython",
    "version": 3
   },
   "file_extension": ".py",
   "mimetype": "text/x-python",
   "name": "python",
   "nbconvert_exporter": "python",
   "pygments_lexer": "ipython3",
   "version": "3.6.4"
  }
 },
 "nbformat": 4,
 "nbformat_minor": 2
}
