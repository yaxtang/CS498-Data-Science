{
 "cells": [
  {
   "cell_type": "code",
   "execution_count": 3,
   "metadata": {},
   "outputs": [],
   "source": [
    "from pandas.io.json import json_normalize\n",
    "import pandas as pd\n",
    "import pyshark\n",
    "from IPython.display import Image"
   ]
  },
  {
   "cell_type": "code",
   "execution_count": 64,
   "metadata": {},
   "outputs": [],
   "source": [
    "# data= open('osqueryd.results.log', 'r')\n",
    "listofdic = []\n",
    "with open('osqueryd.results.log') as f:\n",
    "    lines = f.readlines()\n",
    "    for l in lines:\n",
    "        dic = eval(l)\n",
    "        listofdic.append(dic)\n",
    "df = json_normalize(listofdic)\n",
    "# df\n",
    "# df['datetime'] = pd.to_datetime(df['Time'], unit='s')"
   ]
  },
  {
   "cell_type": "code",
   "execution_count": 67,
   "metadata": {},
   "outputs": [],
   "source": [
    "df['time'] = pd.to_datetime(df['columns.time'], unit='s')\n",
    "df['Unix'] = pd.to_datetime(df['unixTime'], unit='s')\n",
    "df['mtime'] = pd.to_datetime(df['columns.mtime'], unit='s')\n",
    "df['ctime'] = pd.to_datetime(df['columns.ctime'], unit='s')\n",
    "df.to_csv(\"osqueryd.csv\")"
   ]
  },
  {
   "cell_type": "code",
   "execution_count": 1,
   "metadata": {},
   "outputs": [],
   "source": [
    "import pyshark"
   ]
  },
  {
   "cell_type": "code",
   "execution_count": 2,
   "metadata": {},
   "outputs": [
    {
     "name": "stdout",
     "output_type": "stream",
     "text": [
      "604\n"
     ]
    }
   ],
   "source": [
    "# # http[5].show()\n",
    "http = pyshark.FileCapture('http.pcap', keep_packets=True)\n",
    "try:\n",
    "    i = 0\n",
    "    while True:\n",
    "        http[i]\n",
    "        i += 1\n",
    "except KeyError:\n",
    "    pass\n",
    "print(len(http))\n",
    "\n",
    "# print(len(dns))\n",
    "# http.load_packets()\n",
    "# dns.load_packets()\n"
   ]
  },
  {
   "cell_type": "code",
   "execution_count": 21,
   "metadata": {},
   "outputs": [
    {
     "name": "stdout",
     "output_type": "stream",
     "text": [
      "number 17   200 Apache-Coyote/1.1\n",
      "number 22   200 Apache-Coyote/1.1\n",
      "number 29   302 Apache-Coyote/1.1\n",
      "number 42   200 Apache-Coyote/1.1\n",
      "number 49   200 Apache-Coyote/1.1\n",
      "number 66   200 Apache-Coyote/1.1\n",
      "number 81   200 Apache-Coyote/1.1\n",
      "number 92   200 Apache-Coyote/1.1\n",
      "number 95   200 Apache-Coyote/1.1\n",
      "number 115   200 Apache-Coyote/1.1\n",
      "number 121   200 Apache-Coyote/1.1\n",
      "number 127   200 Apache-Coyote/1.1\n",
      "number 148   200 Apache-Coyote/1.1\n",
      "number 152   200 Apache-Coyote/1.1\n",
      "number 155   200 Apache-Coyote/1.1\n",
      "number 178   200 Apache-Coyote/1.1\n",
      "number 180   200 Apache-Coyote/1.1\n",
      "number 186   200 Apache-Coyote/1.1\n",
      "number 195   200 Apache-Coyote/1.1\n",
      "number 198   200 Apache-Coyote/1.1\n",
      "number 207   200 Apache-Coyote/1.1\n",
      "number 211   200 Apache-Coyote/1.1\n",
      "number 216   200 Apache-Coyote/1.1\n",
      "number 220   200 Apache-Coyote/1.1\n",
      "number 223   200 Apache-Coyote/1.1\n",
      "number 228   200 Apache-Coyote/1.1\n",
      "number 233   200 Apache-Coyote/1.1\n",
      "number 238   200 Apache-Coyote/1.1\n",
      "number 242   200 Apache-Coyote/1.1\n",
      "number 246   200 Apache-Coyote/1.1\n",
      "number 249   200 Apache-Coyote/1.1\n",
      "number 255   200 Apache-Coyote/1.1\n",
      "number 258   200 Apache-Coyote/1.1\n",
      "number 263   200 Apache-Coyote/1.1\n",
      "number 267   200 Apache-Coyote/1.1\n",
      "number 270   200 Apache-Coyote/1.1\n",
      "number 273   200 Apache-Coyote/1.1\n",
      "number 276   200 Apache-Coyote/1.1\n",
      "number 279   200 Apache-Coyote/1.1\n",
      "number 282   200 Apache-Coyote/1.1\n",
      "number 287   200 Apache-Coyote/1.1\n",
      "number 289   200 Apache-Coyote/1.1\n",
      "number 292   200 Apache-Coyote/1.1\n",
      "number 295   200 Apache-Coyote/1.1\n",
      "number 299   200 Apache-Coyote/1.1\n",
      "number 301   200 Apache-Coyote/1.1\n",
      "number 317   200 Apache-Coyote/1.1\n",
      "number 333   200 Apache-Coyote/1.1\n",
      "number 355   200 Apache-Coyote/1.1\n",
      "number 357   200 Apache-Coyote/1.1\n",
      "number 372   200 Apache-Coyote/1.1\n",
      "number 389   200 Apache-Coyote/1.1\n",
      "number 417   200 Apache-Coyote/1.1\n",
      "number 432   200 Apache-Coyote/1.1\n",
      "number 448   200 Apache-Coyote/1.1\n",
      "number 464   200 Apache-Coyote/1.1\n",
      "number 480   200 Apache-Coyote/1.1\n",
      "number 496   200 Apache-Coyote/1.1\n",
      "number 512   200 Apache-Coyote/1.1\n"
     ]
    }
   ],
   "source": [
    "ETH = 0\n",
    "IP = 1\n",
    "TCP = 2\n",
    "df_data = []\n",
    "i = 1\n",
    "for pkt in http:\n",
    "    lst = dir(pkt)\n",
    "    if 'http' in lst:\n",
    "        if ('response_code' in (dir(pkt.http)) and 'server' in (dir(pkt.http))): \n",
    "            print(\"number\",i, \" \" ,pkt.http.response_code, pkt.http.server)            \n",
    "    i = i+1        \n",
    "#     print(i)\n",
    "#     i = i+1\n",
    "    \n",
    "#     print(pkt.http)"
   ]
  },
  {
   "cell_type": "code",
   "execution_count": null,
   "metadata": {},
   "outputs": [],
   "source": []
  }
 ],
 "metadata": {
  "kernelspec": {
   "display_name": "Python 3",
   "language": "python",
   "name": "python3"
  },
  "language_info": {
   "codemirror_mode": {
    "name": "ipython",
    "version": 3
   },
   "file_extension": ".py",
   "mimetype": "text/x-python",
   "name": "python",
   "nbconvert_exporter": "python",
   "pygments_lexer": "ipython3",
   "version": "3.6.4"
  }
 },
 "nbformat": 4,
 "nbformat_minor": 2
}
